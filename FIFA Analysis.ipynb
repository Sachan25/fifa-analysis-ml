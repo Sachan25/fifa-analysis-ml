{
 "cells": [
  {
   "cell_type": "code",
   "execution_count": 73,
   "metadata": {
    "id": "kCdw_d19tYMX"
   },
   "outputs": [
    {
     "name": "stderr",
     "output_type": "stream",
     "text": [
      "The command line is too long.\n"
     ]
    }
   ],
   "source": [
    "## **MID PROJECT** ⚽ FOOTBALL players *STATISTICS* FROM FIFA ⚽\n",
    "\n",
    "![170px-Loko-AM2018_(5).jpg](data:image/jpeg;base64,/9j/2wBDAAQDAwQDAwQEAwQFBAQFBgoHBgYGBg0JCggKDw0QEA8NDw4RExgUERIXEg4PFRwVFxkZGxsbEBQdHx0aHxgaGxr/2wBDAQQFBQYFBgwHBwwaEQ8RGhoaGhoaGhoaGhoaGhoaGhoaGhoaGhoaGhoaGhoaGhoaGhoaGhoaGhoaGhoaGhoaGhr/wAARCAE3AKoDASIAAhEBAxEB/8QAHQAAAAcBAQEAAAAAAAAAAAAAAgMEBQYHCAABCf/EAEgQAAIBAwMCAwYEAgYIAwkBAAECAwAEEQUSIQYxBxNBFCIyUWFxCBWBkVKhFyMzQmKxFkNygsHR4fA0c5IkJTZEU2OisrPx/8QAHAEAAQUBAQEAAAAAAAAAAAAAAwABAgQFBgcI/8QAMxEAAQQBAgMFBgcBAQEAAAAAAQACAxEEEiExQVEFExRxkSJhobHB8AYjMlKB0eFC8RX/2gAMAwEAAhEDEQA/AM2XurxyQsBjJqMtD50hKgHNDkiaPG/kUssowxz3GKzGEN3U8lxkaQvIYhGnvDmj0dETLGi7xggOO9NTzkDg1fjt4sLmjjvc4gqT28iSADtRzxJKwU4xUesro8EGnL2k8EenrTOCpiJ0Mw32UgstKj27sDn0pn1q0SF90YA+lGQas0aY5PPzpPfzG7TjjPNVmtcSuxdkRCNrlHLicIxH0pKsoduKN1OylJBQ4xn0pus0k8zD8UUQkbq+O0ons4KSWD7SvyqQQy4A5qO2g2Lk96doZcqKvR7Norz7tINlmLmhJ9XfI+dQxlzdYYcE1LdRO79qjhty8pP1pnmt1odmtqOlL+njHGBuAqYbIJlPvLn7VXthK0K4549adE1YwjDNWO54c6l6FHhuhg18l51FZIFZozjA4IqBtvL8k5BqX6nqouIii5+tRllUvkjj6Veito3XPThjnW1OGlyCFgWqwdH1bEQRTjd65qr0cp9qc9N1YxnazAMO3NQlZr3RMeUwlWJ7abe43yep454p2Xq11AAYYAxVcz6qGi95ssO3NNB1ibJ9+oxamikeUsebKddQOVG2g6cSOCaMlj84e6eT6UQiG2796pA+zSARuhaoeOPQVHjPknJ4pff3YKHe2FHcn0qyekfw0db9U6HNr99BD05okNs90ZdQz7RLCoLFkt197sMjeUB9KsjJixWDvXBtmhZrdRZiyTE6G2qzs5MkfKnuIB1Hpmp30x4K6Z1Rc+wdOde20eoum+2TWdDmsYbjAyQswkf3voVyefkRTd1z4XdX+GEkC9ZaV7NaXMnl2uo28ontJ2/hWQfCxAJCOFY4OAcUV08YnMBNP41/XX+FmZGFKWd7W3VRnyefdNKolCr7wzSUOccDNClMqRqzxyIrDKkqcH9aNazNLyhXUEciFl5/Sml7QKSQOaWrMSe/egs3BH71MJtTmhFKoVcClETFVOaKDADtRiv86NqAVfupJP0i0Rdt7ppqLgE0uvHyDims5JqLt1qYjCwbp0gkG3PrRVxcAZ+lEoxCYpHeSEDAPestjAZV6DLkFuDt0Xktzx270nWXJpO8hxzQEbLcVokLj2ndOAAfnIoEkBJyPSldja7jls4NKpbcxduaFYBVhwfVkJoCsBznH1rzml+0AZ7YpCRyf+dPaEBafLS/yoJNG3N2pTjmkws/KWkso2ZJ7d6p6WuNhF1FoWoPwpeDNp1FZar4k9VWoubHSroWeiwSDKNcjBkuHUjBCbgqdxu3HuoqyPE/o7rHrzXLrShdCHR7S8Z09pujFbTxFQYyVQM0hwedwIDA9sU5+AWvHQvBfpHT9JuBIkVuJr6GArlZnZpNsgY8Egg5OM5yKm1zq3t5LiMLcOzPNsUcuTlu3GB2H0Ark+0u0hj5L3RRgyN9kahdcbLfPZdpgdmOnx2BzvZO/snjdbFZ16H6Hca7Jo1xY3NpNbzSpfQRsskGxQV3t5hOAW24ZBkkjjHbU3TfR+hab03edM9T2dnrWi6jai3vIJGbEoGNpK4CgjGQylSpwRjGahwTR7PWbq+ke8sdYu12SvDcrG0sJRQyjKkhTxnHqAcinS31SRZWjwzxuGaMbwDGM8qSxHHIwf09KL2n+IJGxxvgdbiLcCOe3XfrzUMfsJ1vEraAPsm+IWSuuPBnqPozrLUNG6Y0LUdb06NxJYXrAMzQPnarnhd6coxPqu7+9StvBLxSu9Me8jk0ZJohvSxN7iaUDkK2FKZ+hIFX/farcQ9ZdSWuqTww2t0lvqNintC7SrtKsuB6bWVFbjng+tFdNeOPh5pup3Wl3vUyQXRPkSsbSVoz6H+sVCMfNhwO59a02ZD36Sx2obb9fvmqngYmRFzmaT0+/ULEi2dzJBdHUdPl0+9tbo2s0Sx4CSgElGUngn0xxwR8qbHuMetad/EakNv4hW19qlnbpZ6vHG3tkIAV/K2ouMHuke0Z9Vx8qy7rls+n6rf2j43QXUkZx9GOP5YrZx5e8Frlc3Eax+wQo5tzd80tjOR/lTJa7mk5NPKHCdxUMhxBFLc7HxmFjtQQZYPMJIFIntitOEcw34btR0qBxxg5q40+xawpmVkFo6po2YWkF4v+dPMkQGe/FNd5jHFUoz+YumyWAYYpM8i4Fe2qhpADQpMFgM7QTySDx+1dZf2q1edwXNxC3gKUWQVQCwoq7nHmYHA7UZH/AGfGaZryRhLx2zWfESXrp+0Y2txwQlLYOabWX3j9/nTjHG7x5xSB0YOwx61cXLM4KWSqm04NIHs1c+tAaO9HeB6PgiusZMDftVIRvat9xxKWrfAS9s7jw0EenSzT6vA8Vje27kFg8RlMbr/heORcD0Mb8n098ROs73Q+kry+0nUJrKWKWLe9tKEeVN+DGrYJB5zxz7uKzr0j1frXQutDUtJg81JFEd1aSf2dzHnO1vkQeVYcg/MEgptd0fS9dmM+iXt1asVPlWV3aBdnJITzFcgkZwG24PH1rHkwz4wZUryKIra9hyP99Pet/HzGOwTiY0YdqDgbcG0TzF7HyG9+5Wn0d4uWOuC6TrG8YX1mPMsbvVLhpXQMMMqSN7wwwU7QRmrV6A6s0vUbF7PSL2S7uLUx+/JGVEolJbepJ7Ft2e2MfrWMLDRru4v4bXUbe9trZjiST2fcV+xPH0yeBVh6b1TZdNez2Vhbt+XyXNul4ySF5Hh8wbzJKeDwWwqjaM5NLP7PhyJHGiXO4ftHK7ROyu0pmYjGSuYyKM0b3e7mABfvq9vgtM6T0rf9YdfaR1zqVxDDoWn2NwbK2eMF5oVaRfNLHjbIyl1A5KAE9xk+/wDB3TbfrBNZvNRu4tGmd5LmztJtsR3AYSRRwYzjKsucZI4o7rm3tho2uabqmnajLqJv1gTSrFJZ3VkRWQRRxFWkX5L7q4GWwBikHQV9a9M6cNJu+lL3RrbcyhL9PKJdyXHaWQYLFsKcFc8ZGak2MRsAYKA2HkhNe6UF5NlPXiR0V0315pOhWE8uqWul6JHd3vm2KIZfZo4CXwHBH91SOGJwQASayN4qdGx9NdVGGCZrmC7h86Of2oXKzYO3zElCRhlddjfCMFiOwFa2suprnSHutQhtH1F7G3nvJbOGVY5BaRKWkCbvdyF5AbhtuPUVjXrfrhut+o5dXtNObS9O8mK306xEnmC2to1ARN2BuY8sTgcn5AVcxTJRI4LMlZjOsSDc1SY4bMIeMUrePA+VII71i4DKVzSg3BYEAUaQPcd1bw+5iYQ0ogIwfJpwiBx3yKbDMyv8J/avTeMoyFP7VYDpA2llvgxnyF17pZMhOee9Ns9qXzz+1GNesfiQj9DRbXoyBg4qIDwbpWD3Lm6SUifTWPAJr2201kcHNOIuUx6mhqwLA9s1MvkpV44MYPsFHLEVix/Kmq4tGabJ+dOrThFwaQSXShuf51WjLmmwtbIbFLGGuOyX21uzRjHaiXsmLMcetEpqAjHDYFe/mIP94VY1vWP4OAcCtYyeENvglYv0xQB4SxAf2f8AKr69lQ+lcbRD8v2ou6wdln6fwnjJ/sh+1AXwmjc+9GD9MVoE2CmuGnR5+H+VNSm12ngs/DwiiIIaPjPHFBk8JIipUwgg8EFa0L7BGMAAV5+XofQU4USb4rP2raLqPSPSF60XmTWMRZrhnkYCOF8bwxznaSqjPO3NVx0fqdhY3AsNFtY/KRe8Tnezbs4ds/CPTPrjHrWymsLdQqXBhVLiRbZRKAVkkkO1Y8H4tx42+vP1rPmseAmmaRrPttjPqWl+deF7MWksT29oMAqDHIrb/eyNvbHFZ2RoY7fmtrCfI5mkFWt4e6baO7R6vFFDLeQSQTtGSyiGSMoQGPLcMST2z24qmv6DpNM32VzBtuLJUjnXAO3j3Wx/CwGQexHatCdNaXNE9uZ0WW9MSqdvuqWA5IHoD3x2FZ+8UvFC21XxItdW6bmWez6btvYLGaJUcXM3mebJIzHIaFG9yMEEEmRhweZ9mtfNJobwPE9EPtYxwRCRx3Hx8vmm9vB1CciMEj5LXg8HtveI/TC0a34hesJoXkey6Xjt4+F3aIJWZj2Ue+o/YU46J+IS+huJYOqOndJ1WCPaJX05Py+ZCWA9zBdHPPAcY908jvW4/CkHNYjc7HGzX/A/6mxfBxWyfKB/3e1eN4OqDjyQB/s1p5dMtriwsNS06QXel6jAs9nciPaJEIzgj0YdivoaAdKT+EftVI6mmijkb7rMD+DSkf2Q/RaRzeC4HaPt67a1X+VRnuo/agNpEZ/uj9qYEqKyoPB4cjyeQflXkvhEThvKHy+GtU/lEf8AAKLl0eLbygpElONlky58Ii7D3CPsKQ/0OOXJ2HH1FazbRYc/AKLuNMt4YmdlUYGadreaI6dzhRKymfCRU904B7cig/0Pt/Av7VbnUut2dhdBdyId2Bk0vh1O1eGNsD3lB/lUwChaieausCvdv/ZoQRj/AHTzXBG/hNQUVyihD5V21v4W/auwfkaSddgUg17XtM6W0ttU6gu1srPd5cZ2l3mk/giQcu/0HYckgc1GvEvxIsvDbRVuZ4Re6pde7ZWROA3zkcjkIMfdjwPUjJGtdQ6j1v1P+d9WXkl7KOIkk+CKMDPlonwopI7ADPrmrkGK6X2jsFSny2QnSNyrP8R/EG7601S3bTr660Gy0tzNp8ayDzILxQGiuZNuQzbwVKgkKhIByWJta58cugta0W4vL/UJ7DUZwJW0lNPlmmhuBgsqbV2FM5AbeOMZwaypHK3s8U02cshLjvyWJ/fmijHJJIXdhCpGNvr+tWsnAx5w0EEV0VPG7RyIHOdY36/RWv4h+Lt91navovTlrNomhyptuvMmU3N4P4ZCvuxx/ONSS395iPdqopEW3kZGUbVbBA+nyo6KdYncJmTHAIOBUotegdWvtKj16+tYbbQ5kEi38tzEbcDeyEvskMoOY5FVQjM8iiMDcwq5jQRQx6I6A95+7VWaXIzJbf7RUNmvQHhn8p5Io5QsIkPxSFTyB6gc0i0O4cu1zI255X8wfVjwuB92b+dPPV+man05qN3Y6ppk9nqOni3uJLG4CpJGrIGZdqlgDhu2ScYzzkCMaayXCMkWJIwoEeVyCDkjjsRjH881IkF3G1B0TogWuFELQ/hv1xd9O6pa2ryXRsWIjuLFmcBspuDCM9n25cEDJ+xNaWRo5Y0lt5FlhkUPHIhyrqRkMPoQaxpfeKPUt2sS2l41nLI0Du4fzHEsUhlWYOwDrsZjsXJxkcnitQ+G/Uh6k6b82WKG3ntptjpAMJ7w3ghf7oLb+OwxxxVLNja5glqjz+6/ta0Doo5TDFJrbyNV9/4pZtHyxXhGRQvWg5rIWggYoqU8Y70aT9qJl55NMkkMrCMFjVddb9XxaXbSe+MjOefT1qWdSakLK3dgeAM5rH/i51mbu9e1t3Pcg80dvBRKauretW1W9VoydqPkc0/W/X8a28QMzZCAdh8qpY3RY96NExwPeNSCS+m46kt+PeWhr1JbkfGh/Wslx9Xavu/8UT8sijx1jrGeLljQdKbWtYL1Hb4+JSfvXp6hgwTuXGO+aykvWmsKcG4PIoX+m2sYwbgnPrS0Ja03+O3VM2qeJ2uQOqva2M0dtFj+FYkx+xLn65NV/bTC4uiWbCbM/bd/0Bo/r6zv16juru8njea+gtr8EnBKzwJIo/QHH6U1dFW931J1VYaDp/l/mN8ZYIFmlEas4Qui7jwuSpXJ496tuJ4Yxt8FhSQPmmcGbm1IdSmD42gRoPdUmkJm/qmfPvBeT8/Snzqe90vSvO0TRXh1OWP3NQ1jbkTyAjMdqD8ECsMb/jlIySqYWolLd4XDKcYwMUey7cIMkQgd3bjZHH3Hp7/eldtKd7Ej3AMd+5q6vBL8j6wn0nS+rNU06WC3vvyhNFuIIhMyXYufKuUDN/XCK5mUrhdytKzNnbG1UHLcyRQjYRuPxEimO7uCAnmttWNt4dm2kHuCG9CPmDQZd4ywGrVzBlMU/eVY+9/Poro8ZuqbLqjrOz1K3uJ31lNGsrfXpJIioTVIo/LuIhn4tpjALdiSQM4zVXdJFdt75cYXZcMuwdkHfH2pBBBe2ttb3YhuU068DbGmidYrhV+Jo3IwxBIyVJxnnvRXR177JrOpW8zjZKnme82MlTz/ACNDhqMMYOSLml875ZX7E1t7hsPhSu/ws0nSdd680a06lt49S02/lezWFndB5jRMYzlSCDvUevcitLaLpOm9BeIGp6HpdubPStS0G01G0gMrSCN0kaORQzksecnknGayToFnqOp6lpFnoVz7LffmNrIlwJBGInEyYkJJ4wcfoK0d4+a3f6B4naZdNAbef8hYKjLgYNzICPtgg/pRcgamEe5WMLR4FziBqa8UedGhStn8wtu5Irjf2v8AhNZm/pQ1L+AfvRkXipfk48rj6GsLSVa1haV9stTxgfegNc2p4OMVnE+Kt8o5ibP0YUWfFy7HeE/vS0lLWFaXiDc2wsZhGgBCnBFYK62LLr11724Mc574q/8AqjxKnvbZ18l1ypHxcVnLqGZ7i/mmlPvOe1SFjZTbTt00Kw+dCD/UUR2oefvUk2yvqI8+uD6UeBj60ljOGGaPDcHnvSQEZXnpxQA2R/1oec9zTpJg67n/ADDVre4KtEi6faWoVju3CCFIy3HA5BIXuBjPOarfXA1heRTxgExEA45DfMfsaufX7W11DSdFgCRRTvHdpM/ZndJlaNif9iUp9l+lVHrti8aXEcwO5ckEnuRWiBcI0rO/TkkON39QD/icPzKCW0Fyk0e0xjC5GR2/b1/annprpTqDqkRzabYMbKZxHFd3UqWtu7kgBUklKhzz2TcfpUZ8NdctuneptJ1LULaK9s9O1KGa6gliEivCTh/dPBIBYj6gVtXrPxY6Kgihl03VZeotW0C+tr+CbRbI3ot1jmTcrT5WONJFYxMN/wDrQCCcAt3r3VS28DsrDlY980lUeHAkee/yVRReB2laPb+1+IvWcdvDHDPcGx6ftWu5JlhVmlRLp1EO9VjkJXBICMewNTnw96V6V0PXLXTp+hNMhv7OWeDVtW1SZ7toJ4Zpo2EcjlokKhLaQrwClzuDKFyyDpOfXOrZNOTSOgtRsOnNL0p4rC6llWecgm5FniORRC6h3mjysMmVyGz3pDadEdP69a2mo9QdSNruh6eiWk0uu3M1lYWl/NbsIEFosUUCpDcKEkRJn/xbRkUF5eTuulxIcWBgfjR/yduHvIuvIUl/4gvEbozrPo+40PS9dGua/pdxHe2q6fDJcxQquUlLTKPLVDGzZwSMhayEkhs9dt5wu/Eu3aeMhuMfzrV+oeKXRnS2l29hpEfkuPJv9R07pyJPy65nmsmtryzZt6oYw6pKjgSKpY7QTmstaZZfmXUWnWcfCmcAsTkIijlifkPU1L2jQpY3a8sc8ve6gTRBA5Ab/U+isLTdPtNRdxPFb3caDBTynmjVj3JYevyHfH0q0FluJumY7a9upZ7ayieTTle8e4WNGIV1j3jKrkL7oJGR6GozaWFlYSxLDET5bbd0TspY/PBx8vmc+lOMjf8AiZ0vGnjmj2tu4YtuABYYGTjI3dyAAScCtWRumM30K4GN5fI0NJqx80mbn9eDSuKDamSO9JrdRJLz2FOcuFQ/SudXUUmq+cIMetNxkI5PY5HejLyXzJWPp2pEzYOB/OknReorvgORxVW6/AVuD8s1acmHQg1HNR0QXDHK59afkpN4qApp7OuSBXn5a/yqYtpYRPdXOK9GmuQDtPP0oRNIlhTJXw3ejw2Pn9acx0Tryv72mXIGP/pN/wAqE/SetoCDptyD/wCS3/KrOh3RBpNYbAz6UbFg85wBS0dLaxkZsLhfvE3/ACo0dM6wnexn/SNv+VNoPRJRrX4WZtPlMqxxJL5cmecbyOcfp/lUS6lh/rpnX4Nxyf1q0bnSJIdO1MaxaJFazWUkBkuUKiJnZNsisSAHUrkEnHfPyqptTnkvo/6yaOUw+5ujOUfHG5T9e9aMViKisqZoGQCD5po0m1QaPe3ccfmTW12yyqOC0LIvGfoRuH2b51oPSfHZ+n+jujrO3ga89msHttQjSV43geNWjtnhyPKGR5Mr4yWeEZwcE1L0H03d67Drv5fEZWhlgMgCk8Mr47D/AAtSPVrOTQDeWGpjypLS427OxxtDL3+asKAwAktPJarcyfDPeQGi6h9f88lPte8fuqLu5jbpi0sulYYXuGi9m3XMqtPce0v78vu4WUsU9z3A7AHnNVrfXl/rc8Mmuahd6i8W7y2u7h5jGGYu+3cTtyzMTjHJNBiEslvult3WWfiGMDLEYBzj5civYgtsUS4GyZgWPrtx8+eO9E0sZuUCXMysoFrnE+7l6cEC5d5ZY4YEMksjBYowfec+gFWJ0106ek7S8mhW21S8u2AluobgIsSD/VoGGfiJJJxnA4wOWfSNT021Hk2t7No88uFW8mtoZIXJGNsjY8xATnkNtGfTvSqa5k0y4u4tWutS0jUYImkzbXLTQzRqQHKhuQVzkjnjPHFW4iz9d39FjTiSu6qr+P37lILe8nneSBdNeZGG7zo7tMKBznIUY+uaNkvYpYwsDEjIYgj0IypB7EHk5HyqJxa9oaW3mat1fN1CztmDTQXjhB9DINqhsfI8fQ1LyE1HRo9Qt5R5cbBNjfFhic4+gP8AmaaZ5kidpTY7BDM3UNvr/KDbzeXn0Fe3N8wiIVvipORgADGfvREjKOCw+vNYlLoETJJjvzSdWyeKMlUs2E5zXsdnOMHyjj709J14Bx9K8kZduD/nRskZQNtB49aap5CoLZxTKQtCeBZJOw5qRxadCYkPHwioRNfMjBs4xTmmsybFw+OB60GRhKFICeC+qY6OsAci2Tn6V5/obp5GPZUH2FPS6pC/Zh+9Ko7iOTsa1TNO3ireyjJ6I00//Kp+goDdEacRg24x8sVL+9cxA71DxMnVKgsmfi26at9G6G6fubC0t3f86ZSJmATm2lIYjaScbTjGME96wncWktw0pMUcUzHcZRcDbn1ypHOe3B/yr6I/jLj83wx0maGMyPBr0W7DY2q9vOmT9Mkfyr5/3kuI5kZFPBypHH1q7GTIy3LCy3aJ9ugWifwJWMeo9QeIWnXcW9XstPlwfRllmGfvhjUW/GVYQaZ452tnYaJJLI/TVk+xnVUnKyzL5pPOFACx4wMlP1M4/AVcxp4g9Z22NslxotrKBnuEncH/APotGfj+6ftIes+gdbjZ0vNR0y9sLrM+xXgt5YZI1A+e64kz8xj5VV1OEgYtAkOxrPRZInuLuKbbf6pp+nSOS0iWyl5W5ztLckD6DFMclzKs0kLyrcNj3nVcD6Af996eLiGFVCNcRxxDlbezXaCf8TYy/wDlTC8Mkf8AVQI7gn+0K8sT6mo5AKFiltH/AMSm3aSO3m5WZXUqIic7jg8frUl6j1V4upIbfQr0arpGiNJa2l5cr5ZvYyCnmMrKGAKEDBAPHPNRy0hmld3tYHbyQWCnjccgY/nT9Dctp6qz6Nb+Z6tJMM1GBpNkmlLJkAoAAlLLWLTL+ICTSbxR2JRkdf03AU4aVarolyuodM3+828ivNaPMobAIblScHHfgntTG/Vd5KwYQW+zBGxBvXHqCKFE3T+qv5V8raNcE7o5Y0JiDf4hjIH6mr4c3l/SyzG8cbHxX0y6U6H6I6+6Y0vqXpyysp9M1W3WeJo4gQCeHT6FXDKR3BUg05P4I9Nsfe023IHp5QrOP4K/EG+6R6qv/DLqHnTtWL3+jS79yCcLmREPqkiLvHPDRvxl63XtFVnzyRu0lbsRZK3UFTo8Cel85/KrbP8A5Yof9B3TQ7aXbD7RirfwPkK4qD6Ch+Kd0HojaQqPuvADpiY5OmW4P+xTRL+G3paQtu02HDcnitClAfQUDyxnsKkMk9B6JaQs13H4VekrhsmwVeP7rGgj8KfSYGPYDx/9ytL+Uv8ACK7yl+Qp/E3/AMj0S0hfMSw/FV1lZ3IN3HHIAeU3EH+dX/4Ufir0zqW7hsNZJsbxyAFkPBP0NMH4h/w/WC6Xc6toFtFbXUQLkRLtDY5PFYpy8MoZWKSxtwwOCCKPJPJCQH05pQ9NcF9n9I1WLUIEkhcOrDIIo7VLtbaBnzgAVmb8LPiLcdT9HQpqEu+4sz5LsW+LA4NW94h9Sx6X0zfXcjhVihZjz9KbwwMoLf0lEBsWs0eO/jjpvUi6j0JHC8s7SxTq5GQHibftH1IBH61k/Ui0UsnuEDcV3ocrnvjJ747Z7UNuoJNR69bWJEaQvcSvtXvtKMBjP3H2pHfYSVZLxVupl4OWPlr8go9QP50VsneA0KAKxMxv5wJ6fUq5/wAHmvvoH4gNGtUQFNd0680x2/h9wXCn97bH+9WpfxcS6JqXg91BLf6Za6pqunRJcaWZeJLaUyxq0quOQFQszDswUg5FYi8HOpbfo7xU6f6kvpFWDS47y6Zh2J9klRQP96QUHxV8XNU8TLm7imuPZtKABSB1L+cQ67V2j4iTjA7fOguEbSXO48ldgd+RSr+6mmmjEguLaGIMcQ2qBuPqabpPbpfftY2hhH+tuNqA/Xmlc+ntIkUl40zM/JQBYsD0ACgY+2aHDoLSMJRbxqFBIa4iMp/ZjimIc4qk10cY4/BIrO1nlDyXGsLHGRhvJ3MCPlkcU42kOhIy5SW7f5t6/vRsukGfa+q6hcyQx/3Ibc7UH+ygNFx670xZFY7Y3Fy68bUgJJ/fFSa0M/VQ81FzzIPYs+Q29aUnsGsT5fswghYAADIyKkWjSdOpdXE/V15qCReWiRflaxFm5IcFm7cYIIB5zVff6YWqEeydP3Uv1k2p/wADRlv1NPNL/U6AisBnaLtQR/8AiRiivex7dIdXkq7IZWO1ubfnX9q0LLqfQukurY26O1O51LSLLUoLvR5tWiCzW8ibHVpCuNvvblbGAy5OOcV9UT3NfHex13UZ0eS26ehQAbS0uoKUH3UJk8fyrev4TPFLW+rNBbpzqm6s9Wl02zSWx1C2Mm94A2zypvMALOnugSD4l7+8CWrTs1Rgjelfw3hkha7bVwFrSWa7PFdXVnrYXldXV1Okurq6upJKsvFxoU6W1Jp9oRYWJz9q+T+pSLJqV48YG1pnxjgYzX0J/FN4gRaF0heWsMi+0XA8tVB55r552FlNqd7BZ2675p5Ag+5NXskVGyPmoFak/DFdS6N09NL8AuJy6j5jtUq/ER4gPH0JdWcUoEl26xgA/wB31ozo3pU6BoVvFGoXyoh6Y9OTVBeO+ttd6xaaeGGIF3MB6GtKV3h8audUmHClW3TzXg1e3h0m1W+vroNbRQvkKS45YsPhChdxPyBoXUk15pUgW8NlM0q5JjVhx/hLMf8Agab4tSm0SSK9snaK+Ac28i/6oYKF/v7xA/U+gqKzXEtzcq0sjyszAYLFiSeP3rFjl0R6eaqSY/eSh/IKQWEtxqc/GSXxFGgP/f0rSGl+CE2ieC3WPVy2/t2t2mmi5twY9wtlWaMyTAerRxeY/wAvd5rO+mMNLuLdxkiGTcc98+tfSHws1+66p8J9Ri6Cvrez6mn0qaHTLiQjZFdtGRG7cHGGPqDz3BFWIAHte/iQjhoFNXzwj03zL248q0l1BLeRVmdUd41Ldt8vYE/z9BTs/RuoC0NxYSRwlfeMTXLSjH2cf5Grg0TrLU9B8H9a6Tksn0qB7mLRnsFGTE9owfUryZxnLSzywRZJIHCg8Cq9u3nurlPZ4jsfhC4b3z/hRQTj6nFXYmhzbKxc1vh5GsY67AJsfClD5GltImh1m1ktJNpJkgJx9/mP5j60g9vFu/m216t6G9JYY2cf+oZ/UGpdqcSi2I1a2nEKnaZHiKmFs9wQTj9cfcVFbuwvrV4/ZZo76OQFo47gbjIvqY5O5x6qeR9e9CkBCaItdx2+SRzardSKwaJV3ehUUq0q4SNN88gDNyQBk0lTV4kdk1TSZQ44zE+CP0NO9rrGj+zBfZ54XBwd9ucEffNDaQTuUWRpDKDPTdDt9XcXJawsppju91nk8tf2q0fCPxF6k8P+tNN1+G0t4bOBguoRpKXaWyLgzIq9i23LDt7yCq3h1e0Uj2cyOTjvHgCpDoerPE8skijBQxjcMLluBn6VYaAdibCqOcWbgbhfXI15UK8INek6o8KuitYuboXtzeaJaSXE/wDHN5SiQn67w2frU1rGI0ml1ANi11dXV1MnXV1dXUkl8ifFnxJu/EbqOa4Zn9kRyIU+f6Vcf4b/AAQubu8TqLXISm0DyI3X4QfX71YXhj+Euw0aW3vOoCb67U7syKdq/YVqvSunoNKskgto1jjUdgK1gBE/vZTbunRQDeqqTqrTYdD0e4nlKqkcZJyMYA5Jr5w9V6s2u9RajfltyyynZ9F9K+jH4h9N13UOkLuz6ZtvaLqdSgGcd+Kw2ngD167Io0c89+e31p8sSTMaGC0nbFVRr8E1v5M06PFDdRo1uxU7XRV2nB+jZyPTI+dXZ+CrpHSusPFTW4NZsY7yWx6buLuyaUBkhmM0MW/aRy2yVgp9DyBnBGpOnfw2aX1l4NJ0b1UhsrtV8+x1COMNLZXWP7QA43KfhdCQGX1BCsLJ/D5+HTRvAXp2+trS9fWtd1V1bUtSki8oOqZ8uKOPJ2Iu4nuWZmJJxtVaD4/DyDfhSccN1gbxy8K5fDrqi4MCbdLuHJix2Qn0+1LPALxYn6A6gjs7qZxpl0+MZ4Rj/wAK3d41+Fdt1907dWjwq0zIdjeoPpXz71LwF66069nt00eaZYnISRTyw+dWdLmSCaAWDxCiW8grx8c2u5bfq2+6aEVroV9d2GramyR4NzLcrbxqgO3BjSWEyMMj35UODg1nu3e689lieYyOCHAcgsPr9Km2u3HWOh+Gt3pXVWmXNtbXd5psEt6052IkDzyIjJjnezrzkYMQ77sVOehfBNdU0my6h6xmmjtL9FltdMt3MTyRkcPM45Xd3CLg4xkjOKUuQzFaXSbDkOaozYs2dkNZGNwBd8B9+5VzpjW2l2Ukc0sMe/3nE0o2DIxgLnH/ADqMdRaLfpdiCDT5L6x1AxmJtNzIRKWCRusPxiXLKvuFg4I4zW4OlunNC0IJFp2gaTaxj0FlG5P3ZgSf1JpD4h+FlinVXhl1F0VpcGnPP1ZYR6lBZRCKLCSrN5wjHuqcQOGwBnKnvzVOLtaLKf3ekt6b/NSl7Dlw/wAzWHddvlvyXz1bUzdN7JqqRzzrxFJu2eaPkH/ut98g9jg0bZPcFXTR7reyfHbSLsmT7qeD9xV9fjd8Ij0J4it1Npdqw6d6rdrjcqkpb6h3mjJ5x5n9qMnkmXAwtZfad2Cefudo+I5Q2JE/X1H3ool5lI49Ch/ik9v1FqKT+zy794OCFUK3+VPR1KW6YJp93JLKFObO8AV2J/gbgE/IGoxp+s+2S+XqirfMQACzeXKfqr9ifof3p5YsQBbGPU4UHv213HtuI/p86sMfYu1SkjAdRbXy+/RfST8HnV8HU3hBDZxSoZtEvZLOSEDa0W4LLtIwMYMjKP8AZ+lX/WE/wR6rNddY6o+krJFbSWfkatETuDMvv20jE87lxOgPqr4Pwit2VTmFPvqtXHJ7oWKXV2a7Ga6gqwu7UAuM0Tc3SQKSxxUdfqO3V2Bc5BI70eOF8m4CYkBSCK2jjHFH+6RjIqo/6YNKwSbheAM+8K6Pxi0v+9MNuM5zT6Wu/wCx6ptQVn3GnRXH9ooI+tJPyK2BGI0757VB4/FnSZfhul/eu/pX0zDHzxgdsHvRhqAoPHqm1BWPa2qQDCBR9qWZH0qsY/E/TW2k3cag8+84o5fE7S2yfaUGO+GFDdEXH9Q9U+oKwp4VlHIBpsl0G1lfc8asfmRUR/pO0vO32lScZzuFeDxR0gld15EmTjlgMVJrXs4OHqnsJy6t8NtG606V1jpvWYAdP1W1a3lKD3o88rIvyZWCsD81FVBYyy21tLpHUEfkatZzPDKoXC+ap9B/AwKsv+Flq0D4maWBkXcZH0YGqw661az1zqSbUunZ45LiC1txfhOwZt/lbj23Min9FHbisntWN5i70m69/I7K/hPHeaev0R6OLWdXYbQVHHyb1Bqx9G1G3Eek2zBJJPbI3APIGfdyPrzms2y+JNsLy6ttYZRlveeM5wfn/wBKlPQnU8x6t02G4uY5rJJvOMynjYg3D9TwP1rnoCRK3TxJA+K252aoiXcgtGdedCaD4k9L33TXWFit/pd2vvLna8bj4ZEburqeQR/kSK+Tvjv4H614G9ZNo+qGS90m73S6Rqfl7Vu4hjcpxwJEyAy/UMOGFfU4dd2R5Myjnn3qrzxp6e6f8auhrrp3ULlLe/R/a9HuzLt8i9RGEZb5o24owI+FiRggEdn3DguTJBC+TzICOcYpystcmgZFuh7VGi7FZj/WIv8Ahb6fI1J+p/DDXum5ILjqCxXSobpmXyvOWR45F4dDtJA55HPamxdJt7cJ5URlkY4GRuJP0qgctkZ9k35IzcKSZvtih71rL8GHUVpD4rqbZlii1rRp7R1DbS88bRyplexO1ZsH/Ea+gmRWB/wW6J07oOo65qOs6bbHqCCNZIprmHMtmCduI93wFgzZIwSDjOOK2aOsbI9pl7fxVdY45jRIwe5D8O7E/Keb/oqVE0XJJhe9Rl+sbNFyZlH+9TPqnX9lbLkyof8Af70VuM8lNqCd9ankdWSLO48VDn0e5Z2PmNyc+lNlz4l2fvMrqT6e8DTC/irbh2G/sTWxEO6bWoBCLgVVT6bAp4iUn7V5+VwsOIwKdWUMef514qj9a+bRknqrNhNi6RASCVoz8ri5wv8AOnMEAHivM/8ASn8W/qpWE3rpcB/u/wA69bSoDyFOfnk5pwz+tcc88AZpeJeeaVgprGkw+oOPuaGNHt2HY/vS8rkjNGAACnOS/wDcUrCbl0WBpEBHxMAeTVKWHiG/R/XurzanNKui6i8+n6lGoJKKrsIZQPnGRg452s/0q/hx96yf43Wa6P13rMUf9jcmO9QD081dx/Zt1dZ+GZm5Es0MpvU35Ef2PRVJnvifHIziCh9S6rcSazdrbzn2eO4PltG4ZXTuCCO4IIqzvCTUG1i51S3eY/1FnFIdjYxukKgfyrK8V7cqTHFO0cRPp2/atNfhv0eT8q17XJN3lXUsdlAWPL+WC8jH5+86L+hrX7Tgbi4UkhduKA8yR9LWlJnyS+wBV8fJW8LAD/XzfX+sNeex7D7k8o+zmnApmgGHvk1594yX959SgU3oq08W9Da/0K12KZTHIWfd6jtn/Kql6H0y0tuoxPqDo6WmWiiY8s/pn7VpjVtPW/025gJwxifaxGdp2nBrKbWsuh6lLfyTCeSF13RqnHPGc/oa7Ds3I8Tj8dxsVvYsjXRtPGtlraxP5x00uoQA2l3DGIZJEG13QMCAT6gc/vSHbe4AXULjHf46g3RfW1zqNvNZ6fdtG1/pd6qGQe7FMkDSRN8vijAP0JqdaTqUGu6VY6rZcW97Csyr/ASOV+4OR+lU+0JMnFAfG4hvDYnj/v0VTtIMMoJ5j5f+r0R3uNvt02CP4qSTaXLJ/aXU7c5xuNPA+9e7NwOKxHdo5J4yH1WXpao6dDJziaT9XNA/0dzz5j1JBGAa8IXPYfvS/wDoTn/s+qfSxCwPXNcV44oJKn1rxnArHDFCkIDnvQylFpIh47Gjg4ANMWkck4CCFI+VDwOeK4EZ5rxjzxURSSKY+9ihKOMZoZKkjNB3LnipbJVa92H51RP4jdKCQ6bqNzBm0uF9nFyg96GdASFPrtZDn1GY+2eavlWBGM1VHj7HcTdN6ZGIWlsGuXWcopYo5XCMQOcfFzXQ/h51dpRgGgbBvyP1pMRJRMbdRHLjtz29ws/FZKVYopB5jmRQ3aPDM3bgfXn7Vu/o7p2TpLpPRtDkVEmsbVVnCHcPOYl5OfX3mIz64rDNralNX9nyxkjbcAFJPB44rfmn6hJqOmWF9dRiG4u7WKaWP+B2QFh+5NdD+K9bIIhexJvzA2+ZUWe0CQ3br58r/hDy2e1e5PY0YO/OKF7uOa851NREnJByr5KsCG2nBweDg+lZa8RdQXQtc1Hp/UyUa2dQkygBbhCAySEDsxBGR2yD27VqdtpNZi/EFawp120k2cT6fbyLgcnAKn/9a7H8L6Zct8LuBbf8gj6EobsiTG9ph4miojZdcx6Zp01pp7tPePvjjmDYWNHUo/HqSrEfTOavHwK12XUNH1DT5WUrbGOaID03ZV/0yFP61laMxRyFvfYegJq7vw86vI3WclkAEgfTbk4BzkrsI/yrs+1sSM9mTNHS/Tf/ABAmmknmY93Lb1WkTn5Vyk0Mtz2oxQCMnvXjxKsog59BXe98v50cSBxQcA//AOU4T0kgGDhjg0YoPrXrxh8Fu49aMVfd4NF9opWiPJAOR3r3Jwe9KViDetCW2UH6fehuc7gUknjJIwe9eCN95bc2DgYJ4H2FHrCuTnj7VxiYn3DxTBxb0TonYyjuWr0I2PtShYGAAIxXG3bPPb50xJtJE52DjJNQrxO6ktdC6cga4SFZpbwHzJrkReWgXIIB+PDhSRxwDgjNToJjvg1V/jbo9jqmgoLzVraG6iH/ALJo6Wry3N62QS+5WGxI8hhldrEHcwwAd7sJnfZzWuG1H5V9UbHnkxpmTRmnNIIVRS+JmjI41FLXXZL2fPnw+VGlpg5A2zbtzL2AyBxn5c6H6H1ubXOjNF1G8sLjTnmtUASZkPmKFAEi7SfdODjODweO2crNfJJPHpg1gyv5piMUTuY2J7Y90IASeBjFak8LtIFn4d9OW6W81qyWzebHNGY3D+Y+SQfnwQfUYrZ7cx44cUO0UdQHPoVv9tdoSZmhrpdY3PACia6E+hqlIxLnijN4C896O9kAGAMUYLT+IiuJ1s5Bc1skHxetZ9/E1pU8d703q8aFrWW3kspHA+GVXLqD90c4/wBk1o8WYJB9PnUY8Sel4+oOguo7KWA3EgsnuLZVGWWeIb0K/Xgj6gketa3Y+b4TOjkPC6PkdvhxQ5BqaVhQuCcg5/Wri/Dz/wDH1vIx2RvZXUaZ/wBY3l5IHzwBkn7fOqvvL1rhIpZru2kuBEg/rLMb1AGFXfj3sKq4P6VZ3gNe239JOlwq8+oXd2lxAJZV2rDGIpCSq8nJCjngKGPGea9V7Qs4czT+13yKRiYPaDvl9CfvitSl+O+K8LtxzSkWpOeCK8W1JHfbXiWttqaS+YQeaF5n0ox7Ug4ByfnXnsj0S2FJHtEQFIGRXpO0e8No+WKCXUDG48/Wi2kLAgMCVPH1+lS3OyklKMrEZA+XFAYssm3b7voc0R8RHvMAT6CjgMxld5L9xj0FINHEhOhtLtkEe0lgu7gHGM479v0oKynLYyFrgoDEkuFHfPqK9JGPdQgckg035dcEtkNncrgDP6V6hO0gg59M0nM5TYNrMp+IAZwK78wXlhFIY+ADjuaj3WobBKilWdvxAH6iqt8TtRv/AP3rY6dbWkU0VjG6zNpgkluYJQwkHtGRsKMmArBh7xxtJ5s8SErgcEg96hfiL0ZN1loaJpk8en65aOr2V5ISFA3AvG+O6NjPY4Kgj1rX7EyY8LMD38Dt5XzUSLCzFounpc6lbXmnyQLNazpKWvYvOjyhyN0ZyGHHKkYPrWmPCTUr3UundVS+iWH2TV5YUEaRxoSyJK+1U91V3SHC+mf0FCSdC+K2ndRzXlp0r7ReE486ARTWzNjAk3BtufXJxz3FaE8M+mLro7pKHT9VmW61eeaW91CVH3BppDkgfQAAZHfBNdX+IciGXC0RvDiSKog/zt6JgCpntYDuRmjo/ocmkDXJTcSwIxxn0oxphIpG8fRlOa84MchUqSsk9iRmvImkhkSRWIaNgw+4ppiv0WXZKxAI9wkHB/WlCXshBZV3ZPbPAFF8NIOaQBWJ/F7pVelfEDX7G2Tbbe1G4tgBwIpR5igfbcR+lTH8MIEXiFM5+I6RdAMQOB7mcU+fiZtIZtY0q/iAEz2Hlz5wMhZG2H68Ej9BTF4IadqWka9DriWUy2qI0ckjusYMTD3yoYjcAvJPYAZJFevtvN7GBeac9hG+1miPiQqkbJZZC2JhcQeDQSa/j3LWe7I4OM14zN6Hn5U36bqlnq9lFe6Tdw39nIzCO4gOY5CrFW2n1GQRkZB9CaP3kscqQfT5CvHzjlri13JW6SkZK5JGa4I5/vLSRi4LGIZOMUNZJsDJPapDHcf0pUmWS5EIJyFZRnjJ7nHNHQSXMMMzu0cuWyhC4wOwzUfN3cxws6TExrCX5ATK5xk47A/LvzQ914Gkh3SlIGB9yMEJjJJPPK5wPpg/OtzwpIo0imuikMN3lkEhKk5DGNwVGD8vWlDXRflGVQD9mHHfFRZvNMm6KURKV3spg4Hb0HYZzzjFcUnuIH2Rb41VSFeMjPGduc5O31qJwmjmnpqkjXTLEsjlnA912Cg8+hxRrTNgyBwG2E7VGTj1wKh3sd85kM0xtlZAqRr8/TDZ55/enCGO7CrIPLkyil3fK+9tz+nY4/fHIpziMAtrlL2KT+l0JYyI2Eig539sZr1rmNfNWZABn3Rk7uBknj+VMK3lzawLhSN+52G0jAz8Wfke/IzyPnQmuWQP5kaseWOJtofPqG7cDHNQ8K21Gm2npbpZ9giVj7uT8/2ooXQmiZw6qGwASfh+4P2pljluYw0UKRxhYyuC5Hz5yP8APPfFeIkqjzi0SpCMhIdzDPHcDk+g7etIYrRunpnU+ieQjGZGyN3dgnGB9qCqMt1K8jEqXACl/p/I0mScOHlQMq4LIH90jcM88HJ9KCszOWDxbmbaUdsduw4+ZINSMb03s8AU6sCWAZvgbdt4yKLFw0ZZFhZmHOFyFIJPY01TIZJHeeLYoZUOeMEnIx8zyP8AvuYY7g7YJ1mkBPKmcjLD54B+Xwn1z9cQ8O2qJ+H+qWmMDjv5JUbi5uJQDAiwqwyWIXP2pQZ3Z2CJgrg4HoD65poCX8qQgIuWxIZUbC4PcZPf9K89vvfMk8vT3ijXaGdpAhds8qB8XYZz+nJqfcE1pAUdI6qEeOMO3RrPVU0qC89n/qnuWEYktVY5RhvUjG44B+ZFVFpmtdR3WlW+nap1RqrdPXNybmTTo51NudrY2uSu1mbGT7uCo5B7VovVbT8ys7mC5t1mjkzFIpIeOQZyAR35P+XzGabbPo3SZbq8XXNK08QXW8xGCJ8oGG3CjOyMIdpTaCcgEsR7p6fs+eJkGmQ04fL+fotSPtKaNjIti1vLgL6mqsjgCb2SXpjxR/Nb2PTOoL+x9ulCizugyCOdjwIgqcK3YLwobsACOZ201wPNUhA2cFTwQfmR6fWqYvfDGSzjuH6YjivboSAostwsMiKHLd2B97YAe/HoDjNWHoNvLYaJZWCyazq12qSve3eqXEI2kKojjt0R3Ji4kbc5DHj3RnAoZ2HivBlgcB1HXyWdI7W8uAq1J1uHHDAGQEj3jgHHHeig74/1P/roLTtLgRRPIEwhXaMrzgsfkPU4+9FlImOcx888oprBEZCjp6FCmjVYYxcAB0cSJvQMMY+EgY4xkEfPmhSTFHHlojncCN/AJwccAdsenyrq6rEY1u3UDxSaKYT+S9mwkjdgpVo8H+EDOfuOQfvyaPVLq3berYdAxfacAYwCR68+6eTk89q6up5JCwUEggsk1rHukkjG1gZAAfVsn7/T5Z9MUbHJtKoxErOWncCMAMeCSfX1H/YxXV1RieXgWmtFe1GOS3RFMkVxkR7jyxXHB+XyH+yKDDNdzM5W2LB0G0uyMCDzjBzj4T/KurqMAKGykQjNzW6QvuR4ItzDYgQgZ+2e6kYye3JxXqXO9JpYoSmwlSWIO70Ax654POBx9a6uoTv02lSMlmgdJFBDsIt8qsCCxwOxGMev27ik0s1nZI6yl08leQQTtXGPQ8nsPl6/MV1dU2DUOKcAFHzJEkpM8j3DbRsMhJJHIyf0AH60pkWFpFCrMGwxCpIAeMnnII7A9hx6fXq6qzxW9qPNFC0jlSNJPOMgBAAlG0Ngc4I4JGQMdv2pDECk/lz6enlGIIMsCzDncW+uCB9vma6uqYcdJUq2S4WHn+QHRmfPlHYwUgAYO4n4uVUj6HGBQPY7KMK8kPlxhd67eQF7/wDDv3711dQi9xNWooU1iGZ/LhABbcN4DEMxGQBnscfP9KJ/L2kkd9vKAMynbtxngYAHy+f2rq6pte4DjwThBk02OeCDzSNxMiyI7MwGcZxjGSDjH+EEZyaClpCyKZLiFXIywEOQD+1dXURj3kkWla//2Q==)\n",
    "\n",
    "\n",
    "\n",
    "\n",
    "\n",
    "\n"
   ]
  },
  {
   "cell_type": "markdown",
   "metadata": {
    "id": "ygA05KIDUG2Y"
   },
   "source": [
    "# **The source of Dataset** 📑 https://www.kaggle.com/datasets/mukeshmanral/fifa-data-for-eda-and-stats"
   ]
  },
  {
   "cell_type": "markdown",
   "metadata": {
    "id": "GgJmw8kkKJGP"
   },
   "source": [
    "## Import the essential libraries 🔽"
   ]
  },
  {
   "cell_type": "code",
   "execution_count": 74,
   "metadata": {
    "execution": {
     "iopub.execute_input": "2022-10-14T20:28:07.840548Z",
     "iopub.status.busy": "2022-10-14T20:28:07.84007Z",
     "iopub.status.idle": "2022-10-14T20:28:07.854516Z",
     "shell.execute_reply": "2022-10-14T20:28:07.853157Z",
     "shell.execute_reply.started": "2022-10-14T20:28:07.840513Z"
    },
    "id": "a0Xq4yJib_F0"
   },
   "outputs": [],
   "source": [
    "import pandas as pd\n",
    "import numpy as np\n",
    "import seaborn as sns\n",
    "import matplotlib.pyplot as plt\n",
    "%matplotlib inline \n",
    "sns.set(rc={'figure.figsize': [15, 8]}, font_scale=1.2) # Standard figure size for all\n"
   ]
  },
  {
   "cell_type": "markdown",
   "metadata": {
    "id": "lplUn7q5KTQP"
   },
   "source": [
    "## **Read** the dataset\n",
    "\n",
    "\n",
    "\n"
   ]
  },
  {
   "cell_type": "code",
   "execution_count": 75,
   "metadata": {
    "execution": {
     "iopub.execute_input": "2022-10-14T20:28:07.858263Z",
     "iopub.status.busy": "2022-10-14T20:28:07.857025Z",
     "iopub.status.idle": "2022-10-14T20:28:08.050298Z",
     "shell.execute_reply": "2022-10-14T20:28:08.049289Z",
     "shell.execute_reply.started": "2022-10-14T20:28:07.858214Z"
    },
    "id": "13fVAoslcGNm"
   },
   "outputs": [],
   "source": [
    "df=pd.read_csv('fifa_eda_stats.csv',index_col=0,na_values=True)"
   ]
  },
  {
   "cell_type": "code",
   "execution_count": 76,
   "metadata": {
    "execution": {
     "iopub.execute_input": "2022-10-14T20:28:08.052503Z",
     "iopub.status.busy": "2022-10-14T20:28:08.051868Z",
     "iopub.status.idle": "2022-10-14T20:28:08.059917Z",
     "shell.execute_reply": "2022-10-14T20:28:08.058676Z",
     "shell.execute_reply.started": "2022-10-14T20:28:08.052466Z"
    },
    "id": "LimWoDv2E-n_",
    "outputId": "c636b8ff-e148-4ef1-e577-cea1ae3c7bd4"
   },
   "outputs": [
    {
     "data": {
      "text/plain": [
       "(18207, 56)"
      ]
     },
     "execution_count": 76,
     "metadata": {},
     "output_type": "execute_result"
    }
   ],
   "source": [
    "df.shape"
   ]
  },
  {
   "cell_type": "markdown",
   "metadata": {
    "id": "FCEPyJisKhQa"
   },
   "source": [
    "### Delete duplicated rows \n",
    "\n",
    "\n",
    "\n"
   ]
  },
  {
   "cell_type": "code",
   "execution_count": 77,
   "metadata": {
    "execution": {
     "iopub.execute_input": "2022-10-14T20:28:08.063411Z",
     "iopub.status.busy": "2022-10-14T20:28:08.062982Z",
     "iopub.status.idle": "2022-10-14T20:28:08.177109Z",
     "shell.execute_reply": "2022-10-14T20:28:08.175819Z",
     "shell.execute_reply.started": "2022-10-14T20:28:08.063367Z"
    },
    "id": "6F8MI0xmYHCO",
    "outputId": "5588b0a4-0c39-467e-991e-5f289e03e653"
   },
   "outputs": [
    {
     "data": {
      "text/html": [
       "<div>\n",
       "<style scoped>\n",
       "    .dataframe tbody tr th:only-of-type {\n",
       "        vertical-align: middle;\n",
       "    }\n",
       "\n",
       "    .dataframe tbody tr th {\n",
       "        vertical-align: top;\n",
       "    }\n",
       "\n",
       "    .dataframe thead th {\n",
       "        text-align: right;\n",
       "    }\n",
       "</style>\n",
       "<table border=\"1\" class=\"dataframe\">\n",
       "  <thead>\n",
       "    <tr style=\"text-align: right;\">\n",
       "      <th></th>\n",
       "      <th>Name</th>\n",
       "      <th>Age</th>\n",
       "      <th>Nationality</th>\n",
       "      <th>Overall</th>\n",
       "      <th>Potential</th>\n",
       "      <th>Club</th>\n",
       "      <th>Value</th>\n",
       "      <th>Wage</th>\n",
       "      <th>Preferred Foot</th>\n",
       "      <th>International Reputation</th>\n",
       "      <th>...</th>\n",
       "      <th>Composure</th>\n",
       "      <th>Marking</th>\n",
       "      <th>StandingTackle</th>\n",
       "      <th>SlidingTackle</th>\n",
       "      <th>GKDiving</th>\n",
       "      <th>GKHandling</th>\n",
       "      <th>GKKicking</th>\n",
       "      <th>GKPositioning</th>\n",
       "      <th>GKReflexes</th>\n",
       "      <th>Release Clause</th>\n",
       "    </tr>\n",
       "    <tr>\n",
       "      <th>ID</th>\n",
       "      <th></th>\n",
       "      <th></th>\n",
       "      <th></th>\n",
       "      <th></th>\n",
       "      <th></th>\n",
       "      <th></th>\n",
       "      <th></th>\n",
       "      <th></th>\n",
       "      <th></th>\n",
       "      <th></th>\n",
       "      <th></th>\n",
       "      <th></th>\n",
       "      <th></th>\n",
       "      <th></th>\n",
       "      <th></th>\n",
       "      <th></th>\n",
       "      <th></th>\n",
       "      <th></th>\n",
       "      <th></th>\n",
       "      <th></th>\n",
       "      <th></th>\n",
       "    </tr>\n",
       "  </thead>\n",
       "  <tbody>\n",
       "    <tr>\n",
       "      <th>158023</th>\n",
       "      <td>L. Messi</td>\n",
       "      <td>31</td>\n",
       "      <td>Argentina</td>\n",
       "      <td>94</td>\n",
       "      <td>94</td>\n",
       "      <td>FC Barcelona</td>\n",
       "      <td>€110.5M</td>\n",
       "      <td>€565K</td>\n",
       "      <td>Left</td>\n",
       "      <td>5.0</td>\n",
       "      <td>...</td>\n",
       "      <td>96.0</td>\n",
       "      <td>33.0</td>\n",
       "      <td>28.0</td>\n",
       "      <td>26.0</td>\n",
       "      <td>6.0</td>\n",
       "      <td>11.0</td>\n",
       "      <td>15.0</td>\n",
       "      <td>14.0</td>\n",
       "      <td>8.0</td>\n",
       "      <td>€226.5M</td>\n",
       "    </tr>\n",
       "    <tr>\n",
       "      <th>20801</th>\n",
       "      <td>Cristiano Ronaldo</td>\n",
       "      <td>33</td>\n",
       "      <td>Portugal</td>\n",
       "      <td>94</td>\n",
       "      <td>94</td>\n",
       "      <td>Juventus</td>\n",
       "      <td>€77M</td>\n",
       "      <td>€405K</td>\n",
       "      <td>Right</td>\n",
       "      <td>5.0</td>\n",
       "      <td>...</td>\n",
       "      <td>95.0</td>\n",
       "      <td>28.0</td>\n",
       "      <td>31.0</td>\n",
       "      <td>23.0</td>\n",
       "      <td>7.0</td>\n",
       "      <td>11.0</td>\n",
       "      <td>15.0</td>\n",
       "      <td>14.0</td>\n",
       "      <td>11.0</td>\n",
       "      <td>€127.1M</td>\n",
       "    </tr>\n",
       "    <tr>\n",
       "      <th>190871</th>\n",
       "      <td>Neymar Jr</td>\n",
       "      <td>26</td>\n",
       "      <td>Brazil</td>\n",
       "      <td>92</td>\n",
       "      <td>93</td>\n",
       "      <td>Paris Saint-Germain</td>\n",
       "      <td>€118.5M</td>\n",
       "      <td>€290K</td>\n",
       "      <td>Right</td>\n",
       "      <td>5.0</td>\n",
       "      <td>...</td>\n",
       "      <td>94.0</td>\n",
       "      <td>27.0</td>\n",
       "      <td>24.0</td>\n",
       "      <td>33.0</td>\n",
       "      <td>9.0</td>\n",
       "      <td>9.0</td>\n",
       "      <td>15.0</td>\n",
       "      <td>15.0</td>\n",
       "      <td>11.0</td>\n",
       "      <td>€228.1M</td>\n",
       "    </tr>\n",
       "    <tr>\n",
       "      <th>193080</th>\n",
       "      <td>De Gea</td>\n",
       "      <td>27</td>\n",
       "      <td>Spain</td>\n",
       "      <td>91</td>\n",
       "      <td>93</td>\n",
       "      <td>Manchester United</td>\n",
       "      <td>€72M</td>\n",
       "      <td>€260K</td>\n",
       "      <td>Right</td>\n",
       "      <td>4.0</td>\n",
       "      <td>...</td>\n",
       "      <td>68.0</td>\n",
       "      <td>15.0</td>\n",
       "      <td>21.0</td>\n",
       "      <td>13.0</td>\n",
       "      <td>90.0</td>\n",
       "      <td>85.0</td>\n",
       "      <td>87.0</td>\n",
       "      <td>88.0</td>\n",
       "      <td>94.0</td>\n",
       "      <td>€138.6M</td>\n",
       "    </tr>\n",
       "    <tr>\n",
       "      <th>192985</th>\n",
       "      <td>K. De Bruyne</td>\n",
       "      <td>27</td>\n",
       "      <td>Belgium</td>\n",
       "      <td>91</td>\n",
       "      <td>92</td>\n",
       "      <td>Manchester City</td>\n",
       "      <td>€102M</td>\n",
       "      <td>€355K</td>\n",
       "      <td>Right</td>\n",
       "      <td>4.0</td>\n",
       "      <td>...</td>\n",
       "      <td>88.0</td>\n",
       "      <td>68.0</td>\n",
       "      <td>58.0</td>\n",
       "      <td>51.0</td>\n",
       "      <td>15.0</td>\n",
       "      <td>13.0</td>\n",
       "      <td>5.0</td>\n",
       "      <td>10.0</td>\n",
       "      <td>13.0</td>\n",
       "      <td>€196.4M</td>\n",
       "    </tr>\n",
       "    <tr>\n",
       "      <th>...</th>\n",
       "      <td>...</td>\n",
       "      <td>...</td>\n",
       "      <td>...</td>\n",
       "      <td>...</td>\n",
       "      <td>...</td>\n",
       "      <td>...</td>\n",
       "      <td>...</td>\n",
       "      <td>...</td>\n",
       "      <td>...</td>\n",
       "      <td>...</td>\n",
       "      <td>...</td>\n",
       "      <td>...</td>\n",
       "      <td>...</td>\n",
       "      <td>...</td>\n",
       "      <td>...</td>\n",
       "      <td>...</td>\n",
       "      <td>...</td>\n",
       "      <td>...</td>\n",
       "      <td>...</td>\n",
       "      <td>...</td>\n",
       "      <td>...</td>\n",
       "    </tr>\n",
       "    <tr>\n",
       "      <th>238813</th>\n",
       "      <td>J. Lundstram</td>\n",
       "      <td>19</td>\n",
       "      <td>England</td>\n",
       "      <td>47</td>\n",
       "      <td>65</td>\n",
       "      <td>Crewe Alexandra</td>\n",
       "      <td>€60K</td>\n",
       "      <td>€1K</td>\n",
       "      <td>Right</td>\n",
       "      <td>NaN</td>\n",
       "      <td>...</td>\n",
       "      <td>45.0</td>\n",
       "      <td>40.0</td>\n",
       "      <td>48.0</td>\n",
       "      <td>47.0</td>\n",
       "      <td>10.0</td>\n",
       "      <td>13.0</td>\n",
       "      <td>7.0</td>\n",
       "      <td>8.0</td>\n",
       "      <td>9.0</td>\n",
       "      <td>€143K</td>\n",
       "    </tr>\n",
       "    <tr>\n",
       "      <th>243165</th>\n",
       "      <td>N. Christoffersson</td>\n",
       "      <td>19</td>\n",
       "      <td>Sweden</td>\n",
       "      <td>47</td>\n",
       "      <td>63</td>\n",
       "      <td>Trelleborgs FF</td>\n",
       "      <td>€60K</td>\n",
       "      <td>€1K</td>\n",
       "      <td>Right</td>\n",
       "      <td>NaN</td>\n",
       "      <td>...</td>\n",
       "      <td>42.0</td>\n",
       "      <td>22.0</td>\n",
       "      <td>15.0</td>\n",
       "      <td>19.0</td>\n",
       "      <td>10.0</td>\n",
       "      <td>9.0</td>\n",
       "      <td>9.0</td>\n",
       "      <td>5.0</td>\n",
       "      <td>12.0</td>\n",
       "      <td>€113K</td>\n",
       "    </tr>\n",
       "    <tr>\n",
       "      <th>241638</th>\n",
       "      <td>B. Worman</td>\n",
       "      <td>16</td>\n",
       "      <td>England</td>\n",
       "      <td>47</td>\n",
       "      <td>67</td>\n",
       "      <td>Cambridge United</td>\n",
       "      <td>€60K</td>\n",
       "      <td>€1K</td>\n",
       "      <td>Right</td>\n",
       "      <td>NaN</td>\n",
       "      <td>...</td>\n",
       "      <td>41.0</td>\n",
       "      <td>32.0</td>\n",
       "      <td>13.0</td>\n",
       "      <td>11.0</td>\n",
       "      <td>6.0</td>\n",
       "      <td>5.0</td>\n",
       "      <td>10.0</td>\n",
       "      <td>6.0</td>\n",
       "      <td>13.0</td>\n",
       "      <td>€165K</td>\n",
       "    </tr>\n",
       "    <tr>\n",
       "      <th>246268</th>\n",
       "      <td>D. Walker-Rice</td>\n",
       "      <td>17</td>\n",
       "      <td>England</td>\n",
       "      <td>47</td>\n",
       "      <td>66</td>\n",
       "      <td>Tranmere Rovers</td>\n",
       "      <td>€60K</td>\n",
       "      <td>€1K</td>\n",
       "      <td>Right</td>\n",
       "      <td>NaN</td>\n",
       "      <td>...</td>\n",
       "      <td>46.0</td>\n",
       "      <td>20.0</td>\n",
       "      <td>25.0</td>\n",
       "      <td>27.0</td>\n",
       "      <td>14.0</td>\n",
       "      <td>6.0</td>\n",
       "      <td>14.0</td>\n",
       "      <td>8.0</td>\n",
       "      <td>9.0</td>\n",
       "      <td>€143K</td>\n",
       "    </tr>\n",
       "    <tr>\n",
       "      <th>246269</th>\n",
       "      <td>G. Nugent</td>\n",
       "      <td>16</td>\n",
       "      <td>England</td>\n",
       "      <td>46</td>\n",
       "      <td>66</td>\n",
       "      <td>Tranmere Rovers</td>\n",
       "      <td>€60K</td>\n",
       "      <td>€1K</td>\n",
       "      <td>Right</td>\n",
       "      <td>NaN</td>\n",
       "      <td>...</td>\n",
       "      <td>43.0</td>\n",
       "      <td>40.0</td>\n",
       "      <td>43.0</td>\n",
       "      <td>50.0</td>\n",
       "      <td>10.0</td>\n",
       "      <td>15.0</td>\n",
       "      <td>9.0</td>\n",
       "      <td>12.0</td>\n",
       "      <td>9.0</td>\n",
       "      <td>€165K</td>\n",
       "    </tr>\n",
       "  </tbody>\n",
       "</table>\n",
       "<p>18207 rows × 56 columns</p>\n",
       "</div>"
      ],
      "text/plain": [
       "                      Name  Age Nationality  Overall  Potential  \\\n",
       "ID                                                                \n",
       "158023            L. Messi   31   Argentina       94         94   \n",
       "20801    Cristiano Ronaldo   33    Portugal       94         94   \n",
       "190871           Neymar Jr   26      Brazil       92         93   \n",
       "193080              De Gea   27       Spain       91         93   \n",
       "192985        K. De Bruyne   27     Belgium       91         92   \n",
       "...                    ...  ...         ...      ...        ...   \n",
       "238813        J. Lundstram   19     England       47         65   \n",
       "243165  N. Christoffersson   19      Sweden       47         63   \n",
       "241638           B. Worman   16     England       47         67   \n",
       "246268      D. Walker-Rice   17     England       47         66   \n",
       "246269           G. Nugent   16     England       46         66   \n",
       "\n",
       "                       Club    Value   Wage Preferred Foot  \\\n",
       "ID                                                           \n",
       "158023         FC Barcelona  €110.5M  €565K           Left   \n",
       "20801              Juventus     €77M  €405K          Right   \n",
       "190871  Paris Saint-Germain  €118.5M  €290K          Right   \n",
       "193080    Manchester United     €72M  €260K          Right   \n",
       "192985      Manchester City    €102M  €355K          Right   \n",
       "...                     ...      ...    ...            ...   \n",
       "238813      Crewe Alexandra     €60K    €1K          Right   \n",
       "243165       Trelleborgs FF     €60K    €1K          Right   \n",
       "241638     Cambridge United     €60K    €1K          Right   \n",
       "246268      Tranmere Rovers     €60K    €1K          Right   \n",
       "246269      Tranmere Rovers     €60K    €1K          Right   \n",
       "\n",
       "        International Reputation  ...  Composure  Marking StandingTackle  \\\n",
       "ID                                ...                                      \n",
       "158023                       5.0  ...       96.0     33.0           28.0   \n",
       "20801                        5.0  ...       95.0     28.0           31.0   \n",
       "190871                       5.0  ...       94.0     27.0           24.0   \n",
       "193080                       4.0  ...       68.0     15.0           21.0   \n",
       "192985                       4.0  ...       88.0     68.0           58.0   \n",
       "...                          ...  ...        ...      ...            ...   \n",
       "238813                       NaN  ...       45.0     40.0           48.0   \n",
       "243165                       NaN  ...       42.0     22.0           15.0   \n",
       "241638                       NaN  ...       41.0     32.0           13.0   \n",
       "246268                       NaN  ...       46.0     20.0           25.0   \n",
       "246269                       NaN  ...       43.0     40.0           43.0   \n",
       "\n",
       "       SlidingTackle GKDiving  GKHandling GKKicking GKPositioning GKReflexes  \\\n",
       "ID                                                                             \n",
       "158023          26.0      6.0        11.0      15.0          14.0        8.0   \n",
       "20801           23.0      7.0        11.0      15.0          14.0       11.0   \n",
       "190871          33.0      9.0         9.0      15.0          15.0       11.0   \n",
       "193080          13.0     90.0        85.0      87.0          88.0       94.0   \n",
       "192985          51.0     15.0        13.0       5.0          10.0       13.0   \n",
       "...              ...      ...         ...       ...           ...        ...   \n",
       "238813          47.0     10.0        13.0       7.0           8.0        9.0   \n",
       "243165          19.0     10.0         9.0       9.0           5.0       12.0   \n",
       "241638          11.0      6.0         5.0      10.0           6.0       13.0   \n",
       "246268          27.0     14.0         6.0      14.0           8.0        9.0   \n",
       "246269          50.0     10.0        15.0       9.0          12.0        9.0   \n",
       "\n",
       "       Release Clause  \n",
       "ID                     \n",
       "158023        €226.5M  \n",
       "20801         €127.1M  \n",
       "190871        €228.1M  \n",
       "193080        €138.6M  \n",
       "192985        €196.4M  \n",
       "...               ...  \n",
       "238813          €143K  \n",
       "243165          €113K  \n",
       "241638          €165K  \n",
       "246268          €143K  \n",
       "246269          €165K  \n",
       "\n",
       "[18207 rows x 56 columns]"
      ]
     },
     "execution_count": 77,
     "metadata": {},
     "output_type": "execute_result"
    }
   ],
   "source": [
    "df.drop_duplicates()"
   ]
  },
  {
   "cell_type": "code",
   "execution_count": 78,
   "metadata": {
    "execution": {
     "iopub.execute_input": "2022-10-14T20:28:08.178677Z",
     "iopub.status.busy": "2022-10-14T20:28:08.178322Z",
     "iopub.status.idle": "2022-10-14T20:28:08.217684Z",
     "shell.execute_reply": "2022-10-14T20:28:08.216629Z",
     "shell.execute_reply.started": "2022-10-14T20:28:08.178649Z"
    },
    "id": "xZvoahMf4s-v",
    "outputId": "618bf8e1-e56c-49fb-d484-97277551855d"
   },
   "outputs": [
    {
     "data": {
      "text/html": [
       "<div>\n",
       "<style scoped>\n",
       "    .dataframe tbody tr th:only-of-type {\n",
       "        vertical-align: middle;\n",
       "    }\n",
       "\n",
       "    .dataframe tbody tr th {\n",
       "        vertical-align: top;\n",
       "    }\n",
       "\n",
       "    .dataframe thead th {\n",
       "        text-align: right;\n",
       "    }\n",
       "</style>\n",
       "<table border=\"1\" class=\"dataframe\">\n",
       "  <thead>\n",
       "    <tr style=\"text-align: right;\">\n",
       "      <th></th>\n",
       "      <th>Name</th>\n",
       "      <th>Age</th>\n",
       "      <th>Nationality</th>\n",
       "      <th>Overall</th>\n",
       "      <th>Potential</th>\n",
       "      <th>Club</th>\n",
       "      <th>Value</th>\n",
       "      <th>Wage</th>\n",
       "      <th>Preferred Foot</th>\n",
       "      <th>International Reputation</th>\n",
       "      <th>...</th>\n",
       "      <th>Composure</th>\n",
       "      <th>Marking</th>\n",
       "      <th>StandingTackle</th>\n",
       "      <th>SlidingTackle</th>\n",
       "      <th>GKDiving</th>\n",
       "      <th>GKHandling</th>\n",
       "      <th>GKKicking</th>\n",
       "      <th>GKPositioning</th>\n",
       "      <th>GKReflexes</th>\n",
       "      <th>Release Clause</th>\n",
       "    </tr>\n",
       "    <tr>\n",
       "      <th>ID</th>\n",
       "      <th></th>\n",
       "      <th></th>\n",
       "      <th></th>\n",
       "      <th></th>\n",
       "      <th></th>\n",
       "      <th></th>\n",
       "      <th></th>\n",
       "      <th></th>\n",
       "      <th></th>\n",
       "      <th></th>\n",
       "      <th></th>\n",
       "      <th></th>\n",
       "      <th></th>\n",
       "      <th></th>\n",
       "      <th></th>\n",
       "      <th></th>\n",
       "      <th></th>\n",
       "      <th></th>\n",
       "      <th></th>\n",
       "      <th></th>\n",
       "      <th></th>\n",
       "    </tr>\n",
       "  </thead>\n",
       "  <tbody>\n",
       "    <tr>\n",
       "      <th>220253</th>\n",
       "      <td>Munir</td>\n",
       "      <td>22</td>\n",
       "      <td>Spain</td>\n",
       "      <td>77</td>\n",
       "      <td>83</td>\n",
       "      <td>FC Barcelona</td>\n",
       "      <td>€12.5M</td>\n",
       "      <td>€115K</td>\n",
       "      <td>Left</td>\n",
       "      <td>2.0</td>\n",
       "      <td>...</td>\n",
       "      <td>76.0</td>\n",
       "      <td>38.0</td>\n",
       "      <td>24.0</td>\n",
       "      <td>22.0</td>\n",
       "      <td>9.0</td>\n",
       "      <td>12.0</td>\n",
       "      <td>6.0</td>\n",
       "      <td>13.0</td>\n",
       "      <td>16.0</td>\n",
       "      <td>€28.1M</td>\n",
       "    </tr>\n",
       "    <tr>\n",
       "      <th>228687</th>\n",
       "      <td>K. Dolberg</td>\n",
       "      <td>20</td>\n",
       "      <td>Denmark</td>\n",
       "      <td>76</td>\n",
       "      <td>85</td>\n",
       "      <td>Ajax</td>\n",
       "      <td>€12M</td>\n",
       "      <td>€15K</td>\n",
       "      <td>Right</td>\n",
       "      <td>2.0</td>\n",
       "      <td>...</td>\n",
       "      <td>77.0</td>\n",
       "      <td>28.0</td>\n",
       "      <td>24.0</td>\n",
       "      <td>19.0</td>\n",
       "      <td>7.0</td>\n",
       "      <td>15.0</td>\n",
       "      <td>13.0</td>\n",
       "      <td>9.0</td>\n",
       "      <td>7.0</td>\n",
       "      <td>€19.2M</td>\n",
       "    </tr>\n",
       "    <tr>\n",
       "      <th>215556</th>\n",
       "      <td>E. Fernandes</td>\n",
       "      <td>22</td>\n",
       "      <td>Switzerland</td>\n",
       "      <td>71</td>\n",
       "      <td>79</td>\n",
       "      <td>Fiorentina</td>\n",
       "      <td>€3.5M</td>\n",
       "      <td>€36K</td>\n",
       "      <td>Right</td>\n",
       "      <td>NaN</td>\n",
       "      <td>...</td>\n",
       "      <td>63.0</td>\n",
       "      <td>52.0</td>\n",
       "      <td>60.0</td>\n",
       "      <td>55.0</td>\n",
       "      <td>12.0</td>\n",
       "      <td>7.0</td>\n",
       "      <td>13.0</td>\n",
       "      <td>15.0</td>\n",
       "      <td>13.0</td>\n",
       "      <td>NaN</td>\n",
       "    </tr>\n",
       "    <tr>\n",
       "      <th>193346</th>\n",
       "      <td>G. Hupperts</td>\n",
       "      <td>26</td>\n",
       "      <td>Netherlands</td>\n",
       "      <td>67</td>\n",
       "      <td>68</td>\n",
       "      <td>Sporting Lokeren</td>\n",
       "      <td>€900K</td>\n",
       "      <td>€5K</td>\n",
       "      <td>Right</td>\n",
       "      <td>NaN</td>\n",
       "      <td>...</td>\n",
       "      <td>57.0</td>\n",
       "      <td>39.0</td>\n",
       "      <td>41.0</td>\n",
       "      <td>37.0</td>\n",
       "      <td>10.0</td>\n",
       "      <td>9.0</td>\n",
       "      <td>15.0</td>\n",
       "      <td>7.0</td>\n",
       "      <td>14.0</td>\n",
       "      <td>€1.4M</td>\n",
       "    </tr>\n",
       "    <tr>\n",
       "      <th>207754</th>\n",
       "      <td>K. Mayi</td>\n",
       "      <td>25</td>\n",
       "      <td>France</td>\n",
       "      <td>66</td>\n",
       "      <td>70</td>\n",
       "      <td>Stade Brestois 29</td>\n",
       "      <td>€850K</td>\n",
       "      <td>€3K</td>\n",
       "      <td>Right</td>\n",
       "      <td>NaN</td>\n",
       "      <td>...</td>\n",
       "      <td>50.0</td>\n",
       "      <td>24.0</td>\n",
       "      <td>19.0</td>\n",
       "      <td>14.0</td>\n",
       "      <td>12.0</td>\n",
       "      <td>7.0</td>\n",
       "      <td>7.0</td>\n",
       "      <td>13.0</td>\n",
       "      <td>8.0</td>\n",
       "      <td>€1.6M</td>\n",
       "    </tr>\n",
       "    <tr>\n",
       "      <th>34079</th>\n",
       "      <td>A. Cole</td>\n",
       "      <td>37</td>\n",
       "      <td>England</td>\n",
       "      <td>71</td>\n",
       "      <td>71</td>\n",
       "      <td>LA Galaxy</td>\n",
       "      <td>€270K</td>\n",
       "      <td>€4K</td>\n",
       "      <td>Left</td>\n",
       "      <td>3.0</td>\n",
       "      <td>...</td>\n",
       "      <td>73.0</td>\n",
       "      <td>70.0</td>\n",
       "      <td>67.0</td>\n",
       "      <td>71.0</td>\n",
       "      <td>14.0</td>\n",
       "      <td>7.0</td>\n",
       "      <td>14.0</td>\n",
       "      <td>6.0</td>\n",
       "      <td>6.0</td>\n",
       "      <td>€405K</td>\n",
       "    </tr>\n",
       "    <tr>\n",
       "      <th>206601</th>\n",
       "      <td>M. Sampirisi</td>\n",
       "      <td>25</td>\n",
       "      <td>Italy</td>\n",
       "      <td>70</td>\n",
       "      <td>73</td>\n",
       "      <td>Crotone</td>\n",
       "      <td>€1.8M</td>\n",
       "      <td>€3K</td>\n",
       "      <td>Right</td>\n",
       "      <td>NaN</td>\n",
       "      <td>...</td>\n",
       "      <td>63.0</td>\n",
       "      <td>68.0</td>\n",
       "      <td>75.0</td>\n",
       "      <td>72.0</td>\n",
       "      <td>8.0</td>\n",
       "      <td>8.0</td>\n",
       "      <td>12.0</td>\n",
       "      <td>6.0</td>\n",
       "      <td>6.0</td>\n",
       "      <td>€3.1M</td>\n",
       "    </tr>\n",
       "    <tr>\n",
       "      <th>186561</th>\n",
       "      <td>A. Ramsey</td>\n",
       "      <td>27</td>\n",
       "      <td>Wales</td>\n",
       "      <td>82</td>\n",
       "      <td>83</td>\n",
       "      <td>Arsenal</td>\n",
       "      <td>€25M</td>\n",
       "      <td>€130K</td>\n",
       "      <td>Right</td>\n",
       "      <td>3.0</td>\n",
       "      <td>...</td>\n",
       "      <td>81.0</td>\n",
       "      <td>66.0</td>\n",
       "      <td>70.0</td>\n",
       "      <td>67.0</td>\n",
       "      <td>6.0</td>\n",
       "      <td>11.0</td>\n",
       "      <td>5.0</td>\n",
       "      <td>10.0</td>\n",
       "      <td>8.0</td>\n",
       "      <td>€49.4M</td>\n",
       "    </tr>\n",
       "    <tr>\n",
       "      <th>231603</th>\n",
       "      <td>J. Adelson</td>\n",
       "      <td>22</td>\n",
       "      <td>Australia</td>\n",
       "      <td>57</td>\n",
       "      <td>67</td>\n",
       "      <td>Newcastle Jets</td>\n",
       "      <td>€140K</td>\n",
       "      <td>€1K</td>\n",
       "      <td>Right</td>\n",
       "      <td>NaN</td>\n",
       "      <td>...</td>\n",
       "      <td>54.0</td>\n",
       "      <td>51.0</td>\n",
       "      <td>56.0</td>\n",
       "      <td>47.0</td>\n",
       "      <td>8.0</td>\n",
       "      <td>12.0</td>\n",
       "      <td>7.0</td>\n",
       "      <td>6.0</td>\n",
       "      <td>8.0</td>\n",
       "      <td>€203K</td>\n",
       "    </tr>\n",
       "    <tr>\n",
       "      <th>232718</th>\n",
       "      <td>Y. Takahashi</td>\n",
       "      <td>33</td>\n",
       "      <td>Japan</td>\n",
       "      <td>66</td>\n",
       "      <td>66</td>\n",
       "      <td>Sagan Tosu</td>\n",
       "      <td>€260K</td>\n",
       "      <td>€2K</td>\n",
       "      <td>Right</td>\n",
       "      <td>NaN</td>\n",
       "      <td>...</td>\n",
       "      <td>61.0</td>\n",
       "      <td>64.0</td>\n",
       "      <td>64.0</td>\n",
       "      <td>64.0</td>\n",
       "      <td>6.0</td>\n",
       "      <td>14.0</td>\n",
       "      <td>9.0</td>\n",
       "      <td>11.0</td>\n",
       "      <td>9.0</td>\n",
       "      <td>€325K</td>\n",
       "    </tr>\n",
       "  </tbody>\n",
       "</table>\n",
       "<p>10 rows × 56 columns</p>\n",
       "</div>"
      ],
      "text/plain": [
       "                Name  Age  Nationality  Overall  Potential               Club  \\\n",
       "ID                                                                              \n",
       "220253         Munir   22        Spain       77         83       FC Barcelona   \n",
       "228687    K. Dolberg   20      Denmark       76         85               Ajax   \n",
       "215556  E. Fernandes   22  Switzerland       71         79         Fiorentina   \n",
       "193346   G. Hupperts   26  Netherlands       67         68   Sporting Lokeren   \n",
       "207754       K. Mayi   25       France       66         70  Stade Brestois 29   \n",
       "34079        A. Cole   37      England       71         71          LA Galaxy   \n",
       "206601  M. Sampirisi   25        Italy       70         73            Crotone   \n",
       "186561     A. Ramsey   27        Wales       82         83            Arsenal   \n",
       "231603    J. Adelson   22    Australia       57         67     Newcastle Jets   \n",
       "232718  Y. Takahashi   33        Japan       66         66         Sagan Tosu   \n",
       "\n",
       "         Value   Wage Preferred Foot  International Reputation  ...  \\\n",
       "ID                                                              ...   \n",
       "220253  €12.5M  €115K           Left                       2.0  ...   \n",
       "228687    €12M   €15K          Right                       2.0  ...   \n",
       "215556   €3.5M   €36K          Right                       NaN  ...   \n",
       "193346   €900K    €5K          Right                       NaN  ...   \n",
       "207754   €850K    €3K          Right                       NaN  ...   \n",
       "34079    €270K    €4K           Left                       3.0  ...   \n",
       "206601   €1.8M    €3K          Right                       NaN  ...   \n",
       "186561    €25M  €130K          Right                       3.0  ...   \n",
       "231603   €140K    €1K          Right                       NaN  ...   \n",
       "232718   €260K    €2K          Right                       NaN  ...   \n",
       "\n",
       "        Composure  Marking StandingTackle SlidingTackle GKDiving  GKHandling  \\\n",
       "ID                                                                             \n",
       "220253       76.0     38.0           24.0          22.0      9.0        12.0   \n",
       "228687       77.0     28.0           24.0          19.0      7.0        15.0   \n",
       "215556       63.0     52.0           60.0          55.0     12.0         7.0   \n",
       "193346       57.0     39.0           41.0          37.0     10.0         9.0   \n",
       "207754       50.0     24.0           19.0          14.0     12.0         7.0   \n",
       "34079        73.0     70.0           67.0          71.0     14.0         7.0   \n",
       "206601       63.0     68.0           75.0          72.0      8.0         8.0   \n",
       "186561       81.0     66.0           70.0          67.0      6.0        11.0   \n",
       "231603       54.0     51.0           56.0          47.0      8.0        12.0   \n",
       "232718       61.0     64.0           64.0          64.0      6.0        14.0   \n",
       "\n",
       "       GKKicking GKPositioning GKReflexes Release Clause  \n",
       "ID                                                        \n",
       "220253       6.0          13.0       16.0         €28.1M  \n",
       "228687      13.0           9.0        7.0         €19.2M  \n",
       "215556      13.0          15.0       13.0            NaN  \n",
       "193346      15.0           7.0       14.0          €1.4M  \n",
       "207754       7.0          13.0        8.0          €1.6M  \n",
       "34079       14.0           6.0        6.0          €405K  \n",
       "206601      12.0           6.0        6.0          €3.1M  \n",
       "186561       5.0          10.0        8.0         €49.4M  \n",
       "231603       7.0           6.0        8.0          €203K  \n",
       "232718       9.0          11.0        9.0          €325K  \n",
       "\n",
       "[10 rows x 56 columns]"
      ]
     },
     "execution_count": 78,
     "metadata": {},
     "output_type": "execute_result"
    }
   ],
   "source": [
    "df.sample(10)"
   ]
  },
  {
   "cell_type": "markdown",
   "metadata": {
    "id": "cmj2RFYUyQ6o"
   },
   "source": [
    "# Exporing the data 😊"
   ]
  },
  {
   "cell_type": "code",
   "execution_count": 79,
   "metadata": {
    "execution": {
     "iopub.execute_input": "2022-10-14T20:28:08.220176Z",
     "iopub.status.busy": "2022-10-14T20:28:08.219075Z",
     "iopub.status.idle": "2022-10-14T20:28:08.252961Z",
     "shell.execute_reply": "2022-10-14T20:28:08.25173Z",
     "shell.execute_reply.started": "2022-10-14T20:28:08.220117Z"
    },
    "id": "Yjgsf0vohcvG",
    "outputId": "f05dcce0-0cd7-4414-80c1-d16a49dc313b"
   },
   "outputs": [
    {
     "name": "stdout",
     "output_type": "stream",
     "text": [
      "<class 'pandas.core.frame.DataFrame'>\n",
      "Int64Index: 18207 entries, 158023 to 246269\n",
      "Data columns (total 56 columns):\n",
      " #   Column                    Non-Null Count  Dtype  \n",
      "---  ------                    --------------  -----  \n",
      " 0   Name                      18207 non-null  object \n",
      " 1   Age                       18207 non-null  int64  \n",
      " 2   Nationality               18207 non-null  object \n",
      " 3   Overall                   18207 non-null  int64  \n",
      " 4   Potential                 18207 non-null  int64  \n",
      " 5   Club                      17966 non-null  object \n",
      " 6   Value                     18207 non-null  object \n",
      " 7   Wage                      18207 non-null  object \n",
      " 8   Preferred Foot            18159 non-null  object \n",
      " 9   International Reputation  1627 non-null   float64\n",
      " 10  Weak Foot                 18001 non-null  float64\n",
      " 11  Skill Moves               16133 non-null  float64\n",
      " 12  Work Rate                 18159 non-null  object \n",
      " 13  Body Type                 18159 non-null  object \n",
      " 14  Position                  18147 non-null  object \n",
      " 15  Jersey Number             17581 non-null  float64\n",
      " 16  Joined                    16654 non-null  object \n",
      " 17  Loaned From               1264 non-null   object \n",
      " 18  Contract Valid Until      17918 non-null  object \n",
      " 19  Height                    18159 non-null  object \n",
      " 20  Weight                    18159 non-null  object \n",
      " 21  Crossing                  18159 non-null  float64\n",
      " 22  Finishing                 18159 non-null  float64\n",
      " 23  HeadingAccuracy           18159 non-null  float64\n",
      " 24  ShortPassing              18159 non-null  float64\n",
      " 25  Volleys                   18159 non-null  float64\n",
      " 26  Dribbling                 18159 non-null  float64\n",
      " 27  Curve                     18159 non-null  float64\n",
      " 28  FKAccuracy                18159 non-null  float64\n",
      " 29  LongPassing               18159 non-null  float64\n",
      " 30  BallControl               18159 non-null  float64\n",
      " 31  Acceleration              18159 non-null  float64\n",
      " 32  SprintSpeed               18159 non-null  float64\n",
      " 33  Agility                   18159 non-null  float64\n",
      " 34  Reactions                 18159 non-null  float64\n",
      " 35  Balance                   18159 non-null  float64\n",
      " 36  ShotPower                 18159 non-null  float64\n",
      " 37  Jumping                   18159 non-null  float64\n",
      " 38  Stamina                   18159 non-null  float64\n",
      " 39  Strength                  18159 non-null  float64\n",
      " 40  LongShots                 18159 non-null  float64\n",
      " 41  Aggression                18159 non-null  float64\n",
      " 42  Interceptions             18159 non-null  float64\n",
      " 43  Positioning               18159 non-null  float64\n",
      " 44  Vision                    18159 non-null  float64\n",
      " 45  Penalties                 18159 non-null  float64\n",
      " 46  Composure                 18159 non-null  float64\n",
      " 47  Marking                   18159 non-null  float64\n",
      " 48  StandingTackle            18159 non-null  float64\n",
      " 49  SlidingTackle             18159 non-null  float64\n",
      " 50  GKDiving                  18132 non-null  float64\n",
      " 51  GKHandling                18132 non-null  float64\n",
      " 52  GKKicking                 18131 non-null  float64\n",
      " 53  GKPositioning             18131 non-null  float64\n",
      " 54  GKReflexes                18132 non-null  float64\n",
      " 55  Release Clause            16643 non-null  object \n",
      "dtypes: float64(38), int64(3), object(15)\n",
      "memory usage: 7.9+ MB\n"
     ]
    }
   ],
   "source": [
    "df.info()"
   ]
  },
  {
   "cell_type": "code",
   "execution_count": 80,
   "metadata": {
    "execution": {
     "iopub.execute_input": "2022-10-14T20:28:08.25539Z",
     "iopub.status.busy": "2022-10-14T20:28:08.254415Z",
     "iopub.status.idle": "2022-10-14T20:28:08.425443Z",
     "shell.execute_reply": "2022-10-14T20:28:08.424178Z",
     "shell.execute_reply.started": "2022-10-14T20:28:08.255346Z"
    },
    "id": "8eb32Pgy-JXN",
    "outputId": "7d2b78a1-4567-43a9-bec5-d4eec927fe0d"
   },
   "outputs": [
    {
     "data": {
      "text/html": [
       "<div>\n",
       "<style scoped>\n",
       "    .dataframe tbody tr th:only-of-type {\n",
       "        vertical-align: middle;\n",
       "    }\n",
       "\n",
       "    .dataframe tbody tr th {\n",
       "        vertical-align: top;\n",
       "    }\n",
       "\n",
       "    .dataframe thead th {\n",
       "        text-align: right;\n",
       "    }\n",
       "</style>\n",
       "<table border=\"1\" class=\"dataframe\">\n",
       "  <thead>\n",
       "    <tr style=\"text-align: right;\">\n",
       "      <th></th>\n",
       "      <th>Age</th>\n",
       "      <th>Overall</th>\n",
       "      <th>Potential</th>\n",
       "      <th>International Reputation</th>\n",
       "      <th>Weak Foot</th>\n",
       "      <th>Skill Moves</th>\n",
       "      <th>Jersey Number</th>\n",
       "      <th>Crossing</th>\n",
       "      <th>Finishing</th>\n",
       "      <th>HeadingAccuracy</th>\n",
       "      <th>...</th>\n",
       "      <th>Penalties</th>\n",
       "      <th>Composure</th>\n",
       "      <th>Marking</th>\n",
       "      <th>StandingTackle</th>\n",
       "      <th>SlidingTackle</th>\n",
       "      <th>GKDiving</th>\n",
       "      <th>GKHandling</th>\n",
       "      <th>GKKicking</th>\n",
       "      <th>GKPositioning</th>\n",
       "      <th>GKReflexes</th>\n",
       "    </tr>\n",
       "  </thead>\n",
       "  <tbody>\n",
       "    <tr>\n",
       "      <th>count</th>\n",
       "      <td>18207.000000</td>\n",
       "      <td>18207.000000</td>\n",
       "      <td>18207.000000</td>\n",
       "      <td>1627.000000</td>\n",
       "      <td>18001.000000</td>\n",
       "      <td>16133.000000</td>\n",
       "      <td>17581.000000</td>\n",
       "      <td>18159.000000</td>\n",
       "      <td>18159.000000</td>\n",
       "      <td>18159.000000</td>\n",
       "      <td>...</td>\n",
       "      <td>18159.000000</td>\n",
       "      <td>18159.000000</td>\n",
       "      <td>18159.000000</td>\n",
       "      <td>18159.000000</td>\n",
       "      <td>18159.000000</td>\n",
       "      <td>18132.000000</td>\n",
       "      <td>18132.000000</td>\n",
       "      <td>18131.000000</td>\n",
       "      <td>18131.000000</td>\n",
       "      <td>18132.000000</td>\n",
       "    </tr>\n",
       "    <tr>\n",
       "      <th>mean</th>\n",
       "      <td>25.122206</td>\n",
       "      <td>66.238699</td>\n",
       "      <td>71.307299</td>\n",
       "      <td>2.263675</td>\n",
       "      <td>2.964391</td>\n",
       "      <td>2.532263</td>\n",
       "      <td>20.143166</td>\n",
       "      <td>49.734181</td>\n",
       "      <td>45.550911</td>\n",
       "      <td>52.298144</td>\n",
       "      <td>...</td>\n",
       "      <td>48.548598</td>\n",
       "      <td>58.648274</td>\n",
       "      <td>47.281623</td>\n",
       "      <td>47.697836</td>\n",
       "      <td>45.661435</td>\n",
       "      <td>16.639477</td>\n",
       "      <td>16.414516</td>\n",
       "      <td>16.255584</td>\n",
       "      <td>16.412663</td>\n",
       "      <td>16.734282</td>\n",
       "    </tr>\n",
       "    <tr>\n",
       "      <th>std</th>\n",
       "      <td>4.669943</td>\n",
       "      <td>6.908930</td>\n",
       "      <td>6.136496</td>\n",
       "      <td>0.528338</td>\n",
       "      <td>0.637538</td>\n",
       "      <td>0.617762</td>\n",
       "      <td>15.845792</td>\n",
       "      <td>18.364524</td>\n",
       "      <td>19.525820</td>\n",
       "      <td>17.379909</td>\n",
       "      <td>...</td>\n",
       "      <td>15.704053</td>\n",
       "      <td>11.436133</td>\n",
       "      <td>19.904397</td>\n",
       "      <td>21.664004</td>\n",
       "      <td>21.289135</td>\n",
       "      <td>17.698248</td>\n",
       "      <td>16.909040</td>\n",
       "      <td>16.504735</td>\n",
       "      <td>17.037071</td>\n",
       "      <td>17.958236</td>\n",
       "    </tr>\n",
       "    <tr>\n",
       "      <th>min</th>\n",
       "      <td>16.000000</td>\n",
       "      <td>46.000000</td>\n",
       "      <td>48.000000</td>\n",
       "      <td>2.000000</td>\n",
       "      <td>2.000000</td>\n",
       "      <td>2.000000</td>\n",
       "      <td>2.000000</td>\n",
       "      <td>5.000000</td>\n",
       "      <td>2.000000</td>\n",
       "      <td>4.000000</td>\n",
       "      <td>...</td>\n",
       "      <td>5.000000</td>\n",
       "      <td>3.000000</td>\n",
       "      <td>3.000000</td>\n",
       "      <td>2.000000</td>\n",
       "      <td>3.000000</td>\n",
       "      <td>2.000000</td>\n",
       "      <td>2.000000</td>\n",
       "      <td>2.000000</td>\n",
       "      <td>2.000000</td>\n",
       "      <td>2.000000</td>\n",
       "    </tr>\n",
       "    <tr>\n",
       "      <th>25%</th>\n",
       "      <td>21.000000</td>\n",
       "      <td>62.000000</td>\n",
       "      <td>67.000000</td>\n",
       "      <td>2.000000</td>\n",
       "      <td>3.000000</td>\n",
       "      <td>2.000000</td>\n",
       "      <td>9.000000</td>\n",
       "      <td>38.000000</td>\n",
       "      <td>30.000000</td>\n",
       "      <td>44.000000</td>\n",
       "      <td>...</td>\n",
       "      <td>39.000000</td>\n",
       "      <td>51.000000</td>\n",
       "      <td>30.000000</td>\n",
       "      <td>27.000000</td>\n",
       "      <td>24.000000</td>\n",
       "      <td>8.000000</td>\n",
       "      <td>8.000000</td>\n",
       "      <td>8.000000</td>\n",
       "      <td>8.000000</td>\n",
       "      <td>8.000000</td>\n",
       "    </tr>\n",
       "    <tr>\n",
       "      <th>50%</th>\n",
       "      <td>25.000000</td>\n",
       "      <td>66.000000</td>\n",
       "      <td>71.000000</td>\n",
       "      <td>2.000000</td>\n",
       "      <td>3.000000</td>\n",
       "      <td>2.000000</td>\n",
       "      <td>18.000000</td>\n",
       "      <td>54.000000</td>\n",
       "      <td>49.000000</td>\n",
       "      <td>56.000000</td>\n",
       "      <td>...</td>\n",
       "      <td>49.000000</td>\n",
       "      <td>60.000000</td>\n",
       "      <td>53.000000</td>\n",
       "      <td>55.000000</td>\n",
       "      <td>52.000000</td>\n",
       "      <td>11.000000</td>\n",
       "      <td>11.000000</td>\n",
       "      <td>11.000000</td>\n",
       "      <td>11.000000</td>\n",
       "      <td>11.000000</td>\n",
       "    </tr>\n",
       "    <tr>\n",
       "      <th>75%</th>\n",
       "      <td>28.000000</td>\n",
       "      <td>71.000000</td>\n",
       "      <td>75.000000</td>\n",
       "      <td>2.000000</td>\n",
       "      <td>3.000000</td>\n",
       "      <td>3.000000</td>\n",
       "      <td>26.000000</td>\n",
       "      <td>64.000000</td>\n",
       "      <td>62.000000</td>\n",
       "      <td>64.000000</td>\n",
       "      <td>...</td>\n",
       "      <td>60.000000</td>\n",
       "      <td>67.000000</td>\n",
       "      <td>64.000000</td>\n",
       "      <td>66.000000</td>\n",
       "      <td>64.000000</td>\n",
       "      <td>14.000000</td>\n",
       "      <td>14.000000</td>\n",
       "      <td>14.000000</td>\n",
       "      <td>14.000000</td>\n",
       "      <td>14.000000</td>\n",
       "    </tr>\n",
       "    <tr>\n",
       "      <th>max</th>\n",
       "      <td>45.000000</td>\n",
       "      <td>94.000000</td>\n",
       "      <td>95.000000</td>\n",
       "      <td>5.000000</td>\n",
       "      <td>5.000000</td>\n",
       "      <td>5.000000</td>\n",
       "      <td>99.000000</td>\n",
       "      <td>93.000000</td>\n",
       "      <td>95.000000</td>\n",
       "      <td>94.000000</td>\n",
       "      <td>...</td>\n",
       "      <td>92.000000</td>\n",
       "      <td>96.000000</td>\n",
       "      <td>94.000000</td>\n",
       "      <td>93.000000</td>\n",
       "      <td>91.000000</td>\n",
       "      <td>90.000000</td>\n",
       "      <td>92.000000</td>\n",
       "      <td>91.000000</td>\n",
       "      <td>90.000000</td>\n",
       "      <td>94.000000</td>\n",
       "    </tr>\n",
       "  </tbody>\n",
       "</table>\n",
       "<p>8 rows × 41 columns</p>\n",
       "</div>"
      ],
      "text/plain": [
       "                Age       Overall     Potential  International Reputation  \\\n",
       "count  18207.000000  18207.000000  18207.000000               1627.000000   \n",
       "mean      25.122206     66.238699     71.307299                  2.263675   \n",
       "std        4.669943      6.908930      6.136496                  0.528338   \n",
       "min       16.000000     46.000000     48.000000                  2.000000   \n",
       "25%       21.000000     62.000000     67.000000                  2.000000   \n",
       "50%       25.000000     66.000000     71.000000                  2.000000   \n",
       "75%       28.000000     71.000000     75.000000                  2.000000   \n",
       "max       45.000000     94.000000     95.000000                  5.000000   \n",
       "\n",
       "          Weak Foot   Skill Moves  Jersey Number      Crossing     Finishing  \\\n",
       "count  18001.000000  16133.000000   17581.000000  18159.000000  18159.000000   \n",
       "mean       2.964391      2.532263      20.143166     49.734181     45.550911   \n",
       "std        0.637538      0.617762      15.845792     18.364524     19.525820   \n",
       "min        2.000000      2.000000       2.000000      5.000000      2.000000   \n",
       "25%        3.000000      2.000000       9.000000     38.000000     30.000000   \n",
       "50%        3.000000      2.000000      18.000000     54.000000     49.000000   \n",
       "75%        3.000000      3.000000      26.000000     64.000000     62.000000   \n",
       "max        5.000000      5.000000      99.000000     93.000000     95.000000   \n",
       "\n",
       "       HeadingAccuracy  ...     Penalties     Composure       Marking  \\\n",
       "count     18159.000000  ...  18159.000000  18159.000000  18159.000000   \n",
       "mean         52.298144  ...     48.548598     58.648274     47.281623   \n",
       "std          17.379909  ...     15.704053     11.436133     19.904397   \n",
       "min           4.000000  ...      5.000000      3.000000      3.000000   \n",
       "25%          44.000000  ...     39.000000     51.000000     30.000000   \n",
       "50%          56.000000  ...     49.000000     60.000000     53.000000   \n",
       "75%          64.000000  ...     60.000000     67.000000     64.000000   \n",
       "max          94.000000  ...     92.000000     96.000000     94.000000   \n",
       "\n",
       "       StandingTackle  SlidingTackle      GKDiving    GKHandling  \\\n",
       "count    18159.000000   18159.000000  18132.000000  18132.000000   \n",
       "mean        47.697836      45.661435     16.639477     16.414516   \n",
       "std         21.664004      21.289135     17.698248     16.909040   \n",
       "min          2.000000       3.000000      2.000000      2.000000   \n",
       "25%         27.000000      24.000000      8.000000      8.000000   \n",
       "50%         55.000000      52.000000     11.000000     11.000000   \n",
       "75%         66.000000      64.000000     14.000000     14.000000   \n",
       "max         93.000000      91.000000     90.000000     92.000000   \n",
       "\n",
       "          GKKicking  GKPositioning    GKReflexes  \n",
       "count  18131.000000   18131.000000  18132.000000  \n",
       "mean      16.255584      16.412663     16.734282  \n",
       "std       16.504735      17.037071     17.958236  \n",
       "min        2.000000       2.000000      2.000000  \n",
       "25%        8.000000       8.000000      8.000000  \n",
       "50%       11.000000      11.000000     11.000000  \n",
       "75%       14.000000      14.000000     14.000000  \n",
       "max       91.000000      90.000000     94.000000  \n",
       "\n",
       "[8 rows x 41 columns]"
      ]
     },
     "execution_count": 80,
     "metadata": {},
     "output_type": "execute_result"
    }
   ],
   "source": [
    "df.describe()"
   ]
  },
  {
   "cell_type": "markdown",
   "metadata": {
    "id": "Qt5sJtQgocod"
   },
   "source": [
    "# Drop **unnecessary** columns"
   ]
  },
  {
   "cell_type": "code",
   "execution_count": 81,
   "metadata": {
    "execution": {
     "iopub.execute_input": "2022-10-14T20:28:08.428095Z",
     "iopub.status.busy": "2022-10-14T20:28:08.427219Z",
     "iopub.status.idle": "2022-10-14T20:28:08.442907Z",
     "shell.execute_reply": "2022-10-14T20:28:08.441319Z",
     "shell.execute_reply.started": "2022-10-14T20:28:08.428034Z"
    },
    "id": "Ip3Ymxo0zj6H"
   },
   "outputs": [],
   "source": [
    "df.drop(columns=['International Reputation','Jersey Number','Loaned From','Weight'],axis=1,inplace=True)"
   ]
  },
  {
   "cell_type": "markdown",
   "metadata": {
    "id": "wKBv8YvZK5ir"
   },
   "source": [
    "## Detect  Nan values in data set"
   ]
  },
  {
   "cell_type": "code",
   "execution_count": 82,
   "metadata": {
    "execution": {
     "iopub.execute_input": "2022-10-14T20:28:08.446107Z",
     "iopub.status.busy": "2022-10-14T20:28:08.444713Z",
     "iopub.status.idle": "2022-10-14T20:28:08.472554Z",
     "shell.execute_reply": "2022-10-14T20:28:08.471295Z",
     "shell.execute_reply.started": "2022-10-14T20:28:08.446067Z"
    },
    "id": "13qgblD_cUSA",
    "outputId": "00d90576-70e9-4c34-fba3-7d58a69900ab"
   },
   "outputs": [
    {
     "data": {
      "text/plain": [
       "Name                       0\n",
       "Age                        0\n",
       "Nationality                0\n",
       "Overall                    0\n",
       "Potential                  0\n",
       "Club                     241\n",
       "Value                      0\n",
       "Wage                       0\n",
       "Preferred Foot            48\n",
       "Weak Foot                206\n",
       "Skill Moves             2074\n",
       "Work Rate                 48\n",
       "Body Type                 48\n",
       "Position                  60\n",
       "Joined                  1553\n",
       "Contract Valid Until     289\n",
       "Height                    48\n",
       "Crossing                  48\n",
       "Finishing                 48\n",
       "HeadingAccuracy           48\n",
       "ShortPassing              48\n",
       "Volleys                   48\n",
       "Dribbling                 48\n",
       "Curve                     48\n",
       "FKAccuracy                48\n",
       "LongPassing               48\n",
       "BallControl               48\n",
       "Acceleration              48\n",
       "SprintSpeed               48\n",
       "Agility                   48\n",
       "Reactions                 48\n",
       "Balance                   48\n",
       "ShotPower                 48\n",
       "Jumping                   48\n",
       "Stamina                   48\n",
       "Strength                  48\n",
       "LongShots                 48\n",
       "Aggression                48\n",
       "Interceptions             48\n",
       "Positioning               48\n",
       "Vision                    48\n",
       "Penalties                 48\n",
       "Composure                 48\n",
       "Marking                   48\n",
       "StandingTackle            48\n",
       "SlidingTackle             48\n",
       "GKDiving                  75\n",
       "GKHandling                75\n",
       "GKKicking                 76\n",
       "GKPositioning             76\n",
       "GKReflexes                75\n",
       "Release Clause          1564\n",
       "dtype: int64"
      ]
     },
     "execution_count": 82,
     "metadata": {},
     "output_type": "execute_result"
    }
   ],
   "source": [
    "df.isna().sum()"
   ]
  },
  {
   "cell_type": "markdown",
   "metadata": {
    "id": "WVZESoKGvWEC"
   },
   "source": [
    "### fill nan values in float colunms with median 36 column in one code line "
   ]
  },
  {
   "cell_type": "code",
   "execution_count": 83,
   "metadata": {
    "execution": {
     "iopub.execute_input": "2022-10-14T20:28:08.47852Z",
     "iopub.status.busy": "2022-10-14T20:28:08.478125Z",
     "iopub.status.idle": "2022-10-14T20:28:08.53024Z",
     "shell.execute_reply": "2022-10-14T20:28:08.528952Z",
     "shell.execute_reply.started": "2022-10-14T20:28:08.478489Z"
    },
    "id": "GFw5jcnTcZ74",
    "outputId": "a9fcb507-694b-4eb4-9e0e-9528f192dc1d"
   },
   "outputs": [
    {
     "name": "stderr",
     "output_type": "stream",
     "text": [
      "C:\\Users\\scorp\\AppData\\Local\\Temp\\ipykernel_25092\\1048787520.py:1: FutureWarning: The default value of numeric_only in DataFrame.median is deprecated. In a future version, it will default to False. In addition, specifying 'numeric_only=None' is deprecated. Select only valid columns or specify the value of numeric_only to silence this warning.\n",
      "  df.fillna(df.median(),inplace=True)\n"
     ]
    }
   ],
   "source": [
    "df.fillna(df.median(),inplace=True)"
   ]
  },
  {
   "cell_type": "code",
   "execution_count": 84,
   "metadata": {
    "execution": {
     "iopub.execute_input": "2022-10-14T20:28:08.532067Z",
     "iopub.status.busy": "2022-10-14T20:28:08.531661Z",
     "iopub.status.idle": "2022-10-14T20:28:08.561336Z",
     "shell.execute_reply": "2022-10-14T20:28:08.560042Z",
     "shell.execute_reply.started": "2022-10-14T20:28:08.532033Z"
    },
    "id": "EbWE7RI-vkDj",
    "outputId": "fed60e5d-2928-4bb0-c5fe-e44238f7fa21"
   },
   "outputs": [
    {
     "name": "stdout",
     "output_type": "stream",
     "text": [
      "<class 'pandas.core.frame.DataFrame'>\n",
      "Int64Index: 18207 entries, 158023 to 246269\n",
      "Data columns (total 52 columns):\n",
      " #   Column                Non-Null Count  Dtype  \n",
      "---  ------                --------------  -----  \n",
      " 0   Name                  18207 non-null  object \n",
      " 1   Age                   18207 non-null  int64  \n",
      " 2   Nationality           18207 non-null  object \n",
      " 3   Overall               18207 non-null  int64  \n",
      " 4   Potential             18207 non-null  int64  \n",
      " 5   Club                  17966 non-null  object \n",
      " 6   Value                 18207 non-null  object \n",
      " 7   Wage                  18207 non-null  object \n",
      " 8   Preferred Foot        18159 non-null  object \n",
      " 9   Weak Foot             18207 non-null  float64\n",
      " 10  Skill Moves           18207 non-null  float64\n",
      " 11  Work Rate             18159 non-null  object \n",
      " 12  Body Type             18159 non-null  object \n",
      " 13  Position              18147 non-null  object \n",
      " 14  Joined                16654 non-null  object \n",
      " 15  Contract Valid Until  17918 non-null  object \n",
      " 16  Height                18159 non-null  object \n",
      " 17  Crossing              18207 non-null  float64\n",
      " 18  Finishing             18207 non-null  float64\n",
      " 19  HeadingAccuracy       18207 non-null  float64\n",
      " 20  ShortPassing          18207 non-null  float64\n",
      " 21  Volleys               18207 non-null  float64\n",
      " 22  Dribbling             18207 non-null  float64\n",
      " 23  Curve                 18207 non-null  float64\n",
      " 24  FKAccuracy            18207 non-null  float64\n",
      " 25  LongPassing           18207 non-null  float64\n",
      " 26  BallControl           18207 non-null  float64\n",
      " 27  Acceleration          18207 non-null  float64\n",
      " 28  SprintSpeed           18207 non-null  float64\n",
      " 29  Agility               18207 non-null  float64\n",
      " 30  Reactions             18207 non-null  float64\n",
      " 31  Balance               18207 non-null  float64\n",
      " 32  ShotPower             18207 non-null  float64\n",
      " 33  Jumping               18207 non-null  float64\n",
      " 34  Stamina               18207 non-null  float64\n",
      " 35  Strength              18207 non-null  float64\n",
      " 36  LongShots             18207 non-null  float64\n",
      " 37  Aggression            18207 non-null  float64\n",
      " 38  Interceptions         18207 non-null  float64\n",
      " 39  Positioning           18207 non-null  float64\n",
      " 40  Vision                18207 non-null  float64\n",
      " 41  Penalties             18207 non-null  float64\n",
      " 42  Composure             18207 non-null  float64\n",
      " 43  Marking               18207 non-null  float64\n",
      " 44  StandingTackle        18207 non-null  float64\n",
      " 45  SlidingTackle         18207 non-null  float64\n",
      " 46  GKDiving              18207 non-null  float64\n",
      " 47  GKHandling            18207 non-null  float64\n",
      " 48  GKKicking             18207 non-null  float64\n",
      " 49  GKPositioning         18207 non-null  float64\n",
      " 50  GKReflexes            18207 non-null  float64\n",
      " 51  Release Clause        16643 non-null  object \n",
      "dtypes: float64(36), int64(3), object(13)\n",
      "memory usage: 7.4+ MB\n"
     ]
    }
   ],
   "source": [
    "df.info()"
   ]
  },
  {
   "cell_type": "markdown",
   "metadata": {
    "id": "jAJ-VSDOuyzi"
   },
   "source": [
    "### Handling the object columns by fillna values with mode 9 columns"
   ]
  },
  {
   "cell_type": "code",
   "execution_count": 85,
   "metadata": {
    "execution": {
     "iopub.execute_input": "2022-10-14T20:28:08.563837Z",
     "iopub.status.busy": "2022-10-14T20:28:08.563342Z",
     "iopub.status.idle": "2022-10-14T20:28:08.638854Z",
     "shell.execute_reply": "2022-10-14T20:28:08.637512Z",
     "shell.execute_reply.started": "2022-10-14T20:28:08.563791Z"
    },
    "id": "s8JiQmu9u-sn"
   },
   "outputs": [],
   "source": [
    "for col in df.columns:\n",
    "  df[col].fillna(df[col].mode()[0],inplace=True)"
   ]
  },
  {
   "cell_type": "code",
   "execution_count": 86,
   "metadata": {
    "execution": {
     "iopub.execute_input": "2022-10-14T20:28:08.641397Z",
     "iopub.status.busy": "2022-10-14T20:28:08.640892Z",
     "iopub.status.idle": "2022-10-14T20:28:08.665546Z",
     "shell.execute_reply": "2022-10-14T20:28:08.664231Z",
     "shell.execute_reply.started": "2022-10-14T20:28:08.641352Z"
    },
    "id": "6why_KTcv4pw",
    "outputId": "3490af65-587a-4fc1-eb94-a47a01d37429"
   },
   "outputs": [
    {
     "data": {
      "text/plain": [
       "Name                    0\n",
       "Age                     0\n",
       "Nationality             0\n",
       "Overall                 0\n",
       "Potential               0\n",
       "Club                    0\n",
       "Value                   0\n",
       "Wage                    0\n",
       "Preferred Foot          0\n",
       "Weak Foot               0\n",
       "Skill Moves             0\n",
       "Work Rate               0\n",
       "Body Type               0\n",
       "Position                0\n",
       "Joined                  0\n",
       "Contract Valid Until    0\n",
       "Height                  0\n",
       "Crossing                0\n",
       "Finishing               0\n",
       "HeadingAccuracy         0\n",
       "ShortPassing            0\n",
       "Volleys                 0\n",
       "Dribbling               0\n",
       "Curve                   0\n",
       "FKAccuracy              0\n",
       "LongPassing             0\n",
       "BallControl             0\n",
       "Acceleration            0\n",
       "SprintSpeed             0\n",
       "Agility                 0\n",
       "Reactions               0\n",
       "Balance                 0\n",
       "ShotPower               0\n",
       "Jumping                 0\n",
       "Stamina                 0\n",
       "Strength                0\n",
       "LongShots               0\n",
       "Aggression              0\n",
       "Interceptions           0\n",
       "Positioning             0\n",
       "Vision                  0\n",
       "Penalties               0\n",
       "Composure               0\n",
       "Marking                 0\n",
       "StandingTackle          0\n",
       "SlidingTackle           0\n",
       "GKDiving                0\n",
       "GKHandling              0\n",
       "GKKicking               0\n",
       "GKPositioning           0\n",
       "GKReflexes              0\n",
       "Release Clause          0\n",
       "dtype: int64"
      ]
     },
     "execution_count": 86,
     "metadata": {},
     "output_type": "execute_result"
    }
   ],
   "source": [
    "df.isna().sum()"
   ]
  },
  {
   "cell_type": "code",
   "execution_count": 87,
   "metadata": {
    "execution": {
     "iopub.execute_input": "2022-10-14T20:28:08.666966Z",
     "iopub.status.busy": "2022-10-14T20:28:08.666555Z",
     "iopub.status.idle": "2022-10-14T20:28:08.696894Z",
     "shell.execute_reply": "2022-10-14T20:28:08.69542Z",
     "shell.execute_reply.started": "2022-10-14T20:28:08.666932Z"
    },
    "id": "FUYygUUAclpe",
    "outputId": "6d40cca7-8402-4487-bdaf-f04948b93397"
   },
   "outputs": [
    {
     "name": "stdout",
     "output_type": "stream",
     "text": [
      "<class 'pandas.core.frame.DataFrame'>\n",
      "Int64Index: 18207 entries, 158023 to 246269\n",
      "Data columns (total 52 columns):\n",
      " #   Column                Non-Null Count  Dtype  \n",
      "---  ------                --------------  -----  \n",
      " 0   Name                  18207 non-null  object \n",
      " 1   Age                   18207 non-null  int64  \n",
      " 2   Nationality           18207 non-null  object \n",
      " 3   Overall               18207 non-null  int64  \n",
      " 4   Potential             18207 non-null  int64  \n",
      " 5   Club                  18207 non-null  object \n",
      " 6   Value                 18207 non-null  object \n",
      " 7   Wage                  18207 non-null  object \n",
      " 8   Preferred Foot        18207 non-null  object \n",
      " 9   Weak Foot             18207 non-null  float64\n",
      " 10  Skill Moves           18207 non-null  float64\n",
      " 11  Work Rate             18207 non-null  object \n",
      " 12  Body Type             18207 non-null  object \n",
      " 13  Position              18207 non-null  object \n",
      " 14  Joined                18207 non-null  object \n",
      " 15  Contract Valid Until  18207 non-null  object \n",
      " 16  Height                18207 non-null  object \n",
      " 17  Crossing              18207 non-null  float64\n",
      " 18  Finishing             18207 non-null  float64\n",
      " 19  HeadingAccuracy       18207 non-null  float64\n",
      " 20  ShortPassing          18207 non-null  float64\n",
      " 21  Volleys               18207 non-null  float64\n",
      " 22  Dribbling             18207 non-null  float64\n",
      " 23  Curve                 18207 non-null  float64\n",
      " 24  FKAccuracy            18207 non-null  float64\n",
      " 25  LongPassing           18207 non-null  float64\n",
      " 26  BallControl           18207 non-null  float64\n",
      " 27  Acceleration          18207 non-null  float64\n",
      " 28  SprintSpeed           18207 non-null  float64\n",
      " 29  Agility               18207 non-null  float64\n",
      " 30  Reactions             18207 non-null  float64\n",
      " 31  Balance               18207 non-null  float64\n",
      " 32  ShotPower             18207 non-null  float64\n",
      " 33  Jumping               18207 non-null  float64\n",
      " 34  Stamina               18207 non-null  float64\n",
      " 35  Strength              18207 non-null  float64\n",
      " 36  LongShots             18207 non-null  float64\n",
      " 37  Aggression            18207 non-null  float64\n",
      " 38  Interceptions         18207 non-null  float64\n",
      " 39  Positioning           18207 non-null  float64\n",
      " 40  Vision                18207 non-null  float64\n",
      " 41  Penalties             18207 non-null  float64\n",
      " 42  Composure             18207 non-null  float64\n",
      " 43  Marking               18207 non-null  float64\n",
      " 44  StandingTackle        18207 non-null  float64\n",
      " 45  SlidingTackle         18207 non-null  float64\n",
      " 46  GKDiving              18207 non-null  float64\n",
      " 47  GKHandling            18207 non-null  float64\n",
      " 48  GKKicking             18207 non-null  float64\n",
      " 49  GKPositioning         18207 non-null  float64\n",
      " 50  GKReflexes            18207 non-null  float64\n",
      " 51  Release Clause        18207 non-null  object \n",
      "dtypes: float64(36), int64(3), object(13)\n",
      "memory usage: 7.4+ MB\n"
     ]
    }
   ],
   "source": [
    "df.info()"
   ]
  },
  {
   "cell_type": "markdown",
   "metadata": {
    "id": "Uv8dxrxdVRmi"
   },
   "source": [
    "# **cleaning column value and wage ,convert M,K with numeric value and convert the column Type**\n",
    "\n",
    "\n"
   ]
  },
  {
   "cell_type": "code",
   "execution_count": 88,
   "metadata": {
    "execution": {
     "iopub.execute_input": "2022-10-14T20:28:08.699183Z",
     "iopub.status.busy": "2022-10-14T20:28:08.698783Z",
     "iopub.status.idle": "2022-10-14T20:28:08.714315Z",
     "shell.execute_reply": "2022-10-14T20:28:08.712971Z",
     "shell.execute_reply.started": "2022-10-14T20:28:08.699143Z"
    },
    "id": "Ahhy1jxGMzXk"
   },
   "outputs": [],
   "source": [
    "df['Value']=df['Value'].apply(lambda x:x.split('€')[1])"
   ]
  },
  {
   "cell_type": "code",
   "execution_count": 89,
   "metadata": {
    "execution": {
     "iopub.execute_input": "2022-10-14T20:28:08.716056Z",
     "iopub.status.busy": "2022-10-14T20:28:08.715703Z",
     "iopub.status.idle": "2022-10-14T20:28:08.811101Z",
     "shell.execute_reply": "2022-10-14T20:28:08.809895Z",
     "shell.execute_reply.started": "2022-10-14T20:28:08.716027Z"
    },
    "id": "g84qaTK5-6Wg"
   },
   "outputs": [],
   "source": [
    "df['Value']=df['Value'].replace({'K': '000', 'M': '000000'}, regex=True)"
   ]
  },
  {
   "cell_type": "code",
   "execution_count": 90,
   "metadata": {
    "execution": {
     "iopub.execute_input": "2022-10-14T20:28:08.812697Z",
     "iopub.status.busy": "2022-10-14T20:28:08.812382Z",
     "iopub.status.idle": "2022-10-14T20:28:08.83172Z",
     "shell.execute_reply": "2022-10-14T20:28:08.830423Z",
     "shell.execute_reply.started": "2022-10-14T20:28:08.812669Z"
    },
    "id": "OYT4Na-8PXj8"
   },
   "outputs": [],
   "source": [
    "df['Value']=pd.to_numeric(df['Value'],errors='coerce')"
   ]
  },
  {
   "cell_type": "code",
   "execution_count": 91,
   "metadata": {
    "execution": {
     "iopub.execute_input": "2022-10-14T20:28:08.833966Z",
     "iopub.status.busy": "2022-10-14T20:28:08.833418Z",
     "iopub.status.idle": "2022-10-14T20:28:08.845095Z",
     "shell.execute_reply": "2022-10-14T20:28:08.843902Z",
     "shell.execute_reply.started": "2022-10-14T20:28:08.833928Z"
    },
    "id": "J2-m7TMjQ-GN"
   },
   "outputs": [],
   "source": [
    "df['Value']=df['Value'].astype(int)"
   ]
  },
  {
   "cell_type": "code",
   "execution_count": 92,
   "metadata": {
    "execution": {
     "iopub.execute_input": "2022-10-14T20:28:08.847155Z",
     "iopub.status.busy": "2022-10-14T20:28:08.846812Z",
     "iopub.status.idle": "2022-10-14T20:28:08.860716Z",
     "shell.execute_reply": "2022-10-14T20:28:08.859492Z",
     "shell.execute_reply.started": "2022-10-14T20:28:08.847126Z"
    },
    "id": "nHWk98L6_BWg",
    "outputId": "ff38ac15-73e8-4baf-b534-81c4081e2221"
   },
   "outputs": [
    {
     "data": {
      "text/plain": [
       "ID\n",
       "158023          110\n",
       "20801      77000000\n",
       "190871          118\n",
       "193080     72000000\n",
       "192985    102000000\n",
       "            ...    \n",
       "238813        60000\n",
       "243165        60000\n",
       "241638        60000\n",
       "246268        60000\n",
       "246269        60000\n",
       "Name: Value, Length: 18207, dtype: int32"
      ]
     },
     "execution_count": 92,
     "metadata": {},
     "output_type": "execute_result"
    }
   ],
   "source": [
    "df['Value']"
   ]
  },
  {
   "cell_type": "code",
   "execution_count": 93,
   "metadata": {
    "execution": {
     "iopub.execute_input": "2022-10-14T20:28:08.862472Z",
     "iopub.status.busy": "2022-10-14T20:28:08.862057Z",
     "iopub.status.idle": "2022-10-14T20:28:08.879581Z",
     "shell.execute_reply": "2022-10-14T20:28:08.878511Z",
     "shell.execute_reply.started": "2022-10-14T20:28:08.862439Z"
    },
    "id": "TtssHeo1M-7r"
   },
   "outputs": [],
   "source": [
    "df['Wage']=df['Wage'].apply(lambda x:x.split('€')[1])"
   ]
  },
  {
   "cell_type": "code",
   "execution_count": 94,
   "metadata": {
    "execution": {
     "iopub.execute_input": "2022-10-14T20:28:08.882569Z",
     "iopub.status.busy": "2022-10-14T20:28:08.881393Z",
     "iopub.status.idle": "2022-10-14T20:28:08.979422Z",
     "shell.execute_reply": "2022-10-14T20:28:08.978122Z",
     "shell.execute_reply.started": "2022-10-14T20:28:08.882517Z"
    },
    "id": "BiB79nWMPMDY"
   },
   "outputs": [],
   "source": [
    "df['Wage']=df['Wage'].replace({'K': '000', 'M': '000000'}, regex=True)"
   ]
  },
  {
   "cell_type": "code",
   "execution_count": 95,
   "metadata": {
    "execution": {
     "iopub.execute_input": "2022-10-14T20:28:08.981575Z",
     "iopub.status.busy": "2022-10-14T20:28:08.981098Z",
     "iopub.status.idle": "2022-10-14T20:28:08.991671Z",
     "shell.execute_reply": "2022-10-14T20:28:08.99043Z",
     "shell.execute_reply.started": "2022-10-14T20:28:08.981532Z"
    },
    "id": "0fT6qEtuPnGs"
   },
   "outputs": [],
   "source": [
    "df['Wage']=pd.to_numeric(df['Value'],errors='coerce')"
   ]
  },
  {
   "cell_type": "code",
   "execution_count": 96,
   "metadata": {
    "execution": {
     "iopub.execute_input": "2022-10-14T20:28:08.994022Z",
     "iopub.status.busy": "2022-10-14T20:28:08.993526Z",
     "iopub.status.idle": "2022-10-14T20:28:09.001438Z",
     "shell.execute_reply": "2022-10-14T20:28:09.000129Z",
     "shell.execute_reply.started": "2022-10-14T20:28:08.993979Z"
    },
    "id": "BUUBaCeE_aQ6"
   },
   "outputs": [],
   "source": [
    "df['Wage']=df['Wage'].astype(int)"
   ]
  },
  {
   "cell_type": "code",
   "execution_count": 97,
   "metadata": {
    "execution": {
     "iopub.execute_input": "2022-10-14T20:28:09.003873Z",
     "iopub.status.busy": "2022-10-14T20:28:09.003373Z",
     "iopub.status.idle": "2022-10-14T20:28:09.014523Z",
     "shell.execute_reply": "2022-10-14T20:28:09.013178Z",
     "shell.execute_reply.started": "2022-10-14T20:28:09.00383Z"
    },
    "id": "w3jIpePoTUJM",
    "outputId": "c76079d8-1952-460e-b45f-3e9db8553fcc"
   },
   "outputs": [
    {
     "data": {
      "text/plain": [
       "ID\n",
       "158023          110\n",
       "20801      77000000\n",
       "190871          118\n",
       "193080     72000000\n",
       "192985    102000000\n",
       "            ...    \n",
       "238813        60000\n",
       "243165        60000\n",
       "241638        60000\n",
       "246268        60000\n",
       "246269        60000\n",
       "Name: Wage, Length: 18207, dtype: int32"
      ]
     },
     "execution_count": 97,
     "metadata": {},
     "output_type": "execute_result"
    }
   ],
   "source": [
    "df['Wage']"
   ]
  },
  {
   "cell_type": "markdown",
   "metadata": {
    "id": "8VDdYTXaTdhA"
   },
   "source": [
    "# convert JOINED to_datetime"
   ]
  },
  {
   "cell_type": "code",
   "execution_count": 98,
   "metadata": {
    "execution": {
     "iopub.execute_input": "2022-10-14T20:28:09.016878Z",
     "iopub.status.busy": "2022-10-14T20:28:09.016425Z",
     "iopub.status.idle": "2022-10-14T20:28:09.029463Z",
     "shell.execute_reply": "2022-10-14T20:28:09.028204Z",
     "shell.execute_reply.started": "2022-10-14T20:28:09.016846Z"
    },
    "id": "oVThVfJWT2fQ",
    "outputId": "84e23d32-4500-461c-df65-7bcfaa388e4f"
   },
   "outputs": [
    {
     "data": {
      "text/plain": [
       "ID\n",
       "158023     Jul 1, 2004\n",
       "20801     Jul 10, 2018\n",
       "190871     Aug 3, 2017\n",
       "193080     Jul 1, 2011\n",
       "192985    Aug 30, 2015\n",
       "              ...     \n",
       "238813     May 3, 2017\n",
       "243165    Mar 19, 2018\n",
       "241638     Jul 1, 2017\n",
       "246268    Apr 24, 2018\n",
       "246269    Oct 30, 2018\n",
       "Name: Joined, Length: 18207, dtype: object"
      ]
     },
     "execution_count": 98,
     "metadata": {},
     "output_type": "execute_result"
    }
   ],
   "source": [
    "df['Joined']"
   ]
  },
  {
   "cell_type": "code",
   "execution_count": 99,
   "metadata": {
    "execution": {
     "iopub.execute_input": "2022-10-14T20:28:09.032371Z",
     "iopub.status.busy": "2022-10-14T20:28:09.03119Z",
     "iopub.status.idle": "2022-10-14T20:28:09.238421Z",
     "shell.execute_reply": "2022-10-14T20:28:09.237134Z",
     "shell.execute_reply.started": "2022-10-14T20:28:09.032322Z"
    },
    "id": "iEMNTdeLTElS"
   },
   "outputs": [],
   "source": [
    "df['Joined']=pd.to_datetime(df['Joined'])"
   ]
  },
  {
   "cell_type": "markdown",
   "metadata": {
    "id": "PVPFlZDhzCNd"
   },
   "source": [
    "FEATURE ENGINEERING"
   ]
  },
  {
   "cell_type": "code",
   "execution_count": 100,
   "metadata": {
    "execution": {
     "iopub.execute_input": "2022-10-14T20:28:09.241531Z",
     "iopub.status.busy": "2022-10-14T20:28:09.240773Z",
     "iopub.status.idle": "2022-10-14T20:28:09.251562Z",
     "shell.execute_reply": "2022-10-14T20:28:09.250227Z",
     "shell.execute_reply.started": "2022-10-14T20:28:09.241483Z"
    },
    "id": "Hc-4Qdw_YGtI"
   },
   "outputs": [],
   "source": [
    "df['joined_month']=df['Joined'].dt.month"
   ]
  },
  {
   "cell_type": "code",
   "execution_count": 101,
   "metadata": {
    "execution": {
     "iopub.execute_input": "2022-10-14T20:28:09.260617Z",
     "iopub.status.busy": "2022-10-14T20:28:09.260184Z",
     "iopub.status.idle": "2022-10-14T20:28:09.268999Z",
     "shell.execute_reply": "2022-10-14T20:28:09.267671Z",
     "shell.execute_reply.started": "2022-10-14T20:28:09.260584Z"
    },
    "id": "WR5QmBaxYben"
   },
   "outputs": [],
   "source": [
    "df['Joined_year']=df['Joined'].dt.year"
   ]
  },
  {
   "cell_type": "markdown",
   "metadata": {
    "id": "PddnT-wGYQzY"
   },
   "source": [
    "# handle height cleaning and convert fromm height by feet to height by meter"
   ]
  },
  {
   "cell_type": "code",
   "execution_count": 102,
   "metadata": {
    "execution": {
     "iopub.execute_input": "2022-10-14T20:28:09.27162Z",
     "iopub.status.busy": "2022-10-14T20:28:09.270762Z",
     "iopub.status.idle": "2022-10-14T20:28:09.283662Z",
     "shell.execute_reply": "2022-10-14T20:28:09.282461Z",
     "shell.execute_reply.started": "2022-10-14T20:28:09.271579Z"
    },
    "id": "wTtCRIHGzPns",
    "outputId": "359e3b9c-a4d7-49d8-e2c7-ceef65b8a172"
   },
   "outputs": [
    {
     "data": {
      "text/plain": [
       "ID\n",
       "158023     5'7\n",
       "20801      6'2\n",
       "190871     5'9\n",
       "193080     6'4\n",
       "192985    5'11\n",
       "          ... \n",
       "238813     5'9\n",
       "243165     6'3\n",
       "241638     5'8\n",
       "246268    5'10\n",
       "246269    5'10\n",
       "Name: Height, Length: 18207, dtype: object"
      ]
     },
     "execution_count": 102,
     "metadata": {},
     "output_type": "execute_result"
    }
   ],
   "source": [
    "df['Height']"
   ]
  },
  {
   "cell_type": "code",
   "execution_count": 103,
   "metadata": {
    "execution": {
     "iopub.execute_input": "2022-10-14T20:28:09.286223Z",
     "iopub.status.busy": "2022-10-14T20:28:09.285462Z",
     "iopub.status.idle": "2022-10-14T20:28:09.301353Z",
     "shell.execute_reply": "2022-10-14T20:28:09.300267Z",
     "shell.execute_reply.started": "2022-10-14T20:28:09.286178Z"
    },
    "id": "lY4aDEKlE88k"
   },
   "outputs": [],
   "source": [
    "df['Height_n1']=df['Height'].apply(lambda x:x.split(\"'\")[0])"
   ]
  },
  {
   "cell_type": "code",
   "execution_count": 104,
   "metadata": {
    "execution": {
     "iopub.execute_input": "2022-10-14T20:28:09.304182Z",
     "iopub.status.busy": "2022-10-14T20:28:09.30289Z",
     "iopub.status.idle": "2022-10-14T20:28:09.321684Z",
     "shell.execute_reply": "2022-10-14T20:28:09.320586Z",
     "shell.execute_reply.started": "2022-10-14T20:28:09.304133Z"
    },
    "id": "xqWwmn61VCG2"
   },
   "outputs": [],
   "source": [
    "df['Height_n2']=df['Height'].apply(lambda x:x.split(\"'\")[1])"
   ]
  },
  {
   "cell_type": "code",
   "execution_count": 105,
   "metadata": {
    "execution": {
     "iopub.execute_input": "2022-10-14T20:28:09.323999Z",
     "iopub.status.busy": "2022-10-14T20:28:09.32324Z",
     "iopub.status.idle": "2022-10-14T20:28:09.338228Z",
     "shell.execute_reply": "2022-10-14T20:28:09.336809Z",
     "shell.execute_reply.started": "2022-10-14T20:28:09.323962Z"
    },
    "id": "PWTWjYRQFQe-",
    "outputId": "8273cd23-275f-4c51-db7f-ce0351bb60ee"
   },
   "outputs": [
    {
     "data": {
      "text/plain": [
       "ID\n",
       "158023    5\n",
       "20801     6\n",
       "190871    5\n",
       "193080    6\n",
       "192985    5\n",
       "         ..\n",
       "238813    5\n",
       "243165    6\n",
       "241638    5\n",
       "246268    5\n",
       "246269    5\n",
       "Name: Height_n1, Length: 18207, dtype: object"
      ]
     },
     "execution_count": 105,
     "metadata": {},
     "output_type": "execute_result"
    }
   ],
   "source": [
    "df['Height_n1']"
   ]
  },
  {
   "cell_type": "code",
   "execution_count": 106,
   "metadata": {
    "execution": {
     "iopub.execute_input": "2022-10-14T20:28:09.341076Z",
     "iopub.status.busy": "2022-10-14T20:28:09.339786Z",
     "iopub.status.idle": "2022-10-14T20:28:09.356665Z",
     "shell.execute_reply": "2022-10-14T20:28:09.355748Z",
     "shell.execute_reply.started": "2022-10-14T20:28:09.341033Z"
    },
    "id": "FdB-hzftYeGl"
   },
   "outputs": [],
   "source": [
    "df['Height_n1']=pd.to_numeric(df['Height_n1'],errors='coerce')"
   ]
  },
  {
   "cell_type": "code",
   "execution_count": 107,
   "metadata": {
    "execution": {
     "iopub.execute_input": "2022-10-14T20:28:09.35944Z",
     "iopub.status.busy": "2022-10-14T20:28:09.358233Z",
     "iopub.status.idle": "2022-10-14T20:28:09.379522Z",
     "shell.execute_reply": "2022-10-14T20:28:09.377903Z",
     "shell.execute_reply.started": "2022-10-14T20:28:09.3594Z"
    },
    "id": "-6OYvAplY1WW"
   },
   "outputs": [],
   "source": [
    "df['Height_n2']=pd.to_numeric(df['Height_n2'],errors='coerce')"
   ]
  },
  {
   "cell_type": "markdown",
   "metadata": {
    "id": "FLILOaH91MjV"
   },
   "source": [
    "## Feature engineering "
   ]
  },
  {
   "cell_type": "code",
   "execution_count": 108,
   "metadata": {
    "execution": {
     "iopub.execute_input": "2022-10-14T20:28:09.383543Z",
     "iopub.status.busy": "2022-10-14T20:28:09.381409Z",
     "iopub.status.idle": "2022-10-14T20:28:09.39831Z",
     "shell.execute_reply": "2022-10-14T20:28:09.39715Z",
     "shell.execute_reply.started": "2022-10-14T20:28:09.383492Z"
    },
    "id": "lIgPbXs2VK1e"
   },
   "outputs": [],
   "source": [
    "df['Height_m']=(df['Height_n1']* 0.3048)+(df['Height_n2']*0.0254)"
   ]
  },
  {
   "cell_type": "code",
   "execution_count": 109,
   "metadata": {
    "execution": {
     "iopub.execute_input": "2022-10-14T20:28:09.400984Z",
     "iopub.status.busy": "2022-10-14T20:28:09.399755Z",
     "iopub.status.idle": "2022-10-14T20:28:09.412072Z",
     "shell.execute_reply": "2022-10-14T20:28:09.410929Z",
     "shell.execute_reply.started": "2022-10-14T20:28:09.400945Z"
    },
    "id": "q8wkpfsBjyh4",
    "outputId": "4816d17d-0b1c-443d-b245-6923022b351e"
   },
   "outputs": [
    {
     "data": {
      "text/plain": [
       "1.8288    2929\n",
       "1.7780    2479\n",
       "1.7526    2238\n",
       "1.8034    2159\n",
       "1.8796    2015\n",
       "1.8542    1908\n",
       "1.9050     990\n",
       "1.7272     946\n",
       "1.7018     905\n",
       "1.9304     749\n",
       "1.6764     316\n",
       "1.9558     246\n",
       "1.6510     145\n",
       "1.9812      93\n",
       "1.6256      30\n",
       "2.0066      21\n",
       "1.6002      18\n",
       "2.0320      10\n",
       "1.5748       5\n",
       "1.5494       3\n",
       "2.0574       2\n",
       "Name: Height_m, dtype: int64"
      ]
     },
     "execution_count": 109,
     "metadata": {},
     "output_type": "execute_result"
    }
   ],
   "source": [
    "df['Height_m'].value_counts()"
   ]
  },
  {
   "cell_type": "markdown",
   "metadata": {
    "id": "Pd1eJ_dbAsBo"
   },
   "source": [
    "# handle release clause column"
   ]
  },
  {
   "cell_type": "code",
   "execution_count": 110,
   "metadata": {
    "execution": {
     "iopub.execute_input": "2022-10-14T20:28:09.414486Z",
     "iopub.status.busy": "2022-10-14T20:28:09.41356Z",
     "iopub.status.idle": "2022-10-14T20:28:09.424116Z",
     "shell.execute_reply": "2022-10-14T20:28:09.422969Z",
     "shell.execute_reply.started": "2022-10-14T20:28:09.414436Z"
    },
    "id": "dXbr2RxYzziU",
    "outputId": "cefd5b2f-faff-43bb-f03a-60a7cc69b084"
   },
   "outputs": [
    {
     "data": {
      "text/plain": [
       "ID\n",
       "158023    €226.5M\n",
       "20801     €127.1M\n",
       "190871    €228.1M\n",
       "193080    €138.6M\n",
       "192985    €196.4M\n",
       "           ...   \n",
       "238813      €143K\n",
       "243165      €113K\n",
       "241638      €165K\n",
       "246268      €143K\n",
       "246269      €165K\n",
       "Name: Release Clause, Length: 18207, dtype: object"
      ]
     },
     "execution_count": 110,
     "metadata": {},
     "output_type": "execute_result"
    }
   ],
   "source": [
    "df['Release Clause']"
   ]
  },
  {
   "cell_type": "code",
   "execution_count": 111,
   "metadata": {
    "execution": {
     "iopub.execute_input": "2022-10-14T20:28:09.42666Z",
     "iopub.status.busy": "2022-10-14T20:28:09.425847Z",
     "iopub.status.idle": "2022-10-14T20:28:09.445531Z",
     "shell.execute_reply": "2022-10-14T20:28:09.44431Z",
     "shell.execute_reply.started": "2022-10-14T20:28:09.426612Z"
    },
    "id": "ohvMa5g5-Mjb"
   },
   "outputs": [],
   "source": [
    "df['Release Clause']=df['Release Clause'].apply(lambda x:x.split('€')[1])"
   ]
  },
  {
   "cell_type": "code",
   "execution_count": 112,
   "metadata": {
    "execution": {
     "iopub.execute_input": "2022-10-14T20:28:09.447566Z",
     "iopub.status.busy": "2022-10-14T20:28:09.446987Z",
     "iopub.status.idle": "2022-10-14T20:28:09.541062Z",
     "shell.execute_reply": "2022-10-14T20:28:09.539802Z",
     "shell.execute_reply.started": "2022-10-14T20:28:09.447533Z"
    },
    "id": "FJuv-aFW-fd4"
   },
   "outputs": [],
   "source": [
    "df['Release Clause']=df['Release Clause'].replace({'K': '000', 'M': '000000'}, regex=True)"
   ]
  },
  {
   "cell_type": "code",
   "execution_count": 113,
   "metadata": {
    "execution": {
     "iopub.execute_input": "2022-10-14T20:28:09.543483Z",
     "iopub.status.busy": "2022-10-14T20:28:09.542718Z",
     "iopub.status.idle": "2022-10-14T20:28:09.554656Z",
     "shell.execute_reply": "2022-10-14T20:28:09.553392Z",
     "shell.execute_reply.started": "2022-10-14T20:28:09.543436Z"
    },
    "id": "EqMnqilGpOlR",
    "outputId": "d9a79f49-ae0b-47dc-fbdf-666abbf15209"
   },
   "outputs": [
    {
     "data": {
      "text/plain": [
       "ID\n",
       "158023    226.5000000\n",
       "20801     127.1000000\n",
       "190871    228.1000000\n",
       "193080    138.6000000\n",
       "192985    196.4000000\n",
       "             ...     \n",
       "238813         143000\n",
       "243165         113000\n",
       "241638         165000\n",
       "246268         143000\n",
       "246269         165000\n",
       "Name: Release Clause, Length: 18207, dtype: object"
      ]
     },
     "execution_count": 113,
     "metadata": {},
     "output_type": "execute_result"
    }
   ],
   "source": [
    "df['Release Clause']"
   ]
  },
  {
   "cell_type": "markdown",
   "metadata": {
    "id": "VdTzgV2F1nbV"
   },
   "source": [
    "##FEATURE ENGINEERING:: calculate the total payment for each player (Release Clause+Wage) :"
   ]
  },
  {
   "cell_type": "code",
   "execution_count": 114,
   "metadata": {
    "execution": {
     "iopub.execute_input": "2022-10-14T20:28:09.556655Z",
     "iopub.status.busy": "2022-10-14T20:28:09.556279Z",
     "iopub.status.idle": "2022-10-14T20:28:09.574909Z",
     "shell.execute_reply": "2022-10-14T20:28:09.573648Z",
     "shell.execute_reply.started": "2022-10-14T20:28:09.556625Z"
    },
    "id": "4UoMcxkm1Ycn"
   },
   "outputs": [],
   "source": [
    "df['Release Clause']=pd.to_numeric(df['Release Clause'],errors='coerce')"
   ]
  },
  {
   "cell_type": "code",
   "execution_count": 115,
   "metadata": {
    "execution": {
     "iopub.execute_input": "2022-10-14T20:28:09.577259Z",
     "iopub.status.busy": "2022-10-14T20:28:09.576291Z",
     "iopub.status.idle": "2022-10-14T20:28:09.586785Z",
     "shell.execute_reply": "2022-10-14T20:28:09.585651Z",
     "shell.execute_reply.started": "2022-10-14T20:28:09.577222Z"
    },
    "id": "W-TD0zFS1dzk"
   },
   "outputs": [],
   "source": [
    "df['total_payment']=df['Wage']+df['Release Clause']"
   ]
  },
  {
   "cell_type": "code",
   "execution_count": 116,
   "metadata": {
    "execution": {
     "iopub.execute_input": "2022-10-14T20:28:09.588777Z",
     "iopub.status.busy": "2022-10-14T20:28:09.588416Z",
     "iopub.status.idle": "2022-10-14T20:28:09.598351Z",
     "shell.execute_reply": "2022-10-14T20:28:09.596836Z",
     "shell.execute_reply.started": "2022-10-14T20:28:09.588747Z"
    },
    "id": "fcIKMXWa1iH4"
   },
   "outputs": [],
   "source": [
    "df['total_payment']=df['total_payment'].astype(int)"
   ]
  },
  {
   "cell_type": "code",
   "execution_count": 117,
   "metadata": {
    "execution": {
     "iopub.execute_input": "2022-10-14T20:28:09.600934Z",
     "iopub.status.busy": "2022-10-14T20:28:09.600399Z",
     "iopub.status.idle": "2022-10-14T20:28:09.613123Z",
     "shell.execute_reply": "2022-10-14T20:28:09.611804Z",
     "shell.execute_reply.started": "2022-10-14T20:28:09.600887Z"
    },
    "id": "jTuBVxwv1maU",
    "outputId": "e41427c1-a094-4444-c49c-503d56ca598a"
   },
   "outputs": [
    {
     "data": {
      "text/plain": [
       "ID\n",
       "158023          336\n",
       "20801      77000127\n",
       "190871          346\n",
       "193080     72000138\n",
       "192985    102000196\n",
       "            ...    \n",
       "238813       203000\n",
       "243165       173000\n",
       "241638       225000\n",
       "246268       203000\n",
       "246269       225000\n",
       "Name: total_payment, Length: 18207, dtype: int32"
      ]
     },
     "execution_count": 117,
     "metadata": {},
     "output_type": "execute_result"
    }
   ],
   "source": [
    "df['total_payment']"
   ]
  },
  {
   "cell_type": "markdown",
   "metadata": {
    "id": "ygC7jBQ_wj6l"
   },
   "source": [
    "# univariate analysis"
   ]
  },
  {
   "cell_type": "markdown",
   "metadata": {
    "id": "dTkfir3Dl0Ag"
   },
   "source": [
    "###1- What is the distribution of the players **AGE** ?"
   ]
  },
  {
   "cell_type": "code",
   "execution_count": 118,
   "metadata": {
    "execution": {
     "iopub.execute_input": "2022-10-14T20:28:09.615516Z",
     "iopub.status.busy": "2022-10-14T20:28:09.615073Z",
     "iopub.status.idle": "2022-10-14T20:28:10.143044Z",
     "shell.execute_reply": "2022-10-14T20:28:10.141555Z",
     "shell.execute_reply.started": "2022-10-14T20:28:09.615484Z"
    },
    "id": "enSeLRCzwLzl",
    "outputId": "ed6923a0-87de-4721-952f-dd5091625f73"
   },
   "outputs": [
    {
     "name": "stderr",
     "output_type": "stream",
     "text": [
      "C:\\Users\\scorp\\AppData\\Local\\Temp\\ipykernel_25092\\1141810608.py:1: FutureWarning: \n",
      "\n",
      "`shade` is now deprecated in favor of `fill`; setting `fill=True`.\n",
      "This will become an error in seaborn v0.14.0; please update your code.\n",
      "\n",
      "  sns.kdeplot(df['Age'],shade=True,color='r')\n"
     ]
    },
    {
     "data": {
      "text/plain": [
       "<Axes: xlabel='Age', ylabel='Density'>"
      ]
     },
     "execution_count": 118,
     "metadata": {},
     "output_type": "execute_result"
    },
    {
     "data": {
      "image/png": "[encoded data removed]",
      "text/plain": [
       "<Figure size 1500x800 with 1 Axes>"
      ]
     },
     "metadata": {},
     "output_type": "display_data"
    }
   ],
   "source": [
    "sns.kdeplot(df['Age'],shade=True,color='r')"
   ]
  },
  {
   "cell_type": "markdown",
   "metadata": {
    "id": "B2iPBPj-x5hl"
   },
   "source": [
    "# 2-what is the range of ***overall*** evaluation for the football players ?\n"
   ]
  },
  {
   "cell_type": "code",
   "execution_count": 119,
   "metadata": {
    "execution": {
     "iopub.execute_input": "2022-10-14T20:28:10.145408Z",
     "iopub.status.busy": "2022-10-14T20:28:10.144877Z",
     "iopub.status.idle": "2022-10-14T20:28:10.626068Z",
     "shell.execute_reply": "2022-10-14T20:28:10.62479Z",
     "shell.execute_reply.started": "2022-10-14T20:28:10.145361Z"
    },
    "id": "u6htzHYWwSha",
    "outputId": "04673659-028a-45bf-ad1e-6f5881af19ed"
   },
   "outputs": [
    {
     "data": {
      "text/plain": [
       "<Axes: xlabel='Overall', ylabel='Count'>"
      ]
     },
     "execution_count": 119,
     "metadata": {},
     "output_type": "execute_result"
    },
    {
     "data": {
      "image/png": "[encoded data removed]",
      "text/plain": [
       "<Figure size 1500x800 with 1 Axes>"
      ]
     },
     "metadata": {},
     "output_type": "display_data"
    }
   ],
   "source": [
    "sns.histplot(df['Overall'])"
   ]
  },
  {
   "cell_type": "markdown",
   "metadata": {
    "id": "IIKNTZLiyFJH"
   },
   "source": [
    "## 3- How many players in each **position**? "
   ]
  },
  {
   "cell_type": "code",
   "execution_count": 120,
   "metadata": {
    "execution": {
     "iopub.execute_input": "2022-10-14T20:28:10.627905Z",
     "iopub.status.busy": "2022-10-14T20:28:10.627485Z",
     "iopub.status.idle": "2022-10-14T20:28:10.639028Z",
     "shell.execute_reply": "2022-10-14T20:28:10.637861Z",
     "shell.execute_reply.started": "2022-10-14T20:28:10.627862Z"
    },
    "id": "12o-RxWqnXkT"
   },
   "outputs": [],
   "source": [
    "c = pd.DataFrame(df.groupby(\"Position\")['Position'].count().sort_values(ascending=False).head(20))"
   ]
  },
  {
   "cell_type": "code",
   "execution_count": 121,
   "metadata": {
    "execution": {
     "iopub.execute_input": "2022-10-14T20:28:10.642035Z",
     "iopub.status.busy": "2022-10-14T20:28:10.641205Z",
     "iopub.status.idle": "2022-10-14T20:28:11.085074Z",
     "shell.execute_reply": "2022-10-14T20:28:11.083689Z",
     "shell.execute_reply.started": "2022-10-14T20:28:10.641986Z"
    },
    "id": "VaZ46tpnrOFI",
    "outputId": "ed59a6e6-3b93-4b26-ca80-e8d81c715aa3"
   },
   "outputs": [
    {
     "data": {
      "image/png": "[encoded data removed]",
      "text/plain": [
       "<Figure size 1500x800 with 1 Axes>"
      ]
     },
     "metadata": {},
     "output_type": "display_data"
    }
   ],
   "source": [
    "sns.barplot(data = c, x=c.index , y='Position')\n",
    "plt.xticks(rotation = 45);"
   ]
  },
  {
   "cell_type": "markdown",
   "metadata": {
    "id": "ZspIdAQyyzxJ"
   },
   "source": [
    "## 4-Number of players evaluated by there **work rate** ??"
   ]
  },
  {
   "cell_type": "code",
   "execution_count": 122,
   "metadata": {
    "execution": {
     "iopub.execute_input": "2022-10-14T20:28:11.0872Z",
     "iopub.status.busy": "2022-10-14T20:28:11.086813Z",
     "iopub.status.idle": "2022-10-14T20:28:11.439106Z",
     "shell.execute_reply": "2022-10-14T20:28:11.438055Z",
     "shell.execute_reply.started": "2022-10-14T20:28:11.08716Z"
    },
    "id": "uE0X9u0mwYeQ",
    "outputId": "30579511-e4ad-477a-bffc-9b2d9e0b3aad"
   },
   "outputs": [
    {
     "data": {
      "text/plain": [
       "(array([    0.,  2000.,  4000.,  6000.,  8000., 10000., 12000.]),\n",
       " [Text(0.0, 0, '0'),\n",
       "  Text(2000.0, 0, '2000'),\n",
       "  Text(4000.0, 0, '4000'),\n",
       "  Text(6000.0, 0, '6000'),\n",
       "  Text(8000.0, 0, '8000'),\n",
       "  Text(10000.0, 0, '10000'),\n",
       "  Text(12000.0, 0, '12000')])"
      ]
     },
     "execution_count": 122,
     "metadata": {},
     "output_type": "execute_result"
    },
    {
     "data": {
      "image/png": "[encoded data removed]",
      "text/plain": [
       "<Figure size 1500x800 with 1 Axes>"
      ]
     },
     "metadata": {},
     "output_type": "display_data"
    }
   ],
   "source": [
    "sns.countplot(data=df,y='Work Rate')\n",
    "plt.xticks(rotation=45)"
   ]
  },
  {
   "cell_type": "markdown",
   "metadata": {
    "id": "jhU_RgLYPO1G"
   },
   "source": [
    "## 5-what is the distrbution of the  average **ages** of the players **strength**?"
   ]
  },
  {
   "cell_type": "code",
   "execution_count": 123,
   "metadata": {
    "execution": {
     "iopub.execute_input": "2022-10-14T20:28:11.440906Z",
     "iopub.status.busy": "2022-10-14T20:28:11.440452Z",
     "iopub.status.idle": "2022-10-14T20:28:11.464477Z",
     "shell.execute_reply": "2022-10-14T20:28:11.463395Z",
     "shell.execute_reply.started": "2022-10-14T20:28:11.440869Z"
    },
    "id": "FkeDGZyKPOHO"
   },
   "outputs": [],
   "source": [
    "\n",
    "s_a=df.groupby('Strength')[['Age']].mean()"
   ]
  },
  {
   "cell_type": "code",
   "execution_count": 124,
   "metadata": {
    "execution": {
     "iopub.execute_input": "2022-10-14T20:28:11.466548Z",
     "iopub.status.busy": "2022-10-14T20:28:11.466112Z",
     "iopub.status.idle": "2022-10-14T20:28:11.813946Z",
     "shell.execute_reply": "2022-10-14T20:28:11.813084Z",
     "shell.execute_reply.started": "2022-10-14T20:28:11.466514Z"
    },
    "id": "nNyCgi3X9W-u",
    "outputId": "5c32bf14-3fe0-4326-b787-3941321f0219"
   },
   "outputs": [
    {
     "name": "stderr",
     "output_type": "stream",
     "text": [
      "C:\\Users\\scorp\\AppData\\Local\\Temp\\ipykernel_25092\\60611438.py:1: UserWarning: \n",
      "\n",
      "`distplot` is a deprecated function and will be removed in seaborn v0.14.0.\n",
      "\n",
      "Please adapt your code to use either `displot` (a figure-level function with\n",
      "similar flexibility) or `histplot` (an axes-level function for histograms).\n",
      "\n",
      "For a guide to updating your code to use the new functions, please see\n",
      "https://gist.github.com/mwaskom/de44147ed2974457ad6372750bbe5751\n",
      "\n",
      "  sns.distplot(s_a)\n"
     ]
    },
    {
     "data": {
      "text/plain": [
       "<Axes: ylabel='Density'>"
      ]
     },
     "execution_count": 124,
     "metadata": {},
     "output_type": "execute_result"
    },
    {
     "data": {
      "image/png": "[encoded data removed]",
      "text/plain": [
       "<Figure size 1500x800 with 1 Axes>"
      ]
     },
     "metadata": {},
     "output_type": "display_data"
    }
   ],
   "source": [
    "sns.distplot(s_a)"
   ]
  },
  {
   "cell_type": "markdown",
   "metadata": {
    "id": "omWZhEWtpkXA"
   },
   "source": [
    "##6- What is the relation between the **Value** the fifa put for the player and **wage** the players take in fact ?"
   ]
  },
  {
   "cell_type": "code",
   "execution_count": 125,
   "metadata": {
    "execution": {
     "iopub.execute_input": "2022-10-14T20:28:11.815936Z",
     "iopub.status.busy": "2022-10-14T20:28:11.81507Z",
     "iopub.status.idle": "2022-10-14T20:28:21.477987Z",
     "shell.execute_reply": "2022-10-14T20:28:21.47702Z",
     "shell.execute_reply.started": "2022-10-14T20:28:11.815901Z"
    },
    "id": "thydQUnh0XkU",
    "outputId": "b52ed103-a87a-4ef9-b18a-1556ae5c20a0"
   },
   "outputs": [
    {
     "data": {
      "text/plain": [
       "<seaborn.axisgrid.JointGrid at 0x2843cf44730>"
      ]
     },
     "execution_count": 125,
     "metadata": {},
     "output_type": "execute_result"
    },
    {
     "data": {
      "image/png": "[encoded data removed]",
      "text/plain": [
       "<Figure size 600x600 with 3 Axes>"
      ]
     },
     "metadata": {},
     "output_type": "display_data"
    }
   ],
   "source": [
    "sns.jointplot(data=df,x='Value',y='Wage')"
   ]
  },
  {
   "cell_type": "markdown",
   "metadata": {
    "id": "umX4qwO804CQ"
   },
   "source": [
    "## 7-what is the most **preffered foot** for the players ?"
   ]
  },
  {
   "cell_type": "code",
   "execution_count": 126,
   "metadata": {
    "execution": {
     "iopub.execute_input": "2022-10-14T20:28:21.480261Z",
     "iopub.status.busy": "2022-10-14T20:28:21.479411Z",
     "iopub.status.idle": "2022-10-14T20:28:21.620884Z",
     "shell.execute_reply": "2022-10-14T20:28:21.619154Z",
     "shell.execute_reply.started": "2022-10-14T20:28:21.480218Z"
    },
    "id": "3KYbk_-L0opM",
    "outputId": "879ed451-9167-4a16-c8d4-f61f66daf32b"
   },
   "outputs": [
    {
     "data": {
      "text/plain": [
       "([<matplotlib.patches.Wedge at 0x2843e802da0>,\n",
       "  <matplotlib.patches.Wedge at 0x2843e802ce0>],\n",
       " [Text(-0.8221795516509662, 0.7307672576456997, 'Right foot'),\n",
       "  Text(0.822179551650966, -0.7307672576456998, 'Left foot')])"
      ]
     },
     "execution_count": 126,
     "metadata": {},
     "output_type": "execute_result"
    },
    {
     "data": {
      "image/png": "[encoded data removed]",
      "text/plain": [
       "<Figure size 1500x800 with 1 Axes>"
      ]
     },
     "metadata": {},
     "output_type": "display_data"
    }
   ],
   "source": [
    "x=df['Preferred Foot'].value_counts()\n",
    "y=['Right foot','Left foot']\n",
    "cols = ['c','m']\n",
    "plt.pie(x,labels=y,colors=cols)"
   ]
  },
  {
   "cell_type": "code",
   "execution_count": 127,
   "metadata": {
    "execution": {
     "iopub.execute_input": "2022-10-14T20:28:21.624511Z",
     "iopub.status.busy": "2022-10-14T20:28:21.623782Z",
     "iopub.status.idle": "2022-10-14T20:28:21.636399Z",
     "shell.execute_reply": "2022-10-14T20:28:21.634684Z",
     "shell.execute_reply.started": "2022-10-14T20:28:21.624448Z"
    },
    "id": "SKNRu3Yyz-Gg",
    "outputId": "50411ca9-0495-4141-b854-ebfea453525f"
   },
   "outputs": [
    {
     "data": {
      "text/plain": [
       "Index(['Name', 'Age', 'Nationality', 'Overall', 'Potential', 'Club', 'Value',\n",
       "       'Wage', 'Preferred Foot', 'Weak Foot', 'Skill Moves', 'Work Rate',\n",
       "       'Body Type', 'Position', 'Joined', 'Contract Valid Until', 'Height',\n",
       "       'Crossing', 'Finishing', 'HeadingAccuracy', 'ShortPassing', 'Volleys',\n",
       "       'Dribbling', 'Curve', 'FKAccuracy', 'LongPassing', 'BallControl',\n",
       "       'Acceleration', 'SprintSpeed', 'Agility', 'Reactions', 'Balance',\n",
       "       'ShotPower', 'Jumping', 'Stamina', 'Strength', 'LongShots',\n",
       "       'Aggression', 'Interceptions', 'Positioning', 'Vision', 'Penalties',\n",
       "       'Composure', 'Marking', 'StandingTackle', 'SlidingTackle', 'GKDiving',\n",
       "       'GKHandling', 'GKKicking', 'GKPositioning', 'GKReflexes',\n",
       "       'Release Clause', 'joined_month', 'Joined_year', 'Height_n1',\n",
       "       'Height_n2', 'Height_m', 'total_payment'],\n",
       "      dtype='object')"
      ]
     },
     "execution_count": 127,
     "metadata": {},
     "output_type": "execute_result"
    }
   ],
   "source": [
    "df.columns"
   ]
  },
  {
   "cell_type": "markdown",
   "metadata": {
    "id": "TYFfeGdKwZ1n"
   },
   "source": []
  },
  {
   "cell_type": "markdown",
   "metadata": {
    "id": "VJBIBPg8rU2R"
   },
   "source": [
    "## 8-what are the best **50 player**s evatuated by over all grade from the fifa?\n",
    "we should choose from them our team "
   ]
  },
  {
   "cell_type": "code",
   "execution_count": 128,
   "metadata": {
    "execution": {
     "iopub.execute_input": "2022-10-14T20:28:21.640165Z",
     "iopub.status.busy": "2022-10-14T20:28:21.639328Z",
     "iopub.status.idle": "2022-10-14T20:28:21.692071Z",
     "shell.execute_reply": "2022-10-14T20:28:21.690797Z",
     "shell.execute_reply.started": "2022-10-14T20:28:21.640102Z"
    },
    "id": "dBVGgrZGz15w"
   },
   "outputs": [],
   "source": [
    "players=df.groupby(['Age','Overall','Preferred Foot','Position','Height_m','total_payment','Wage','Release Clause','Contract Valid Until'])[['Name']].sum().sort_values(by='Overall',ascending=False)[1:51]"
   ]
  },
  {
   "cell_type": "code",
   "execution_count": 129,
   "metadata": {
    "execution": {
     "iopub.execute_input": "2022-10-14T20:28:21.694269Z",
     "iopub.status.busy": "2022-10-14T20:28:21.693882Z",
     "iopub.status.idle": "2022-10-14T20:28:21.728969Z",
     "shell.execute_reply": "2022-10-14T20:28:21.727681Z",
     "shell.execute_reply.started": "2022-10-14T20:28:21.694237Z"
    },
    "id": "yw43NjRtAG0Q",
    "outputId": "71022a49-0459-421e-fab6-7ebfa560c4ab"
   },
   "outputs": [
    {
     "data": {
      "text/html": [
       "<div>\n",
       "<style scoped>\n",
       "    .dataframe tbody tr th:only-of-type {\n",
       "        vertical-align: middle;\n",
       "    }\n",
       "\n",
       "    .dataframe tbody tr th {\n",
       "        vertical-align: top;\n",
       "    }\n",
       "\n",
       "    .dataframe thead th {\n",
       "        text-align: right;\n",
       "    }\n",
       "</style>\n",
       "<table border=\"1\" class=\"dataframe\">\n",
       "  <thead>\n",
       "    <tr style=\"text-align: right;\">\n",
       "      <th></th>\n",
       "      <th></th>\n",
       "      <th></th>\n",
       "      <th></th>\n",
       "      <th></th>\n",
       "      <th></th>\n",
       "      <th></th>\n",
       "      <th></th>\n",
       "      <th></th>\n",
       "      <th>Name</th>\n",
       "    </tr>\n",
       "    <tr>\n",
       "      <th>Age</th>\n",
       "      <th>Overall</th>\n",
       "      <th>Preferred Foot</th>\n",
       "      <th>Position</th>\n",
       "      <th>Height_m</th>\n",
       "      <th>total_payment</th>\n",
       "      <th>Wage</th>\n",
       "      <th>Release Clause</th>\n",
       "      <th>Contract Valid Until</th>\n",
       "      <th></th>\n",
       "    </tr>\n",
       "  </thead>\n",
       "  <tbody>\n",
       "    <tr>\n",
       "      <th>31</th>\n",
       "      <th>94</th>\n",
       "      <th>Left</th>\n",
       "      <th>RF</th>\n",
       "      <th>1.7018</th>\n",
       "      <th>336</th>\n",
       "      <th>110</th>\n",
       "      <th>226.5</th>\n",
       "      <th>2021</th>\n",
       "      <td>L. Messi</td>\n",
       "    </tr>\n",
       "    <tr>\n",
       "      <th>26</th>\n",
       "      <th>92</th>\n",
       "      <th>Right</th>\n",
       "      <th>LW</th>\n",
       "      <th>1.7526</th>\n",
       "      <th>346</th>\n",
       "      <th>118</th>\n",
       "      <th>228.1</th>\n",
       "      <th>2022</th>\n",
       "      <td>Neymar Jr</td>\n",
       "    </tr>\n",
       "    <tr>\n",
       "      <th rowspan=\"3\" valign=\"top\">27</th>\n",
       "      <th rowspan=\"3\" valign=\"top\">91</th>\n",
       "      <th rowspan=\"3\" valign=\"top\">Right</th>\n",
       "      <th>GK</th>\n",
       "      <th>1.9304</th>\n",
       "      <th>72000138</th>\n",
       "      <th>72000000</th>\n",
       "      <th>138.6</th>\n",
       "      <th>2020</th>\n",
       "      <td>De Gea</td>\n",
       "    </tr>\n",
       "    <tr>\n",
       "      <th>LF</th>\n",
       "      <th>1.7272</th>\n",
       "      <th>93000172</th>\n",
       "      <th>93000000</th>\n",
       "      <th>172.1</th>\n",
       "      <th>2020</th>\n",
       "      <td>E. Hazard</td>\n",
       "    </tr>\n",
       "    <tr>\n",
       "      <th>RCM</th>\n",
       "      <th>1.8034</th>\n",
       "      <th>102000196</th>\n",
       "      <th>102000000</th>\n",
       "      <th>196.4</th>\n",
       "      <th>2023</th>\n",
       "      <td>K. De Bruyne</td>\n",
       "    </tr>\n",
       "    <tr>\n",
       "      <th>32</th>\n",
       "      <th>91</th>\n",
       "      <th>Right</th>\n",
       "      <th>RCM</th>\n",
       "      <th>1.7272</th>\n",
       "      <th>67000137</th>\n",
       "      <th>67000000</th>\n",
       "      <th>137.4</th>\n",
       "      <th>2020</th>\n",
       "      <td>L. Modrić</td>\n",
       "    </tr>\n",
       "    <tr>\n",
       "      <th>31</th>\n",
       "      <th>91</th>\n",
       "      <th>Right</th>\n",
       "      <th>RS</th>\n",
       "      <th>1.8288</th>\n",
       "      <th>244000000</th>\n",
       "      <th>80000000</th>\n",
       "      <th>164000000.0</th>\n",
       "      <th>2021</th>\n",
       "      <td>L. Suárez</td>\n",
       "    </tr>\n",
       "    <tr>\n",
       "      <th>32</th>\n",
       "      <th>91</th>\n",
       "      <th>Right</th>\n",
       "      <th>RCB</th>\n",
       "      <th>1.8288</th>\n",
       "      <th>51000104</th>\n",
       "      <th>51000000</th>\n",
       "      <th>104.6</th>\n",
       "      <th>2020</th>\n",
       "      <td>Sergio Ramos</td>\n",
       "    </tr>\n",
       "    <tr>\n",
       "      <th>28</th>\n",
       "      <th>90</th>\n",
       "      <th>Right</th>\n",
       "      <th>LCM</th>\n",
       "      <th>1.8288</th>\n",
       "      <th>232</th>\n",
       "      <th>76</th>\n",
       "      <th>156.8</th>\n",
       "      <th>2022</th>\n",
       "      <td>T. Kroos</td>\n",
       "    </tr>\n",
       "    <tr>\n",
       "      <th>32</th>\n",
       "      <th>90</th>\n",
       "      <th>Right</th>\n",
       "      <th>CB</th>\n",
       "      <th>1.8796</th>\n",
       "      <th>44000090</th>\n",
       "      <th>44000000</th>\n",
       "      <th>90.2</th>\n",
       "      <th>2019</th>\n",
       "      <td>D. Godín</td>\n",
       "    </tr>\n",
       "    <tr>\n",
       "      <th>25</th>\n",
       "      <th>90</th>\n",
       "      <th>Right</th>\n",
       "      <th>GK</th>\n",
       "      <th>1.8796</th>\n",
       "      <th>68000144</th>\n",
       "      <th>68000000</th>\n",
       "      <th>144.5</th>\n",
       "      <th>2021</th>\n",
       "      <td>J. Oblak</td>\n",
       "    </tr>\n",
       "    <tr>\n",
       "      <th>32</th>\n",
       "      <th>90</th>\n",
       "      <th>Left</th>\n",
       "      <th>LCM</th>\n",
       "      <th>1.7272</th>\n",
       "      <th>171000000</th>\n",
       "      <th>60000000</th>\n",
       "      <th>111000000.0</th>\n",
       "      <th>2020</th>\n",
       "      <td>David Silva</td>\n",
       "    </tr>\n",
       "    <tr>\n",
       "      <th>29</th>\n",
       "      <th>90</th>\n",
       "      <th>Right</th>\n",
       "      <th>ST</th>\n",
       "      <th>1.8288</th>\n",
       "      <th>77000127</th>\n",
       "      <th>77000000</th>\n",
       "      <th>127.1</th>\n",
       "      <th>2021</th>\n",
       "      <td>R. Lewandowski</td>\n",
       "    </tr>\n",
       "    <tr>\n",
       "      <th rowspan=\"2\" valign=\"top\">27</th>\n",
       "      <th rowspan=\"2\" valign=\"top\">89</th>\n",
       "      <th>Left</th>\n",
       "      <th>CAM</th>\n",
       "      <th>1.7526</th>\n",
       "      <th>78000165</th>\n",
       "      <th>78000000</th>\n",
       "      <th>165.8</th>\n",
       "      <th>2023</th>\n",
       "      <td>A. Griezmann</td>\n",
       "    </tr>\n",
       "    <tr>\n",
       "      <th>Right</th>\n",
       "      <th>LDM</th>\n",
       "      <th>1.6764</th>\n",
       "      <th>63000121</th>\n",
       "      <th>63000000</th>\n",
       "      <th>121.3</th>\n",
       "      <th>2023</th>\n",
       "      <td>N. Kanté</td>\n",
       "    </tr>\n",
       "    <tr>\n",
       "      <th>24</th>\n",
       "      <th>89</th>\n",
       "      <th>Left</th>\n",
       "      <th>LF</th>\n",
       "      <th>1.7780</th>\n",
       "      <th>89000153</th>\n",
       "      <th>89000000</th>\n",
       "      <th>153.5</th>\n",
       "      <th>2022</th>\n",
       "      <td>P. Dybala</td>\n",
       "    </tr>\n",
       "    <tr>\n",
       "      <th>31</th>\n",
       "      <th>89</th>\n",
       "      <th>Right</th>\n",
       "      <th>LS</th>\n",
       "      <th>1.8542</th>\n",
       "      <th>171000000</th>\n",
       "      <th>60000000</th>\n",
       "      <th>111000000.0</th>\n",
       "      <th>2020</th>\n",
       "      <td>E. Cavani</td>\n",
       "    </tr>\n",
       "    <tr>\n",
       "      <th>33</th>\n",
       "      <th>89</th>\n",
       "      <th>Left</th>\n",
       "      <th>LCB</th>\n",
       "      <th>1.8796</th>\n",
       "      <th>27000044</th>\n",
       "      <th>27000000</th>\n",
       "      <th>44.6</th>\n",
       "      <th>2020</th>\n",
       "      <td>G. Chiellini</td>\n",
       "    </tr>\n",
       "    <tr>\n",
       "      <th>24</th>\n",
       "      <th>89</th>\n",
       "      <th>Right</th>\n",
       "      <th>ST</th>\n",
       "      <th>1.8796</th>\n",
       "      <th>243</th>\n",
       "      <th>83</th>\n",
       "      <th>160.7</th>\n",
       "      <th>2024</th>\n",
       "      <td>H. Kane</td>\n",
       "    </tr>\n",
       "    <tr>\n",
       "      <th>32</th>\n",
       "      <th>89</th>\n",
       "      <th>Right</th>\n",
       "      <th>GK</th>\n",
       "      <th>1.9304</th>\n",
       "      <th>38000062</th>\n",
       "      <th>38000000</th>\n",
       "      <th>62.7</th>\n",
       "      <th>2021</th>\n",
       "      <td>M. Neuer</td>\n",
       "    </tr>\n",
       "    <tr>\n",
       "      <th rowspan=\"2\" valign=\"top\">26</th>\n",
       "      <th rowspan=\"2\" valign=\"top\">89</th>\n",
       "      <th>Right</th>\n",
       "      <th>GK</th>\n",
       "      <th>1.8796</th>\n",
       "      <th>58000123</th>\n",
       "      <th>58000000</th>\n",
       "      <th>123.3</th>\n",
       "      <th>2022</th>\n",
       "      <td>M. ter Stegen</td>\n",
       "    </tr>\n",
       "    <tr>\n",
       "      <th>Left</th>\n",
       "      <th>GK</th>\n",
       "      <th>1.9812</th>\n",
       "      <th>166</th>\n",
       "      <th>53</th>\n",
       "      <th>113.7</th>\n",
       "      <th>2024</th>\n",
       "      <td>T. Courtois</td>\n",
       "    </tr>\n",
       "    <tr>\n",
       "      <th>29</th>\n",
       "      <th>89</th>\n",
       "      <th>Right</th>\n",
       "      <th>CDM</th>\n",
       "      <th>1.8796</th>\n",
       "      <th>156</th>\n",
       "      <th>51</th>\n",
       "      <th>105.6</th>\n",
       "      <th>2023</th>\n",
       "      <td>Sergio Busquets</td>\n",
       "    </tr>\n",
       "    <tr>\n",
       "      <th>30</th>\n",
       "      <th>89</th>\n",
       "      <th>Right</th>\n",
       "      <th>ST</th>\n",
       "      <th>1.7272</th>\n",
       "      <th>183</th>\n",
       "      <th>64</th>\n",
       "      <th>119.3</th>\n",
       "      <th>2021</th>\n",
       "      <td>S. Agüero</td>\n",
       "    </tr>\n",
       "    <tr>\n",
       "      <th rowspan=\"2\" valign=\"top\">33</th>\n",
       "      <th rowspan=\"2\" valign=\"top\">88</th>\n",
       "      <th rowspan=\"2\" valign=\"top\">Right</th>\n",
       "      <th>GK</th>\n",
       "      <th>1.9304</th>\n",
       "      <th>81000000</th>\n",
       "      <th>30000000</th>\n",
       "      <th>51000000.0</th>\n",
       "      <th>2021</th>\n",
       "      <td>S. Handanovič</td>\n",
       "    </tr>\n",
       "    <tr>\n",
       "      <th>RCB</th>\n",
       "      <th>1.8288</th>\n",
       "      <th>24000044</th>\n",
       "      <th>24000000</th>\n",
       "      <th>44.4</th>\n",
       "      <th>2020</th>\n",
       "      <td>Thiago Silva</td>\n",
       "    </tr>\n",
       "    <tr>\n",
       "      <th>30</th>\n",
       "      <th>88</th>\n",
       "      <th>Right</th>\n",
       "      <th>LS</th>\n",
       "      <th>1.8542</th>\n",
       "      <th>57000001</th>\n",
       "      <th>57000000</th>\n",
       "      <th>1.1</th>\n",
       "      <th>Jun 30, 2019</th>\n",
       "      <td>G. Higuaín</td>\n",
       "    </tr>\n",
       "    <tr>\n",
       "      <th rowspan=\"2\" valign=\"top\">29</th>\n",
       "      <th rowspan=\"2\" valign=\"top\">88</th>\n",
       "      <th rowspan=\"2\" valign=\"top\">Right</th>\n",
       "      <th>LM</th>\n",
       "      <th>1.8796</th>\n",
       "      <th>59000112</th>\n",
       "      <th>59000000</th>\n",
       "      <th>112.1</th>\n",
       "      <th>2021</th>\n",
       "      <td>P. Aubameyang</td>\n",
       "    </tr>\n",
       "    <tr>\n",
       "      <th>LCB</th>\n",
       "      <th>1.9050</th>\n",
       "      <th>46000075</th>\n",
       "      <th>46000000</th>\n",
       "      <th>75.9</th>\n",
       "      <th>2021</th>\n",
       "      <td>M. Hummels</td>\n",
       "    </tr>\n",
       "    <tr>\n",
       "      <th>31</th>\n",
       "      <th>88</th>\n",
       "      <th>Left</th>\n",
       "      <th>GK</th>\n",
       "      <th>1.8796</th>\n",
       "      <th>36000066</th>\n",
       "      <th>36000000</th>\n",
       "      <th>66.6</th>\n",
       "      <th>2022</th>\n",
       "      <td>H. Lloris</td>\n",
       "    </tr>\n",
       "    <tr>\n",
       "      <th>19</th>\n",
       "      <th>88</th>\n",
       "      <th>Right</th>\n",
       "      <th>RM</th>\n",
       "      <th>1.7780</th>\n",
       "      <th>81000166</th>\n",
       "      <th>81000000</th>\n",
       "      <th>166.1</th>\n",
       "      <th>2022</th>\n",
       "      <td>K. Mbappé</td>\n",
       "    </tr>\n",
       "    <tr>\n",
       "      <th rowspan=\"6\" valign=\"top\">26</th>\n",
       "      <th rowspan=\"6\" valign=\"top\">88</th>\n",
       "      <th rowspan=\"4\" valign=\"top\">Right</th>\n",
       "      <th rowspan=\"2\" valign=\"top\">LW</th>\n",
       "      <th>1.7526</th>\n",
       "      <th>229</th>\n",
       "      <th>73</th>\n",
       "      <th>156.2</th>\n",
       "      <th>2022</th>\n",
       "      <td>Isco</td>\n",
       "    </tr>\n",
       "    <tr>\n",
       "      <th>1.7272</th>\n",
       "      <th>216</th>\n",
       "      <th>69</th>\n",
       "      <th>147.7</th>\n",
       "      <th>2023</th>\n",
       "      <td>Coutinho</td>\n",
       "    </tr>\n",
       "    <tr>\n",
       "      <th>CDM</th>\n",
       "      <th>1.8542</th>\n",
       "      <th>185</th>\n",
       "      <th>59</th>\n",
       "      <th>126.4</th>\n",
       "      <th>2021</th>\n",
       "      <td>Casemiro</td>\n",
       "    </tr>\n",
       "    <tr>\n",
       "      <th>CAM</th>\n",
       "      <th>1.8034</th>\n",
       "      <th>214</th>\n",
       "      <th>73</th>\n",
       "      <th>141.5</th>\n",
       "      <th>2020</th>\n",
       "      <td>C. Eriksen</td>\n",
       "    </tr>\n",
       "    <tr>\n",
       "      <th rowspan=\"2\" valign=\"top\">Left</th>\n",
       "      <th>RM</th>\n",
       "      <th>1.7526</th>\n",
       "      <th>206</th>\n",
       "      <th>69</th>\n",
       "      <th>137.3</th>\n",
       "      <th>2023</th>\n",
       "      <td>M. Salah</td>\n",
       "    </tr>\n",
       "    <tr>\n",
       "      <th>LAM</th>\n",
       "      <th>1.8034</th>\n",
       "      <th>70</th>\n",
       "      <th>69</th>\n",
       "      <th>1.1</th>\n",
       "      <th>Jun 30, 2019</th>\n",
       "      <td>J. Rodríguez</td>\n",
       "    </tr>\n",
       "    <tr>\n",
       "      <th>28</th>\n",
       "      <th>88</th>\n",
       "      <th>Left</th>\n",
       "      <th>ST</th>\n",
       "      <th>1.8542</th>\n",
       "      <th>183000000</th>\n",
       "      <th>60000000</th>\n",
       "      <th>123000000.0</th>\n",
       "      <th>2022</th>\n",
       "      <td>G. Bale</td>\n",
       "    </tr>\n",
       "    <tr>\n",
       "      <th>27</th>\n",
       "      <th>88</th>\n",
       "      <th>Right</th>\n",
       "      <th>LW</th>\n",
       "      <th>1.6256</th>\n",
       "      <th>62000105</th>\n",
       "      <th>62000000</th>\n",
       "      <th>105.4</th>\n",
       "      <th>2022</th>\n",
       "      <td>L. Insigne</td>\n",
       "    </tr>\n",
       "    <tr>\n",
       "      <th>30</th>\n",
       "      <th>88</th>\n",
       "      <th>Left</th>\n",
       "      <th>LB</th>\n",
       "      <th>1.7526</th>\n",
       "      <th>43000088</th>\n",
       "      <th>43000000</th>\n",
       "      <th>88.2</th>\n",
       "      <th>2022</th>\n",
       "      <td>Marcelo</td>\n",
       "    </tr>\n",
       "    <tr>\n",
       "      <th>40</th>\n",
       "      <th>88</th>\n",
       "      <th>Right</th>\n",
       "      <th>GK</th>\n",
       "      <th>1.9304</th>\n",
       "      <th>4000007</th>\n",
       "      <th>4000000</th>\n",
       "      <th>7.4</th>\n",
       "      <th>2019</th>\n",
       "      <td>G. Buffon</td>\n",
       "    </tr>\n",
       "    <tr>\n",
       "      <th>31</th>\n",
       "      <th>87</th>\n",
       "      <th>Right</th>\n",
       "      <th>RF</th>\n",
       "      <th>1.7018</th>\n",
       "      <th>45000076</th>\n",
       "      <th>45000000</th>\n",
       "      <th>76.5</th>\n",
       "      <th>2020</th>\n",
       "      <td>D. Mertens</td>\n",
       "    </tr>\n",
       "    <tr>\n",
       "      <th>25</th>\n",
       "      <th>87</th>\n",
       "      <th>Right</th>\n",
       "      <th>RDM</th>\n",
       "      <th>1.9304</th>\n",
       "      <th>64000123</th>\n",
       "      <th>64000000</th>\n",
       "      <th>123.2</th>\n",
       "      <th>2021</th>\n",
       "      <td>P. Pogba</td>\n",
       "    </tr>\n",
       "    <tr>\n",
       "      <th rowspan=\"2\" valign=\"top\">30</th>\n",
       "      <th rowspan=\"2\" valign=\"top\">87</th>\n",
       "      <th rowspan=\"2\" valign=\"top\">Right</th>\n",
       "      <th>LCM</th>\n",
       "      <th>1.8288</th>\n",
       "      <th>125</th>\n",
       "      <th>46</th>\n",
       "      <th>79.1</th>\n",
       "      <th>2020</th>\n",
       "      <td>M. Hamšík</td>\n",
       "    </tr>\n",
       "    <tr>\n",
       "      <th>RCM</th>\n",
       "      <th>1.8288</th>\n",
       "      <th>141</th>\n",
       "      <th>46</th>\n",
       "      <th>95.3</th>\n",
       "      <th>2021</th>\n",
       "      <td>I. Rakitić</td>\n",
       "    </tr>\n",
       "    <tr>\n",
       "      <th>24</th>\n",
       "      <th>87</th>\n",
       "      <th>Left</th>\n",
       "      <th>CB</th>\n",
       "      <th>1.8288</th>\n",
       "      <th>57000121</th>\n",
       "      <th>57000000</th>\n",
       "      <th>121.1</th>\n",
       "      <th>2023</th>\n",
       "      <td>S. Umtiti</td>\n",
       "    </tr>\n",
       "    <tr>\n",
       "      <th>29</th>\n",
       "      <th>87</th>\n",
       "      <th>Left</th>\n",
       "      <th>LB</th>\n",
       "      <th>1.7018</th>\n",
       "      <th>38000077</th>\n",
       "      <th>38000000</th>\n",
       "      <th>77.9</th>\n",
       "      <th>2020</th>\n",
       "      <td>Jordi Alba</td>\n",
       "    </tr>\n",
       "    <tr>\n",
       "      <th>25</th>\n",
       "      <th>87</th>\n",
       "      <th>Left</th>\n",
       "      <th>ST</th>\n",
       "      <th>1.9050</th>\n",
       "      <th>182</th>\n",
       "      <th>62</th>\n",
       "      <th>120.3</th>\n",
       "      <th>2022</th>\n",
       "      <td>R. Lukaku</td>\n",
       "    </tr>\n",
       "    <tr>\n",
       "      <th>27</th>\n",
       "      <th>87</th>\n",
       "      <th>Right</th>\n",
       "      <th>LCB</th>\n",
       "      <th>1.8796</th>\n",
       "      <th>51000090</th>\n",
       "      <th>51000000</th>\n",
       "      <th>90.5</th>\n",
       "      <th>2021</th>\n",
       "      <td>K. Koulibaly</td>\n",
       "    </tr>\n",
       "    <tr>\n",
       "      <th>25</th>\n",
       "      <th>87</th>\n",
       "      <th>Right</th>\n",
       "      <th>ST</th>\n",
       "      <th>1.8034</th>\n",
       "      <th>178</th>\n",
       "      <th>64</th>\n",
       "      <th>114.5</th>\n",
       "      <th>2021</th>\n",
       "      <td>M. Icardi</td>\n",
       "    </tr>\n",
       "  </tbody>\n",
       "</table>\n",
       "</div>"
      ],
      "text/plain": [
       "                                                                                                                     Name\n",
       "Age Overall Preferred Foot Position Height_m total_payment Wage      Release Clause Contract Valid Until                 \n",
       "31  94      Left           RF       1.7018   336           110       226.5          2021                         L. Messi\n",
       "26  92      Right          LW       1.7526   346           118       228.1          2022                        Neymar Jr\n",
       "27  91      Right          GK       1.9304   72000138      72000000  138.6          2020                           De Gea\n",
       "                           LF       1.7272   93000172      93000000  172.1          2020                        E. Hazard\n",
       "                           RCM      1.8034   102000196     102000000 196.4          2023                     K. De Bruyne\n",
       "32  91      Right          RCM      1.7272   67000137      67000000  137.4          2020                        L. Modrić\n",
       "31  91      Right          RS       1.8288   244000000     80000000  164000000.0    2021                        L. Suárez\n",
       "32  91      Right          RCB      1.8288   51000104      51000000  104.6          2020                     Sergio Ramos\n",
       "28  90      Right          LCM      1.8288   232           76        156.8          2022                         T. Kroos\n",
       "32  90      Right          CB       1.8796   44000090      44000000  90.2           2019                         D. Godín\n",
       "25  90      Right          GK       1.8796   68000144      68000000  144.5          2021                         J. Oblak\n",
       "32  90      Left           LCM      1.7272   171000000     60000000  111000000.0    2020                      David Silva\n",
       "29  90      Right          ST       1.8288   77000127      77000000  127.1          2021                   R. Lewandowski\n",
       "27  89      Left           CAM      1.7526   78000165      78000000  165.8          2023                     A. Griezmann\n",
       "            Right          LDM      1.6764   63000121      63000000  121.3          2023                         N. Kanté\n",
       "24  89      Left           LF       1.7780   89000153      89000000  153.5          2022                        P. Dybala\n",
       "31  89      Right          LS       1.8542   171000000     60000000  111000000.0    2020                        E. Cavani\n",
       "33  89      Left           LCB      1.8796   27000044      27000000  44.6           2020                     G. Chiellini\n",
       "24  89      Right          ST       1.8796   243           83        160.7          2024                          H. Kane\n",
       "32  89      Right          GK       1.9304   38000062      38000000  62.7           2021                         M. Neuer\n",
       "26  89      Right          GK       1.8796   58000123      58000000  123.3          2022                    M. ter Stegen\n",
       "            Left           GK       1.9812   166           53        113.7          2024                      T. Courtois\n",
       "29  89      Right          CDM      1.8796   156           51        105.6          2023                  Sergio Busquets\n",
       "30  89      Right          ST       1.7272   183           64        119.3          2021                        S. Agüero\n",
       "33  88      Right          GK       1.9304   81000000      30000000  51000000.0     2021                    S. Handanovič\n",
       "                           RCB      1.8288   24000044      24000000  44.4           2020                     Thiago Silva\n",
       "30  88      Right          LS       1.8542   57000001      57000000  1.1            Jun 30, 2019               G. Higuaín\n",
       "29  88      Right          LM       1.8796   59000112      59000000  112.1          2021                    P. Aubameyang\n",
       "                           LCB      1.9050   46000075      46000000  75.9           2021                       M. Hummels\n",
       "31  88      Left           GK       1.8796   36000066      36000000  66.6           2022                        H. Lloris\n",
       "19  88      Right          RM       1.7780   81000166      81000000  166.1          2022                        K. Mbappé\n",
       "26  88      Right          LW       1.7526   229           73        156.2          2022                             Isco\n",
       "                                    1.7272   216           69        147.7          2023                         Coutinho\n",
       "                           CDM      1.8542   185           59        126.4          2021                         Casemiro\n",
       "                           CAM      1.8034   214           73        141.5          2020                       C. Eriksen\n",
       "            Left           RM       1.7526   206           69        137.3          2023                         M. Salah\n",
       "                           LAM      1.8034   70            69        1.1            Jun 30, 2019             J. Rodríguez\n",
       "28  88      Left           ST       1.8542   183000000     60000000  123000000.0    2022                          G. Bale\n",
       "27  88      Right          LW       1.6256   62000105      62000000  105.4          2022                       L. Insigne\n",
       "30  88      Left           LB       1.7526   43000088      43000000  88.2           2022                          Marcelo\n",
       "40  88      Right          GK       1.9304   4000007       4000000   7.4            2019                        G. Buffon\n",
       "31  87      Right          RF       1.7018   45000076      45000000  76.5           2020                       D. Mertens\n",
       "25  87      Right          RDM      1.9304   64000123      64000000  123.2          2021                         P. Pogba\n",
       "30  87      Right          LCM      1.8288   125           46        79.1           2020                        M. Hamšík\n",
       "                           RCM      1.8288   141           46        95.3           2021                       I. Rakitić\n",
       "24  87      Left           CB       1.8288   57000121      57000000  121.1          2023                        S. Umtiti\n",
       "29  87      Left           LB       1.7018   38000077      38000000  77.9           2020                       Jordi Alba\n",
       "25  87      Left           ST       1.9050   182           62        120.3          2022                        R. Lukaku\n",
       "27  87      Right          LCB      1.8796   51000090      51000000  90.5           2021                     K. Koulibaly\n",
       "25  87      Right          ST       1.8034   178           64        114.5          2021                        M. Icardi"
      ]
     },
     "execution_count": 129,
     "metadata": {},
     "output_type": "execute_result"
    }
   ],
   "source": [
    "players"
   ]
  },
  {
   "cell_type": "markdown",
   "metadata": {
    "id": "cRrG5SJdkE5R"
   },
   "source": [
    "# 9-The best 10 goalkeepers players we can choose from them for our team "
   ]
  },
  {
   "cell_type": "code",
   "execution_count": 130,
   "metadata": {
    "execution": {
     "iopub.execute_input": "2022-10-14T20:28:21.731439Z",
     "iopub.status.busy": "2022-10-14T20:28:21.730912Z",
     "iopub.status.idle": "2022-10-14T20:28:21.742105Z",
     "shell.execute_reply": "2022-10-14T20:28:21.740802Z",
     "shell.execute_reply.started": "2022-10-14T20:28:21.731393Z"
    },
    "id": "B6Csj0EUgQIT"
   },
   "outputs": [],
   "source": [
    "df_GK=df[df['Position']=='GK']"
   ]
  },
  {
   "cell_type": "code",
   "execution_count": 131,
   "metadata": {
    "execution": {
     "iopub.execute_input": "2022-10-14T20:28:21.744226Z",
     "iopub.status.busy": "2022-10-14T20:28:21.743455Z",
     "iopub.status.idle": "2022-10-14T20:28:21.763086Z",
     "shell.execute_reply": "2022-10-14T20:28:21.761872Z",
     "shell.execute_reply.started": "2022-10-14T20:28:21.744163Z"
    },
    "id": "aU99PPUYgiaF"
   },
   "outputs": [],
   "source": [
    "goalkeepers=df_GK.groupby(['GKReflexes','GKPositioning','GKKicking','GKHandling','GKDiving','Height_m','Strength','Club','Nationality','Age','Overall','Contract Valid Until','total_payment'])[['Name']].sum().sort_values(by='Overall',ascending=False)[1:11]"
   ]
  },
  {
   "cell_type": "code",
   "execution_count": 132,
   "metadata": {
    "execution": {
     "iopub.execute_input": "2022-10-14T20:28:21.764957Z",
     "iopub.status.busy": "2022-10-14T20:28:21.764601Z",
     "iopub.status.idle": "2022-10-14T20:28:21.793931Z",
     "shell.execute_reply": "2022-10-14T20:28:21.792643Z",
     "shell.execute_reply.started": "2022-10-14T20:28:21.764929Z"
    },
    "id": "VTM18UAGzTGM",
    "outputId": "87e281c2-6f53-42f8-9064-2648e89918e8"
   },
   "outputs": [
    {
     "data": {
      "text/html": [
       "<div>\n",
       "<style scoped>\n",
       "    .dataframe tbody tr th:only-of-type {\n",
       "        vertical-align: middle;\n",
       "    }\n",
       "\n",
       "    .dataframe tbody tr th {\n",
       "        vertical-align: top;\n",
       "    }\n",
       "\n",
       "    .dataframe thead th {\n",
       "        text-align: right;\n",
       "    }\n",
       "</style>\n",
       "<table border=\"1\" class=\"dataframe\">\n",
       "  <thead>\n",
       "    <tr style=\"text-align: right;\">\n",
       "      <th></th>\n",
       "      <th></th>\n",
       "      <th></th>\n",
       "      <th></th>\n",
       "      <th></th>\n",
       "      <th></th>\n",
       "      <th></th>\n",
       "      <th></th>\n",
       "      <th></th>\n",
       "      <th></th>\n",
       "      <th></th>\n",
       "      <th></th>\n",
       "      <th></th>\n",
       "      <th>Name</th>\n",
       "    </tr>\n",
       "    <tr>\n",
       "      <th>GKReflexes</th>\n",
       "      <th>GKPositioning</th>\n",
       "      <th>GKKicking</th>\n",
       "      <th>GKHandling</th>\n",
       "      <th>GKDiving</th>\n",
       "      <th>Height_m</th>\n",
       "      <th>Strength</th>\n",
       "      <th>Club</th>\n",
       "      <th>Nationality</th>\n",
       "      <th>Age</th>\n",
       "      <th>Overall</th>\n",
       "      <th>Contract Valid Until</th>\n",
       "      <th>total_payment</th>\n",
       "      <th></th>\n",
       "    </tr>\n",
       "  </thead>\n",
       "  <tbody>\n",
       "    <tr>\n",
       "      <th>89.0</th>\n",
       "      <th>88.0</th>\n",
       "      <th>78.0</th>\n",
       "      <th>92.0</th>\n",
       "      <th>86.0</th>\n",
       "      <th>1.8796</th>\n",
       "      <th>78.0</th>\n",
       "      <th>Atlético Madrid</th>\n",
       "      <th>Slovenia</th>\n",
       "      <th>25</th>\n",
       "      <th>90</th>\n",
       "      <th>2021</th>\n",
       "      <th>68000144</th>\n",
       "      <td>J. Oblak</td>\n",
       "    </tr>\n",
       "    <tr>\n",
       "      <th>87.0</th>\n",
       "      <th>87.0</th>\n",
       "      <th>91.0</th>\n",
       "      <th>86.0</th>\n",
       "      <th>90.0</th>\n",
       "      <th>1.9304</th>\n",
       "      <th>80.0</th>\n",
       "      <th>FC Bayern München</th>\n",
       "      <th>Germany</th>\n",
       "      <th>32</th>\n",
       "      <th>89</th>\n",
       "      <th>2021</th>\n",
       "      <th>38000062</th>\n",
       "      <td>M. Neuer</td>\n",
       "    </tr>\n",
       "    <tr>\n",
       "      <th>90.0</th>\n",
       "      <th>85.0</th>\n",
       "      <th>88.0</th>\n",
       "      <th>85.0</th>\n",
       "      <th>87.0</th>\n",
       "      <th>1.8796</th>\n",
       "      <th>79.0</th>\n",
       "      <th>FC Barcelona</th>\n",
       "      <th>Germany</th>\n",
       "      <th>26</th>\n",
       "      <th>89</th>\n",
       "      <th>2022</th>\n",
       "      <th>58000123</th>\n",
       "      <td>M. ter Stegen</td>\n",
       "    </tr>\n",
       "    <tr>\n",
       "      <th>88.0</th>\n",
       "      <th>86.0</th>\n",
       "      <th>72.0</th>\n",
       "      <th>91.0</th>\n",
       "      <th>85.0</th>\n",
       "      <th>1.9812</th>\n",
       "      <th>70.0</th>\n",
       "      <th>Real Madrid</th>\n",
       "      <th>Belgium</th>\n",
       "      <th>26</th>\n",
       "      <th>89</th>\n",
       "      <th>2024</th>\n",
       "      <th>166</th>\n",
       "      <td>T. Courtois</td>\n",
       "    </tr>\n",
       "    <tr>\n",
       "      <th>92.0</th>\n",
       "      <th>83.0</th>\n",
       "      <th>68.0</th>\n",
       "      <th>84.0</th>\n",
       "      <th>88.0</th>\n",
       "      <th>1.8796</th>\n",
       "      <th>43.0</th>\n",
       "      <th>Tottenham Hotspur</th>\n",
       "      <th>France</th>\n",
       "      <th>31</th>\n",
       "      <th>88</th>\n",
       "      <th>2022</th>\n",
       "      <th>36000066</th>\n",
       "      <td>H. Lloris</td>\n",
       "    </tr>\n",
       "    <tr>\n",
       "      <th>89.0</th>\n",
       "      <th>89.0</th>\n",
       "      <th>69.0</th>\n",
       "      <th>86.0</th>\n",
       "      <th>87.0</th>\n",
       "      <th>1.9304</th>\n",
       "      <th>71.0</th>\n",
       "      <th>Inter</th>\n",
       "      <th>Slovenia</th>\n",
       "      <th>33</th>\n",
       "      <th>88</th>\n",
       "      <th>2021</th>\n",
       "      <th>81000000</th>\n",
       "      <td>S. Handanovič</td>\n",
       "    </tr>\n",
       "    <tr>\n",
       "      <th>83.0</th>\n",
       "      <th>90.0</th>\n",
       "      <th>74.0</th>\n",
       "      <th>87.0</th>\n",
       "      <th>88.0</th>\n",
       "      <th>1.9304</th>\n",
       "      <th>69.0</th>\n",
       "      <th>Paris Saint-Germain</th>\n",
       "      <th>Italy</th>\n",
       "      <th>40</th>\n",
       "      <th>88</th>\n",
       "      <th>2019</th>\n",
       "      <th>4000007</th>\n",
       "      <td>G. Buffon</td>\n",
       "    </tr>\n",
       "    <tr>\n",
       "      <th>90.0</th>\n",
       "      <th>82.0</th>\n",
       "      <th>75.0</th>\n",
       "      <th>81.0</th>\n",
       "      <th>90.0</th>\n",
       "      <th>1.8542</th>\n",
       "      <th>75.0</th>\n",
       "      <th>Real Madrid</th>\n",
       "      <th>Costa Rica</th>\n",
       "      <th>31</th>\n",
       "      <th>87</th>\n",
       "      <th>2020</th>\n",
       "      <th>92</th>\n",
       "      <td>K. Navas</td>\n",
       "    </tr>\n",
       "    <tr>\n",
       "      <th>87.0</th>\n",
       "      <th>82.0</th>\n",
       "      <th>91.0</th>\n",
       "      <th>80.0</th>\n",
       "      <th>85.0</th>\n",
       "      <th>1.8796</th>\n",
       "      <th>68.0</th>\n",
       "      <th>Manchester City</th>\n",
       "      <th>Brazil</th>\n",
       "      <th>24</th>\n",
       "      <th>86</th>\n",
       "      <th>2025</th>\n",
       "      <th>120</th>\n",
       "      <td>Ederson</td>\n",
       "    </tr>\n",
       "    <tr>\n",
       "      <th>88.0</th>\n",
       "      <th>84.0</th>\n",
       "      <th>85.0</th>\n",
       "      <th>81.0</th>\n",
       "      <th>83.0</th>\n",
       "      <th>1.9050</th>\n",
       "      <th>78.0</th>\n",
       "      <th>Liverpool</th>\n",
       "      <th>Brazil</th>\n",
       "      <th>25</th>\n",
       "      <th>85</th>\n",
       "      <th>2024</th>\n",
       "      <th>108</th>\n",
       "      <td>Alisson</td>\n",
       "    </tr>\n",
       "  </tbody>\n",
       "</table>\n",
       "</div>"
      ],
      "text/plain": [
       "                                                                                                                                                                  Name\n",
       "GKReflexes GKPositioning GKKicking GKHandling GKDiving Height_m Strength Club                Nationality Age Overall Contract Valid Until total_payment               \n",
       "89.0       88.0          78.0      92.0       86.0     1.8796   78.0     Atlético Madrid     Slovenia    25  90      2021                 68000144            J. Oblak\n",
       "87.0       87.0          91.0      86.0       90.0     1.9304   80.0     FC Bayern München   Germany     32  89      2021                 38000062            M. Neuer\n",
       "90.0       85.0          88.0      85.0       87.0     1.8796   79.0     FC Barcelona        Germany     26  89      2022                 58000123       M. ter Stegen\n",
       "88.0       86.0          72.0      91.0       85.0     1.9812   70.0     Real Madrid         Belgium     26  89      2024                 166              T. Courtois\n",
       "92.0       83.0          68.0      84.0       88.0     1.8796   43.0     Tottenham Hotspur   France      31  88      2022                 36000066           H. Lloris\n",
       "89.0       89.0          69.0      86.0       87.0     1.9304   71.0     Inter               Slovenia    33  88      2021                 81000000       S. Handanovič\n",
       "83.0       90.0          74.0      87.0       88.0     1.9304   69.0     Paris Saint-Germain Italy       40  88      2019                 4000007            G. Buffon\n",
       "90.0       82.0          75.0      81.0       90.0     1.8542   75.0     Real Madrid         Costa Rica  31  87      2020                 92                  K. Navas\n",
       "87.0       82.0          91.0      80.0       85.0     1.8796   68.0     Manchester City     Brazil      24  86      2025                 120                  Ederson\n",
       "88.0       84.0          85.0      81.0       83.0     1.9050   78.0     Liverpool           Brazil      25  85      2024                 108                  Alisson"
      ]
     },
     "execution_count": 132,
     "metadata": {},
     "output_type": "execute_result"
    }
   ],
   "source": [
    "goalkeepers"
   ]
  },
  {
   "cell_type": "markdown",
   "metadata": {
    "id": "ioEsSiZhvQZv"
   },
   "source": [
    "# Drop **unused** columns "
   ]
  },
  {
   "cell_type": "markdown",
   "metadata": {
    "id": "VXXpgLxT3HIN"
   },
   "source": [
    "## visualize the **boxplo**t for the *numerical* columns to detect the **outliers** \n",
    "\n"
   ]
  },
  {
   "cell_type": "code",
   "execution_count": 133,
   "metadata": {
    "execution": {
     "iopub.execute_input": "2022-10-14T20:28:21.812715Z",
     "iopub.status.busy": "2022-10-14T20:28:21.81233Z",
     "iopub.status.idle": "2022-10-14T20:28:21.827033Z",
     "shell.execute_reply": "2022-10-14T20:28:21.825566Z",
     "shell.execute_reply.started": "2022-10-14T20:28:21.812682Z"
    },
    "id": "G4TGPpe83Bq8"
   },
   "outputs": [],
   "source": [
    "numeric_columns=df.select_dtypes(include=np.number).columns.tolist()"
   ]
  },
  {
   "cell_type": "code",
   "execution_count": 134,
   "metadata": {
    "execution": {
     "iopub.execute_input": "2022-10-14T20:28:33.57061Z",
     "iopub.status.busy": "2022-10-14T20:28:33.570236Z",
     "iopub.status.idle": "2022-10-14T20:28:33.60997Z",
     "shell.execute_reply": "2022-10-14T20:28:33.60867Z",
     "shell.execute_reply.started": "2022-10-14T20:28:33.570579Z"
    },
    "id": "g4NgbrGB3eeI"
   },
   "outputs": [],
   "source": [
    "max_wageonly = df.groupby('Name')[['Wage']].max().sort_values(by='Wage',ascending = False).head(31)"
   ]
  },
  {
   "cell_type": "code",
   "execution_count": 135,
   "metadata": {
    "execution": {
     "iopub.execute_input": "2022-10-14T20:28:33.614069Z",
     "iopub.status.busy": "2022-10-14T20:28:33.613087Z",
     "iopub.status.idle": "2022-10-14T20:28:34.490439Z",
     "shell.execute_reply": "2022-10-14T20:28:34.489134Z",
     "shell.execute_reply.started": "2022-10-14T20:28:33.613921Z"
    },
    "id": "RbFQc3iy3iK5",
    "outputId": "122c0abf-52c3-4530-9249-456dc63b7a77"
   },
   "outputs": [
    {
     "data": {
      "image/png": "[encoded data removed]",
      "text/plain": [
       "<Figure size 1500x800 with 1 Axes>"
      ]
     },
     "metadata": {},
     "output_type": "display_data"
    }
   ],
   "source": [
    "plt.figure(figsize=[15,8])\n",
    "sns.barplot(x=max_wageonly['Wage'],y=max_wageonly.index, palette='mako')\n",
    "plt.title(' price of each player top 30')\n",
    "plt.xticks(rotation=45)\n",
    "plt.savefig('profit.png',bbox_inches='tight',transparent=False,dpi=None, facecolor='w', edgecolor='r')"
   ]
  },
  {
   "cell_type": "markdown",
   "metadata": {
    "id": "JEEmo5EA3AKF"
   },
   "source": [
    "## visualized total payment(wage +released clauesed payment) for each player of top 30"
   ]
  },
  {
   "cell_type": "code",
   "execution_count": 136,
   "metadata": {
    "execution": {
     "iopub.execute_input": "2022-10-14T20:28:34.49244Z",
     "iopub.status.busy": "2022-10-14T20:28:34.492079Z",
     "iopub.status.idle": "2022-10-14T20:28:34.524303Z",
     "shell.execute_reply": "2022-10-14T20:28:34.523026Z",
     "shell.execute_reply.started": "2022-10-14T20:28:34.492409Z"
    },
    "id": "5DYoNgru17BZ"
   },
   "outputs": [],
   "source": [
    "max_wage = df.groupby('Name')[['total_payment']].max().sort_values(by='total_payment',ascending = False).head(31)"
   ]
  },
  {
   "cell_type": "code",
   "execution_count": 137,
   "metadata": {
    "execution": {
     "iopub.execute_input": "2022-10-14T20:28:34.526149Z",
     "iopub.status.busy": "2022-10-14T20:28:34.525798Z",
     "iopub.status.idle": "2022-10-14T20:28:35.380131Z",
     "shell.execute_reply": "2022-10-14T20:28:35.378854Z",
     "shell.execute_reply.started": "2022-10-14T20:28:34.52612Z"
    },
    "id": "jlNsSBo_2LQ4",
    "outputId": "7d7340ce-e3f2-469a-847f-f3a8ccd740ca",
    "scrolled": true
   },
   "outputs": [
    {
     "data": {
      "image/png": "[encoded data removed]",
      "text/plain": [
       "<Figure size 1500x800 with 1 Axes>"
      ]
     },
     "metadata": {},
     "output_type": "display_data"
    }
   ],
   "source": [
    "plt.figure(figsize=[15,8])\n",
    "sns.barplot(x=max_wage['total_payment'],y=max_wage.index)\n",
    "plt.title(' Total payment for each player top 30')\n",
    "plt.xticks(rotation=45)\n",
    "plt.savefig('profit.png',bbox_inches='tight',transparent=False,dpi=None, facecolor='w', edgecolor='b')"
   ]
  },
  {
   "cell_type": "markdown",
   "metadata": {
    "id": "LvNshJ_U56Fj"
   },
   "source": [
    "## Detecting outliers "
   ]
  },
  {
   "cell_type": "code",
   "execution_count": 138,
   "metadata": {
    "execution": {
     "iopub.execute_input": "2022-10-14T20:28:35.382532Z",
     "iopub.status.busy": "2022-10-14T20:28:35.382097Z",
     "iopub.status.idle": "2022-10-14T20:28:50.249978Z",
     "shell.execute_reply": "2022-10-14T20:28:50.24877Z",
     "shell.execute_reply.started": "2022-10-14T20:28:35.382495Z"
    },
    "id": "701nrIx_3fIY",
    "outputId": "1624e40c-91b4-4d45-88b6-50f462f53cd0"
   },
   "outputs": [
    {
     "name": "stdout",
     "output_type": "stream",
     "text": [
      "Requirement already satisfied: datasist in c:\\users\\scorp\\anaconda3\\lib\\site-packages (1.5.3)\n",
      "Requirement already satisfied: Joblib in c:\\users\\scorp\\anaconda3\\lib\\site-packages (from datasist) (1.1.1)\n",
      "Requirement already satisfied: seaborn in c:\\users\\scorp\\anaconda3\\lib\\site-packages (from datasist) (0.12.2)\n",
      "Requirement already satisfied: numpy in c:\\users\\scorp\\anaconda3\\lib\\site-packages (from datasist) (1.23.5)\n",
      "Requirement already satisfied: nltk in c:\\users\\scorp\\anaconda3\\lib\\site-packages (from datasist) (3.7)\n",
      "Requirement already satisfied: matplotlib in c:\\users\\scorp\\anaconda3\\lib\\site-packages (from datasist) (3.7.0)\n",
      "Requirement already satisfied: jupyter in c:\\users\\scorp\\anaconda3\\lib\\site-packages (from datasist) (1.0.0)\n",
      "Requirement already satisfied: scikit-learn in c:\\users\\scorp\\anaconda3\\lib\\site-packages (from datasist) (1.2.1)\n",
      "Requirement already satisfied: pandas in c:\\users\\scorp\\anaconda3\\lib\\site-packages (from datasist) (1.5.3)\n",
      "Requirement already satisfied: ipykernel in c:\\users\\scorp\\anaconda3\\lib\\site-packages (from jupyter->datasist) (6.19.2)\n",
      "Requirement already satisfied: notebook in c:\\users\\scorp\\anaconda3\\lib\\site-packages (from jupyter->datasist) (6.5.2)\n",
      "Requirement already satisfied: qtconsole in c:\\users\\scorp\\anaconda3\\lib\\site-packages (from jupyter->datasist) (5.4.0)\n",
      "Requirement already satisfied: nbconvert in c:\\users\\scorp\\anaconda3\\lib\\site-packages (from jupyter->datasist) (6.5.4)\n",
      "Requirement already satisfied: jupyter-console in c:\\users\\scorp\\anaconda3\\lib\\site-packages (from jupyter->datasist) (6.6.2)\n",
      "Requirement already satisfied: ipywidgets in c:\\users\\scorp\\anaconda3\\lib\\site-packages (from jupyter->datasist) (7.6.5)\n",
      "Requirement already satisfied: pyparsing>=2.3.1 in c:\\users\\scorp\\anaconda3\\lib\\site-packages (from matplotlib->datasist) (3.0.9)\n",
      "Requirement already satisfied: pillow>=6.2.0 in c:\\users\\scorp\\anaconda3\\lib\\site-packages (from matplotlib->datasist) (9.4.0)\n",
      "Requirement already satisfied: python-dateutil>=2.7 in c:\\users\\scorp\\anaconda3\\lib\\site-packages (from matplotlib->datasist) (2.8.2)\n",
      "Requirement already satisfied: kiwisolver>=1.0.1 in c:\\users\\scorp\\anaconda3\\lib\\site-packages (from matplotlib->datasist) (1.4.4)\n",
      "Requirement already satisfied: contourpy>=1.0.1 in c:\\users\\scorp\\anaconda3\\lib\\site-packages (from matplotlib->datasist) (1.0.5)\n",
      "Requirement already satisfied: cycler>=0.10 in c:\\users\\scorp\\anaconda3\\lib\\site-packages (from matplotlib->datasist) (0.11.0)\n",
      "Requirement already satisfied: packaging>=20.0 in c:\\users\\scorp\\anaconda3\\lib\\site-packages (from matplotlib->datasist) (22.0)\n",
      "Requirement already satisfied: fonttools>=4.22.0 in c:\\users\\scorp\\anaconda3\\lib\\site-packages (from matplotlib->datasist) (4.25.0)\n",
      "Requirement already satisfied: click in c:\\users\\scorp\\anaconda3\\lib\\site-packages (from nltk->datasist) (8.0.4)\n",
      "Requirement already satisfied: regex>=2021.8.3 in c:\\users\\scorp\\anaconda3\\lib\\site-packages (from nltk->datasist) (2022.7.9)\n",
      "Requirement already satisfied: tqdm in c:\\users\\scorp\\anaconda3\\lib\\site-packages (from nltk->datasist) (4.64.1)\n",
      "Requirement already satisfied: pytz>=2020.1 in c:\\users\\scorp\\anaconda3\\lib\\site-packages (from pandas->datasist) (2022.7)\n",
      "Requirement already satisfied: scipy>=1.3.2 in c:\\users\\scorp\\anaconda3\\lib\\site-packages (from scikit-learn->datasist) (1.10.0)\n",
      "Requirement already satisfied: threadpoolctl>=2.0.0 in c:\\users\\scorp\\anaconda3\\lib\\site-packages (from scikit-learn->datasist) (2.2.0)\n",
      "Requirement already satisfied: six>=1.5 in c:\\users\\scorp\\anaconda3\\lib\\site-packages (from python-dateutil>=2.7->matplotlib->datasist) (1.16.0)\n",
      "Requirement already satisfied: colorama in c:\\users\\scorp\\anaconda3\\lib\\site-packages (from click->nltk->datasist) (0.4.6)\n",
      "Requirement already satisfied: tornado>=6.1 in c:\\users\\scorp\\anaconda3\\lib\\site-packages (from ipykernel->jupyter->datasist) (6.1)\n",
      "Requirement already satisfied: jupyter-client>=6.1.12 in c:\\users\\scorp\\anaconda3\\lib\\site-packages (from ipykernel->jupyter->datasist) (7.3.4)\n",
      "Requirement already satisfied: debugpy>=1.0 in c:\\users\\scorp\\anaconda3\\lib\\site-packages (from ipykernel->jupyter->datasist) (1.5.1)\n",
      "Requirement already satisfied: psutil in c:\\users\\scorp\\anaconda3\\lib\\site-packages (from ipykernel->jupyter->datasist) (5.9.0)\n",
      "Requirement already satisfied: nest-asyncio in c:\\users\\scorp\\anaconda3\\lib\\site-packages (from ipykernel->jupyter->datasist) (1.5.6)\n",
      "Requirement already satisfied: pyzmq>=17 in c:\\users\\scorp\\anaconda3\\lib\\site-packages (from ipykernel->jupyter->datasist) (23.2.0)\n",
      "Requirement already satisfied: traitlets>=5.4.0 in c:\\users\\scorp\\anaconda3\\lib\\site-packages (from ipykernel->jupyter->datasist) (5.7.1)\n",
      "Requirement already satisfied: ipython>=7.23.1 in c:\\users\\scorp\\anaconda3\\lib\\site-packages (from ipykernel->jupyter->datasist) (8.10.0)\n",
      "Requirement already satisfied: matplotlib-inline>=0.1 in c:\\users\\scorp\\anaconda3\\lib\\site-packages (from ipykernel->jupyter->datasist) (0.1.6)\n",
      "Requirement already satisfied: comm>=0.1.1 in c:\\users\\scorp\\anaconda3\\lib\\site-packages (from ipykernel->jupyter->datasist) (0.1.2)\n",
      "Requirement already satisfied: jupyterlab-widgets>=1.0.0 in c:\\users\\scorp\\anaconda3\\lib\\site-packages (from ipywidgets->jupyter->datasist) (1.0.0)\n",
      "Requirement already satisfied: ipython-genutils~=0.2.0 in c:\\users\\scorp\\anaconda3\\lib\\site-packages (from ipywidgets->jupyter->datasist) (0.2.0)\n",
      "Requirement already satisfied: nbformat>=4.2.0 in c:\\users\\scorp\\anaconda3\\lib\\site-packages (from ipywidgets->jupyter->datasist) (5.7.0)\n",
      "Requirement already satisfied: widgetsnbextension~=3.5.0 in c:\\users\\scorp\\anaconda3\\lib\\site-packages (from ipywidgets->jupyter->datasist) (3.5.2)\n",
      "Requirement already satisfied: pygments in c:\\users\\scorp\\anaconda3\\lib\\site-packages (from jupyter-console->jupyter->datasist) (2.11.2)\n",
      "Requirement already satisfied: prompt-toolkit>=3.0.30 in c:\\users\\scorp\\anaconda3\\lib\\site-packages (from jupyter-console->jupyter->datasist) (3.0.36)\n",
      "Requirement already satisfied: jupyter-core!=5.0.*,>=4.12 in c:\\users\\scorp\\anaconda3\\lib\\site-packages (from jupyter-console->jupyter->datasist) (5.2.0)\n",
      "Requirement already satisfied: entrypoints>=0.2.2 in c:\\users\\scorp\\anaconda3\\lib\\site-packages (from nbconvert->jupyter->datasist) (0.4)\n",
      "Requirement already satisfied: MarkupSafe>=2.0 in c:\\users\\scorp\\anaconda3\\lib\\site-packages (from nbconvert->jupyter->datasist) (2.1.1)\n",
      "Requirement already satisfied: tinycss2 in c:\\users\\scorp\\anaconda3\\lib\\site-packages (from nbconvert->jupyter->datasist) (1.2.1)\n",
      "Requirement already satisfied: bleach in c:\\users\\scorp\\anaconda3\\lib\\site-packages (from nbconvert->jupyter->datasist) (4.1.0)\n",
      "Requirement already satisfied: jinja2>=3.0 in c:\\users\\scorp\\anaconda3\\lib\\site-packages (from nbconvert->jupyter->datasist) (3.1.2)\n",
      "Requirement already satisfied: mistune<2,>=0.8.1 in c:\\users\\scorp\\anaconda3\\lib\\site-packages (from nbconvert->jupyter->datasist) (0.8.4)\n",
      "Requirement already satisfied: defusedxml in c:\\users\\scorp\\anaconda3\\lib\\site-packages (from nbconvert->jupyter->datasist) (0.7.1)\n",
      "Requirement already satisfied: beautifulsoup4 in c:\\users\\scorp\\anaconda3\\lib\\site-packages (from nbconvert->jupyter->datasist) (4.11.1)\n",
      "Requirement already satisfied: pandocfilters>=1.4.1 in c:\\users\\scorp\\anaconda3\\lib\\site-packages (from nbconvert->jupyter->datasist) (1.5.0)\n",
      "Requirement already satisfied: nbclient>=0.5.0 in c:\\users\\scorp\\anaconda3\\lib\\site-packages (from nbconvert->jupyter->datasist) (0.5.13)\n",
      "Requirement already satisfied: jupyterlab-pygments in c:\\users\\scorp\\anaconda3\\lib\\site-packages (from nbconvert->jupyter->datasist) (0.1.2)\n",
      "Requirement already satisfied: lxml in c:\\users\\scorp\\anaconda3\\lib\\site-packages (from nbconvert->jupyter->datasist) (4.9.1)\n",
      "Requirement already satisfied: argon2-cffi in c:\\users\\scorp\\anaconda3\\lib\\site-packages (from notebook->jupyter->datasist) (21.3.0)\n",
      "Requirement already satisfied: prometheus-client in c:\\users\\scorp\\anaconda3\\lib\\site-packages (from notebook->jupyter->datasist) (0.14.1)\n",
      "Requirement already satisfied: Send2Trash>=1.8.0 in c:\\users\\scorp\\anaconda3\\lib\\site-packages (from notebook->jupyter->datasist) (1.8.0)\n",
      "Requirement already satisfied: terminado>=0.8.3 in c:\\users\\scorp\\anaconda3\\lib\\site-packages (from notebook->jupyter->datasist) (0.17.1)\n",
      "Requirement already satisfied: nbclassic>=0.4.7 in c:\\users\\scorp\\anaconda3\\lib\\site-packages (from notebook->jupyter->datasist) (0.5.2)\n",
      "Requirement already satisfied: qtpy>=2.0.1 in c:\\users\\scorp\\anaconda3\\lib\\site-packages (from qtconsole->jupyter->datasist) (2.2.0)\n",
      "Requirement already satisfied: jedi>=0.16 in c:\\users\\scorp\\anaconda3\\lib\\site-packages (from ipython>=7.23.1->ipykernel->jupyter->datasist) (0.18.1)\n",
      "Requirement already satisfied: stack-data in c:\\users\\scorp\\anaconda3\\lib\\site-packages (from ipython>=7.23.1->ipykernel->jupyter->datasist) (0.2.0)\n",
      "Requirement already satisfied: backcall in c:\\users\\scorp\\anaconda3\\lib\\site-packages (from ipython>=7.23.1->ipykernel->jupyter->datasist) (0.2.0)\n",
      "Requirement already satisfied: decorator in c:\\users\\scorp\\anaconda3\\lib\\site-packages (from ipython>=7.23.1->ipykernel->jupyter->datasist) (5.1.1)\n",
      "Requirement already satisfied: pickleshare in c:\\users\\scorp\\anaconda3\\lib\\site-packages (from ipython>=7.23.1->ipykernel->jupyter->datasist) (0.7.5)\n",
      "Requirement already satisfied: pywin32>=1.0 in c:\\users\\scorp\\anaconda3\\lib\\site-packages (from jupyter-core!=5.0.*,>=4.12->jupyter-console->jupyter->datasist) (305.1)\n",
      "Requirement already satisfied: platformdirs>=2.5 in c:\\users\\scorp\\anaconda3\\lib\\site-packages (from jupyter-core!=5.0.*,>=4.12->jupyter-console->jupyter->datasist) (2.5.2)\n",
      "Requirement already satisfied: jupyter-server>=1.8 in c:\\users\\scorp\\anaconda3\\lib\\site-packages (from nbclassic>=0.4.7->notebook->jupyter->datasist) (1.23.4)\n",
      "Requirement already satisfied: notebook-shim>=0.1.0 in c:\\users\\scorp\\anaconda3\\lib\\site-packages (from nbclassic>=0.4.7->notebook->jupyter->datasist) (0.2.2)\n",
      "Requirement already satisfied: jsonschema>=2.6 in c:\\users\\scorp\\anaconda3\\lib\\site-packages (from nbformat>=4.2.0->ipywidgets->jupyter->datasist) (4.17.3)\n",
      "Requirement already satisfied: fastjsonschema in c:\\users\\scorp\\anaconda3\\lib\\site-packages (from nbformat>=4.2.0->ipywidgets->jupyter->datasist) (2.16.2)\n",
      "Requirement already satisfied: wcwidth in c:\\users\\scorp\\anaconda3\\lib\\site-packages (from prompt-toolkit>=3.0.30->jupyter-console->jupyter->datasist) (0.2.5)\n",
      "Requirement already satisfied: pywinpty>=1.1.0 in c:\\users\\scorp\\anaconda3\\lib\\site-packages (from terminado>=0.8.3->notebook->jupyter->datasist) (2.0.10)\n",
      "Requirement already satisfied: argon2-cffi-bindings in c:\\users\\scorp\\anaconda3\\lib\\site-packages (from argon2-cffi->notebook->jupyter->datasist) (21.2.0)\n",
      "Requirement already satisfied: soupsieve>1.2 in c:\\users\\scorp\\anaconda3\\lib\\site-packages (from beautifulsoup4->nbconvert->jupyter->datasist) (2.3.2.post1)\n",
      "Requirement already satisfied: webencodings in c:\\users\\scorp\\anaconda3\\lib\\site-packages (from bleach->nbconvert->jupyter->datasist) (0.5.1)\n",
      "Requirement already satisfied: parso<0.9.0,>=0.8.0 in c:\\users\\scorp\\anaconda3\\lib\\site-packages (from jedi>=0.16->ipython>=7.23.1->ipykernel->jupyter->datasist) (0.8.3)\n",
      "Requirement already satisfied: pyrsistent!=0.17.0,!=0.17.1,!=0.17.2,>=0.14.0 in c:\\users\\scorp\\anaconda3\\lib\\site-packages (from jsonschema>=2.6->nbformat>=4.2.0->ipywidgets->jupyter->datasist) (0.18.0)\n",
      "Requirement already satisfied: attrs>=17.4.0 in c:\\users\\scorp\\anaconda3\\lib\\site-packages (from jsonschema>=2.6->nbformat>=4.2.0->ipywidgets->jupyter->datasist) (22.1.0)\n",
      "Requirement already satisfied: websocket-client in c:\\users\\scorp\\anaconda3\\lib\\site-packages (from jupyter-server>=1.8->nbclassic>=0.4.7->notebook->jupyter->datasist) (0.58.0)\n",
      "Requirement already satisfied: anyio<4,>=3.1.0 in c:\\users\\scorp\\anaconda3\\lib\\site-packages (from jupyter-server>=1.8->nbclassic>=0.4.7->notebook->jupyter->datasist) (3.5.0)\n",
      "Requirement already satisfied: cffi>=1.0.1 in c:\\users\\scorp\\anaconda3\\lib\\site-packages (from argon2-cffi-bindings->argon2-cffi->notebook->jupyter->datasist) (1.15.1)\n",
      "Requirement already satisfied: pure-eval in c:\\users\\scorp\\anaconda3\\lib\\site-packages (from stack-data->ipython>=7.23.1->ipykernel->jupyter->datasist) (0.2.2)\n",
      "Requirement already satisfied: executing in c:\\users\\scorp\\anaconda3\\lib\\site-packages (from stack-data->ipython>=7.23.1->ipykernel->jupyter->datasist) (0.8.3)\n",
      "Requirement already satisfied: asttokens in c:\\users\\scorp\\anaconda3\\lib\\site-packages (from stack-data->ipython>=7.23.1->ipykernel->jupyter->datasist) (2.0.5)\n",
      "Requirement already satisfied: sniffio>=1.1 in c:\\users\\scorp\\anaconda3\\lib\\site-packages (from anyio<4,>=3.1.0->jupyter-server>=1.8->nbclassic>=0.4.7->notebook->jupyter->datasist) (1.2.0)\n",
      "Requirement already satisfied: idna>=2.8 in c:\\users\\scorp\\anaconda3\\lib\\site-packages (from anyio<4,>=3.1.0->jupyter-server>=1.8->nbclassic>=0.4.7->notebook->jupyter->datasist) (3.4)\n",
      "Requirement already satisfied: pycparser in c:\\users\\scorp\\anaconda3\\lib\\site-packages (from cffi>=1.0.1->argon2-cffi-bindings->argon2-cffi->notebook->jupyter->datasist) (2.21)\n"
     ]
    }
   ],
   "source": [
    "! pip install datasist"
   ]
  },
  {
   "cell_type": "code",
   "execution_count": 139,
   "metadata": {
    "execution": {
     "iopub.execute_input": "2022-10-14T20:28:50.253007Z",
     "iopub.status.busy": "2022-10-14T20:28:50.252545Z",
     "iopub.status.idle": "2022-10-14T20:28:50.420009Z",
     "shell.execute_reply": "2022-10-14T20:28:50.418358Z",
     "shell.execute_reply.started": "2022-10-14T20:28:50.252965Z"
    },
    "id": "orHTk5RW3mIm"
   },
   "outputs": [],
   "source": [
    "from datasist.structdata import detect_outliers"
   ]
  },
  {
   "cell_type": "code",
   "execution_count": 140,
   "metadata": {
    "execution": {
     "iopub.execute_input": "2022-10-14T20:28:50.422294Z",
     "iopub.status.busy": "2022-10-14T20:28:50.421886Z",
     "iopub.status.idle": "2022-10-14T20:28:50.446151Z",
     "shell.execute_reply": "2022-10-14T20:28:50.444992Z",
     "shell.execute_reply.started": "2022-10-14T20:28:50.422262Z"
    },
    "id": "1jsslSq83wBC"
   },
   "outputs": [],
   "source": [
    "indeex=detect_outliers(df,0,['GKDiving','GKHandling','GKPositioning'])"
   ]
  },
  {
   "cell_type": "code",
   "execution_count": 141,
   "metadata": {
    "execution": {
     "iopub.execute_input": "2022-10-14T20:28:50.450697Z",
     "iopub.status.busy": "2022-10-14T20:28:50.449869Z",
     "iopub.status.idle": "2022-10-14T20:28:50.458357Z",
     "shell.execute_reply": "2022-10-14T20:28:50.456807Z",
     "shell.execute_reply.started": "2022-10-14T20:28:50.450659Z"
    },
    "id": "cGuUy15k46Bl",
    "outputId": "0e5a1d07-59cb-48e5-b718-613f07df4ba0"
   },
   "outputs": [
    {
     "data": {
      "text/plain": [
       "2032"
      ]
     },
     "execution_count": 141,
     "metadata": {},
     "output_type": "execute_result"
    }
   ],
   "source": [
    "len(indeex)"
   ]
  },
  {
   "cell_type": "code",
   "execution_count": 142,
   "metadata": {
    "execution": {
     "iopub.execute_input": "2022-10-14T20:28:50.460467Z",
     "iopub.status.busy": "2022-10-14T20:28:50.460014Z",
     "iopub.status.idle": "2022-10-14T20:28:50.482992Z",
     "shell.execute_reply": "2022-10-14T20:28:50.481639Z",
     "shell.execute_reply.started": "2022-10-14T20:28:50.46043Z"
    },
    "id": "C2LqsYXZ5MbX"
   },
   "outputs": [],
   "source": [
    "df.drop(indeex,inplace=True)"
   ]
  },
  {
   "cell_type": "code",
   "execution_count": 143,
   "metadata": {
    "execution": {
     "iopub.execute_input": "2022-10-14T20:28:50.486025Z",
     "iopub.status.busy": "2022-10-14T20:28:50.484885Z",
     "iopub.status.idle": "2022-10-14T20:28:50.51917Z",
     "shell.execute_reply": "2022-10-14T20:28:50.51777Z",
     "shell.execute_reply.started": "2022-10-14T20:28:50.485971Z"
    },
    "id": "0ugz4oYu5aI-",
    "outputId": "6d79691b-5d09-4c6c-baeb-af3be7c0a8fc"
   },
   "outputs": [
    {
     "name": "stdout",
     "output_type": "stream",
     "text": [
      "<class 'pandas.core.frame.DataFrame'>\n",
      "Int64Index: 16175 entries, 158023 to 246269\n",
      "Data columns (total 58 columns):\n",
      " #   Column                Non-Null Count  Dtype         \n",
      "---  ------                --------------  -----         \n",
      " 0   Name                  16175 non-null  object        \n",
      " 1   Age                   16175 non-null  int64         \n",
      " 2   Nationality           16175 non-null  object        \n",
      " 3   Overall               16175 non-null  int64         \n",
      " 4   Potential             16175 non-null  int64         \n",
      " 5   Club                  16175 non-null  object        \n",
      " 6   Value                 16175 non-null  int32         \n",
      " 7   Wage                  16175 non-null  int32         \n",
      " 8   Preferred Foot        16175 non-null  object        \n",
      " 9   Weak Foot             16175 non-null  float64       \n",
      " 10  Skill Moves           16175 non-null  float64       \n",
      " 11  Work Rate             16175 non-null  object        \n",
      " 12  Body Type             16175 non-null  object        \n",
      " 13  Position              16175 non-null  object        \n",
      " 14  Joined                16175 non-null  datetime64[ns]\n",
      " 15  Contract Valid Until  16175 non-null  object        \n",
      " 16  Height                16175 non-null  object        \n",
      " 17  Crossing              16175 non-null  float64       \n",
      " 18  Finishing             16175 non-null  float64       \n",
      " 19  HeadingAccuracy       16175 non-null  float64       \n",
      " 20  ShortPassing          16175 non-null  float64       \n",
      " 21  Volleys               16175 non-null  float64       \n",
      " 22  Dribbling             16175 non-null  float64       \n",
      " 23  Curve                 16175 non-null  float64       \n",
      " 24  FKAccuracy            16175 non-null  float64       \n",
      " 25  LongPassing           16175 non-null  float64       \n",
      " 26  BallControl           16175 non-null  float64       \n",
      " 27  Acceleration          16175 non-null  float64       \n",
      " 28  SprintSpeed           16175 non-null  float64       \n",
      " 29  Agility               16175 non-null  float64       \n",
      " 30  Reactions             16175 non-null  float64       \n",
      " 31  Balance               16175 non-null  float64       \n",
      " 32  ShotPower             16175 non-null  float64       \n",
      " 33  Jumping               16175 non-null  float64       \n",
      " 34  Stamina               16175 non-null  float64       \n",
      " 35  Strength              16175 non-null  float64       \n",
      " 36  LongShots             16175 non-null  float64       \n",
      " 37  Aggression            16175 non-null  float64       \n",
      " 38  Interceptions         16175 non-null  float64       \n",
      " 39  Positioning           16175 non-null  float64       \n",
      " 40  Vision                16175 non-null  float64       \n",
      " 41  Penalties             16175 non-null  float64       \n",
      " 42  Composure             16175 non-null  float64       \n",
      " 43  Marking               16175 non-null  float64       \n",
      " 44  StandingTackle        16175 non-null  float64       \n",
      " 45  SlidingTackle         16175 non-null  float64       \n",
      " 46  GKDiving              16175 non-null  float64       \n",
      " 47  GKHandling            16175 non-null  float64       \n",
      " 48  GKKicking             16175 non-null  float64       \n",
      " 49  GKPositioning         16175 non-null  float64       \n",
      " 50  GKReflexes            16175 non-null  float64       \n",
      " 51  Release Clause        16175 non-null  float64       \n",
      " 52  joined_month          16175 non-null  int64         \n",
      " 53  Joined_year           16175 non-null  int64         \n",
      " 54  Height_n1             16175 non-null  int64         \n",
      " 55  Height_n2             16175 non-null  int64         \n",
      " 56  Height_m              16175 non-null  float64       \n",
      " 57  total_payment         16175 non-null  int32         \n",
      "dtypes: datetime64[ns](1), float64(38), int32(3), int64(7), object(9)\n",
      "memory usage: 7.1+ MB\n"
     ]
    }
   ],
   "source": [
    "df.info()"
   ]
  },
  {
   "cell_type": "code",
   "execution_count": 144,
   "metadata": {},
   "outputs": [
    {
     "name": "stdout",
     "output_type": "stream",
     "text": [
      "Requirement already satisfied: nbconvert[webpdf] in c:\\users\\scorp\\anaconda3\\lib\\site-packages (6.5.4)\n",
      "Requirement already satisfied: defusedxml in c:\\users\\scorp\\anaconda3\\lib\\site-packages (from nbconvert[webpdf]) (0.7.1)\n",
      "Requirement already satisfied: nbformat>=5.1 in c:\\users\\scorp\\anaconda3\\lib\\site-packages (from nbconvert[webpdf]) (5.7.0)\n",
      "Requirement already satisfied: entrypoints>=0.2.2 in c:\\users\\scorp\\anaconda3\\lib\\site-packages (from nbconvert[webpdf]) (0.4)\n",
      "Requirement already satisfied: jupyter-core>=4.7 in c:\\users\\scorp\\anaconda3\\lib\\site-packages (from nbconvert[webpdf]) (5.2.0)\n",
      "Requirement already satisfied: nbclient>=0.5.0 in c:\\users\\scorp\\anaconda3\\lib\\site-packages (from nbconvert[webpdf]) (0.5.13)\n",
      "Requirement already satisfied: jupyterlab-pygments in c:\\users\\scorp\\anaconda3\\lib\\site-packages (from nbconvert[webpdf]) (0.1.2)\n",
      "Requirement already satisfied: pygments>=2.4.1 in c:\\users\\scorp\\anaconda3\\lib\\site-packages (from nbconvert[webpdf]) (2.11.2)\n",
      "Requirement already satisfied: packaging in c:\\users\\scorp\\anaconda3\\lib\\site-packages (from nbconvert[webpdf]) (22.0)\n",
      "Requirement already satisfied: lxml in c:\\users\\scorp\\anaconda3\\lib\\site-packages (from nbconvert[webpdf]) (4.9.1)\n",
      "Requirement already satisfied: tinycss2 in c:\\users\\scorp\\anaconda3\\lib\\site-packages (from nbconvert[webpdf]) (1.2.1)\n",
      "Requirement already satisfied: bleach in c:\\users\\scorp\\anaconda3\\lib\\site-packages (from nbconvert[webpdf]) (4.1.0)\n",
      "Requirement already satisfied: pandocfilters>=1.4.1 in c:\\users\\scorp\\anaconda3\\lib\\site-packages (from nbconvert[webpdf]) (1.5.0)\n",
      "Requirement already satisfied: mistune<2,>=0.8.1 in c:\\users\\scorp\\anaconda3\\lib\\site-packages (from nbconvert[webpdf]) (0.8.4)\n",
      "Requirement already satisfied: MarkupSafe>=2.0 in c:\\users\\scorp\\anaconda3\\lib\\site-packages (from nbconvert[webpdf]) (2.1.1)\n",
      "Requirement already satisfied: traitlets>=5.0 in c:\\users\\scorp\\anaconda3\\lib\\site-packages (from nbconvert[webpdf]) (5.7.1)\n",
      "Requirement already satisfied: jinja2>=3.0 in c:\\users\\scorp\\anaconda3\\lib\\site-packages (from nbconvert[webpdf]) (3.1.2)\n",
      "Requirement already satisfied: beautifulsoup4 in c:\\users\\scorp\\anaconda3\\lib\\site-packages (from nbconvert[webpdf]) (4.11.1)\n",
      "Requirement already satisfied: pyppeteer<1.1,>=1 in c:\\users\\scorp\\anaconda3\\lib\\site-packages (from nbconvert[webpdf]) (1.0.2)\n",
      "Requirement already satisfied: pywin32>=1.0 in c:\\users\\scorp\\anaconda3\\lib\\site-packages (from jupyter-core>=4.7->nbconvert[webpdf]) (305.1)\n",
      "Requirement already satisfied: platformdirs>=2.5 in c:\\users\\scorp\\anaconda3\\lib\\site-packages (from jupyter-core>=4.7->nbconvert[webpdf]) (2.5.2)\n",
      "Requirement already satisfied: jupyter-client>=6.1.5 in c:\\users\\scorp\\anaconda3\\lib\\site-packages (from nbclient>=0.5.0->nbconvert[webpdf]) (7.3.4)\n",
      "Requirement already satisfied: nest-asyncio in c:\\users\\scorp\\anaconda3\\lib\\site-packages (from nbclient>=0.5.0->nbconvert[webpdf]) (1.5.6)\n",
      "Requirement already satisfied: jsonschema>=2.6 in c:\\users\\scorp\\anaconda3\\lib\\site-packages (from nbformat>=5.1->nbconvert[webpdf]) (4.17.3)\n",
      "Requirement already satisfied: fastjsonschema in c:\\users\\scorp\\anaconda3\\lib\\site-packages (from nbformat>=5.1->nbconvert[webpdf]) (2.16.2)\n",
      "Requirement already satisfied: appdirs<2.0.0,>=1.4.3 in c:\\users\\scorp\\anaconda3\\lib\\site-packages (from pyppeteer<1.1,>=1->nbconvert[webpdf]) (1.4.4)\n",
      "Requirement already satisfied: tqdm<5.0.0,>=4.42.1 in c:\\users\\scorp\\anaconda3\\lib\\site-packages (from pyppeteer<1.1,>=1->nbconvert[webpdf]) (4.64.1)\n",
      "Requirement already satisfied: urllib3<2.0.0,>=1.25.8 in c:\\users\\scorp\\anaconda3\\lib\\site-packages (from pyppeteer<1.1,>=1->nbconvert[webpdf]) (1.26.14)\n",
      "Requirement already satisfied: certifi>=2021 in c:\\users\\scorp\\anaconda3\\lib\\site-packages (from pyppeteer<1.1,>=1->nbconvert[webpdf]) (2022.12.7)\n",
      "Requirement already satisfied: pyee<9.0.0,>=8.1.0 in c:\\users\\scorp\\anaconda3\\lib\\site-packages (from pyppeteer<1.1,>=1->nbconvert[webpdf]) (8.2.2)\n",
      "Requirement already satisfied: websockets<11.0,>=10.0 in c:\\users\\scorp\\anaconda3\\lib\\site-packages (from pyppeteer<1.1,>=1->nbconvert[webpdf]) (10.4)\n",
      "Requirement already satisfied: importlib-metadata>=1.4 in c:\\users\\scorp\\anaconda3\\lib\\site-packages (from pyppeteer<1.1,>=1->nbconvert[webpdf]) (4.11.3)\n",
      "Requirement already satisfied: soupsieve>1.2 in c:\\users\\scorp\\anaconda3\\lib\\site-packages (from beautifulsoup4->nbconvert[webpdf]) (2.3.2.post1)\n",
      "Requirement already satisfied: six>=1.9.0 in c:\\users\\scorp\\anaconda3\\lib\\site-packages (from bleach->nbconvert[webpdf]) (1.16.0)\n",
      "Requirement already satisfied: webencodings in c:\\users\\scorp\\anaconda3\\lib\\site-packages (from bleach->nbconvert[webpdf]) (0.5.1)\n",
      "Requirement already satisfied: zipp>=0.5 in c:\\users\\scorp\\anaconda3\\lib\\site-packages (from importlib-metadata>=1.4->pyppeteer<1.1,>=1->nbconvert[webpdf]) (3.11.0)\n",
      "Requirement already satisfied: pyrsistent!=0.17.0,!=0.17.1,!=0.17.2,>=0.14.0 in c:\\users\\scorp\\anaconda3\\lib\\site-packages (from jsonschema>=2.6->nbformat>=5.1->nbconvert[webpdf]) (0.18.0)\n",
      "Requirement already satisfied: attrs>=17.4.0 in c:\\users\\scorp\\anaconda3\\lib\\site-packages (from jsonschema>=2.6->nbformat>=5.1->nbconvert[webpdf]) (22.1.0)\n",
      "Requirement already satisfied: python-dateutil>=2.8.2 in c:\\users\\scorp\\anaconda3\\lib\\site-packages (from jupyter-client>=6.1.5->nbclient>=0.5.0->nbconvert[webpdf]) (2.8.2)\n",
      "Requirement already satisfied: pyzmq>=23.0 in c:\\users\\scorp\\anaconda3\\lib\\site-packages (from jupyter-client>=6.1.5->nbclient>=0.5.0->nbconvert[webpdf]) (23.2.0)\n",
      "Requirement already satisfied: tornado>=6.0 in c:\\users\\scorp\\anaconda3\\lib\\site-packages (from jupyter-client>=6.1.5->nbclient>=0.5.0->nbconvert[webpdf]) (6.1)\n",
      "Requirement already satisfied: colorama in c:\\users\\scorp\\anaconda3\\lib\\site-packages (from tqdm<5.0.0,>=4.42.1->pyppeteer<1.1,>=1->nbconvert[webpdf]) (0.4.6)\n"
     ]
    }
   ],
   "source": [
    "!pip install nbconvert[webpdf]"
   ]
  }
 ],
 "metadata": {
  "kernelspec": {
   "display_name": "Python 3 (ipykernel)",
   "language": "python",
   "name": "python3"
  },
  "language_info": {
   "codemirror_mode": {
    "name": "ipython",
    "version": 3
   },
   "file_extension": ".py",
   "mimetype": "text/x-python",
   "name": "python",
   "nbconvert_exporter": "python",
   "pygments_lexer": "ipython3",
   "version": "3.10.9"
  }
 },
 "nbformat": 4,
 "nbformat_minor": 4
}
