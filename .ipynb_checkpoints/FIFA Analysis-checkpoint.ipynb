{
 "cells": [
  {
   "cell_type": "code",
   "execution_count": null,
   "metadata": {
    "id": "kCdw_d19tYMX"
   },
   "outputs": [],
   "source": [
    "## **MID PROJECT** ⚽ FOOTBALL players *STATISTICS* FROM FIFA ⚽\n",
    "\n",
    "![170px-Loko-AM2018_(5).jpg](data:image/jpeg;base64,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)\n",
    "\n",
    "\n",
    "\n",
    "\n",
    "\n",
    "\n"
   ]
  },
  {
   "cell_type": "markdown",
   "metadata": {
    "id": "ygA05KIDUG2Y"
   },
   "source": [
    "# **The source of Dataset** 📑 https://www.kaggle.com/datasets/mukeshmanral/fifa-data-for-eda-and-stats"
   ]
  },
  {
   "cell_type": "markdown",
   "metadata": {
    "id": "GgJmw8kkKJGP"
   },
   "source": [
    "## Import the essential libraries 🔽"
   ]
  },
  {
   "cell_type": "code",
   "execution_count": null,
   "metadata": {
    "execution": {
     "iopub.execute_input": "2022-10-14T20:28:07.840548Z",
     "iopub.status.busy": "2022-10-14T20:28:07.84007Z",
     "iopub.status.idle": "2022-10-14T20:28:07.854516Z",
     "shell.execute_reply": "2022-10-14T20:28:07.853157Z",
     "shell.execute_reply.started": "2022-10-14T20:28:07.840513Z"
    },
    "id": "a0Xq4yJib_F0"
   },
   "outputs": [],
   "source": [
    "import pandas as pd\n",
    "import numpy as np\n",
    "import seaborn as sns\n",
    "import matplotlib.pyplot as plt\n",
    "%matplotlib inline \n",
    "sns.set(rc={'figure.figsize': [15, 8]}, font_scale=1.2) # Standard figure size for all\n"
   ]
  },
  {
   "cell_type": "markdown",
   "metadata": {
    "id": "lplUn7q5KTQP"
   },
   "source": [
    "## **Read** the dataset\n",
    "\n",
    "\n",
    "\n"
   ]
  },
  {
   "cell_type": "code",
   "execution_count": null,
   "metadata": {
    "execution": {
     "iopub.execute_input": "2022-10-14T20:28:07.858263Z",
     "iopub.status.busy": "2022-10-14T20:28:07.857025Z",
     "iopub.status.idle": "2022-10-14T20:28:08.050298Z",
     "shell.execute_reply": "2022-10-14T20:28:08.049289Z",
     "shell.execute_reply.started": "2022-10-14T20:28:07.858214Z"
    },
    "id": "13fVAoslcGNm"
   },
   "outputs": [],
   "source": [
    "df=pd.read_csv('../input/fifa-data-for-eda-and-stats/fifa_eda_stats.csv',index_col=0,na_values=True)"
   ]
  },
  {
   "cell_type": "code",
   "execution_count": null,
   "metadata": {
    "execution": {
     "iopub.execute_input": "2022-10-14T20:28:08.052503Z",
     "iopub.status.busy": "2022-10-14T20:28:08.051868Z",
     "iopub.status.idle": "2022-10-14T20:28:08.059917Z",
     "shell.execute_reply": "2022-10-14T20:28:08.058676Z",
     "shell.execute_reply.started": "2022-10-14T20:28:08.052466Z"
    },
    "id": "LimWoDv2E-n_",
    "outputId": "c636b8ff-e148-4ef1-e577-cea1ae3c7bd4"
   },
   "outputs": [],
   "source": [
    "df.shape"
   ]
  },
  {
   "cell_type": "markdown",
   "metadata": {
    "id": "FCEPyJisKhQa"
   },
   "source": [
    "### Delete duplicated rows \n",
    "\n",
    "\n",
    "\n"
   ]
  },
  {
   "cell_type": "code",
   "execution_count": null,
   "metadata": {
    "execution": {
     "iopub.execute_input": "2022-10-14T20:28:08.063411Z",
     "iopub.status.busy": "2022-10-14T20:28:08.062982Z",
     "iopub.status.idle": "2022-10-14T20:28:08.177109Z",
     "shell.execute_reply": "2022-10-14T20:28:08.175819Z",
     "shell.execute_reply.started": "2022-10-14T20:28:08.063367Z"
    },
    "id": "6F8MI0xmYHCO",
    "outputId": "5588b0a4-0c39-467e-991e-5f289e03e653"
   },
   "outputs": [],
   "source": [
    "df.drop_duplicates()"
   ]
  },
  {
   "cell_type": "code",
   "execution_count": null,
   "metadata": {
    "execution": {
     "iopub.execute_input": "2022-10-14T20:28:08.178677Z",
     "iopub.status.busy": "2022-10-14T20:28:08.178322Z",
     "iopub.status.idle": "2022-10-14T20:28:08.217684Z",
     "shell.execute_reply": "2022-10-14T20:28:08.216629Z",
     "shell.execute_reply.started": "2022-10-14T20:28:08.178649Z"
    },
    "id": "xZvoahMf4s-v",
    "outputId": "618bf8e1-e56c-49fb-d484-97277551855d"
   },
   "outputs": [],
   "source": [
    "df.sample(10)"
   ]
  },
  {
   "cell_type": "markdown",
   "metadata": {
    "id": "cmj2RFYUyQ6o"
   },
   "source": [
    "# Exporing the data 😊"
   ]
  },
  {
   "cell_type": "code",
   "execution_count": null,
   "metadata": {
    "execution": {
     "iopub.execute_input": "2022-10-14T20:28:08.220176Z",
     "iopub.status.busy": "2022-10-14T20:28:08.219075Z",
     "iopub.status.idle": "2022-10-14T20:28:08.252961Z",
     "shell.execute_reply": "2022-10-14T20:28:08.25173Z",
     "shell.execute_reply.started": "2022-10-14T20:28:08.220117Z"
    },
    "id": "Yjgsf0vohcvG",
    "outputId": "f05dcce0-0cd7-4414-80c1-d16a49dc313b"
   },
   "outputs": [],
   "source": [
    "df.info()"
   ]
  },
  {
   "cell_type": "code",
   "execution_count": null,
   "metadata": {
    "execution": {
     "iopub.execute_input": "2022-10-14T20:28:08.25539Z",
     "iopub.status.busy": "2022-10-14T20:28:08.254415Z",
     "iopub.status.idle": "2022-10-14T20:28:08.425443Z",
     "shell.execute_reply": "2022-10-14T20:28:08.424178Z",
     "shell.execute_reply.started": "2022-10-14T20:28:08.255346Z"
    },
    "id": "8eb32Pgy-JXN",
    "outputId": "7d2b78a1-4567-43a9-bec5-d4eec927fe0d"
   },
   "outputs": [],
   "source": [
    "df.describe()"
   ]
  },
  {
   "cell_type": "markdown",
   "metadata": {
    "id": "Qt5sJtQgocod"
   },
   "source": [
    "# Drop **unnecessary** columns"
   ]
  },
  {
   "cell_type": "code",
   "execution_count": null,
   "metadata": {
    "execution": {
     "iopub.execute_input": "2022-10-14T20:28:08.428095Z",
     "iopub.status.busy": "2022-10-14T20:28:08.427219Z",
     "iopub.status.idle": "2022-10-14T20:28:08.442907Z",
     "shell.execute_reply": "2022-10-14T20:28:08.441319Z",
     "shell.execute_reply.started": "2022-10-14T20:28:08.428034Z"
    },
    "id": "Ip3Ymxo0zj6H"
   },
   "outputs": [],
   "source": [
    "df.drop(columns=['International Reputation','Jersey Number','Loaned From','Weight'],axis=1,inplace=True)"
   ]
  },
  {
   "cell_type": "markdown",
   "metadata": {
    "id": "wKBv8YvZK5ir"
   },
   "source": [
    "## Detect  Nan values in data set"
   ]
  },
  {
   "cell_type": "code",
   "execution_count": null,
   "metadata": {
    "execution": {
     "iopub.execute_input": "2022-10-14T20:28:08.446107Z",
     "iopub.status.busy": "2022-10-14T20:28:08.444713Z",
     "iopub.status.idle": "2022-10-14T20:28:08.472554Z",
     "shell.execute_reply": "2022-10-14T20:28:08.471295Z",
     "shell.execute_reply.started": "2022-10-14T20:28:08.446067Z"
    },
    "id": "13qgblD_cUSA",
    "outputId": "00d90576-70e9-4c34-fba3-7d58a69900ab"
   },
   "outputs": [],
   "source": [
    "df.isna().sum()"
   ]
  },
  {
   "cell_type": "markdown",
   "metadata": {
    "id": "WVZESoKGvWEC"
   },
   "source": [
    "### fill nan values in float colunms with median 36 column in one code line "
   ]
  },
  {
   "cell_type": "code",
   "execution_count": null,
   "metadata": {
    "execution": {
     "iopub.execute_input": "2022-10-14T20:28:08.47852Z",
     "iopub.status.busy": "2022-10-14T20:28:08.478125Z",
     "iopub.status.idle": "2022-10-14T20:28:08.53024Z",
     "shell.execute_reply": "2022-10-14T20:28:08.528952Z",
     "shell.execute_reply.started": "2022-10-14T20:28:08.478489Z"
    },
    "id": "GFw5jcnTcZ74",
    "outputId": "a9fcb507-694b-4eb4-9e0e-9528f192dc1d"
   },
   "outputs": [],
   "source": [
    "df.fillna(df.median(),inplace=True)"
   ]
  },
  {
   "cell_type": "code",
   "execution_count": null,
   "metadata": {
    "execution": {
     "iopub.execute_input": "2022-10-14T20:28:08.532067Z",
     "iopub.status.busy": "2022-10-14T20:28:08.531661Z",
     "iopub.status.idle": "2022-10-14T20:28:08.561336Z",
     "shell.execute_reply": "2022-10-14T20:28:08.560042Z",
     "shell.execute_reply.started": "2022-10-14T20:28:08.532033Z"
    },
    "id": "EbWE7RI-vkDj",
    "outputId": "fed60e5d-2928-4bb0-c5fe-e44238f7fa21"
   },
   "outputs": [],
   "source": [
    "df.info()"
   ]
  },
  {
   "cell_type": "markdown",
   "metadata": {
    "id": "jAJ-VSDOuyzi"
   },
   "source": [
    "### Handling the object columns by fillna values with mode 9 columns"
   ]
  },
  {
   "cell_type": "code",
   "execution_count": null,
   "metadata": {
    "execution": {
     "iopub.execute_input": "2022-10-14T20:28:08.563837Z",
     "iopub.status.busy": "2022-10-14T20:28:08.563342Z",
     "iopub.status.idle": "2022-10-14T20:28:08.638854Z",
     "shell.execute_reply": "2022-10-14T20:28:08.637512Z",
     "shell.execute_reply.started": "2022-10-14T20:28:08.563791Z"
    },
    "id": "s8JiQmu9u-sn"
   },
   "outputs": [],
   "source": [
    "for col in df.columns:\n",
    "  df[col].fillna(df[col].mode()[0],inplace=True)"
   ]
  },
  {
   "cell_type": "code",
   "execution_count": null,
   "metadata": {
    "execution": {
     "iopub.execute_input": "2022-10-14T20:28:08.641397Z",
     "iopub.status.busy": "2022-10-14T20:28:08.640892Z",
     "iopub.status.idle": "2022-10-14T20:28:08.665546Z",
     "shell.execute_reply": "2022-10-14T20:28:08.664231Z",
     "shell.execute_reply.started": "2022-10-14T20:28:08.641352Z"
    },
    "id": "6why_KTcv4pw",
    "outputId": "3490af65-587a-4fc1-eb94-a47a01d37429"
   },
   "outputs": [],
   "source": [
    "df.isna().sum()"
   ]
  },
  {
   "cell_type": "code",
   "execution_count": null,
   "metadata": {
    "execution": {
     "iopub.execute_input": "2022-10-14T20:28:08.666966Z",
     "iopub.status.busy": "2022-10-14T20:28:08.666555Z",
     "iopub.status.idle": "2022-10-14T20:28:08.696894Z",
     "shell.execute_reply": "2022-10-14T20:28:08.69542Z",
     "shell.execute_reply.started": "2022-10-14T20:28:08.666932Z"
    },
    "id": "FUYygUUAclpe",
    "outputId": "6d40cca7-8402-4487-bdaf-f04948b93397"
   },
   "outputs": [],
   "source": [
    "df.info()"
   ]
  },
  {
   "cell_type": "markdown",
   "metadata": {
    "id": "Uv8dxrxdVRmi"
   },
   "source": [
    "# **cleaning column value and wage ,convert M,K with numeric value and convert the column Type**\n",
    "\n",
    "\n"
   ]
  },
  {
   "cell_type": "code",
   "execution_count": null,
   "metadata": {
    "execution": {
     "iopub.execute_input": "2022-10-14T20:28:08.699183Z",
     "iopub.status.busy": "2022-10-14T20:28:08.698783Z",
     "iopub.status.idle": "2022-10-14T20:28:08.714315Z",
     "shell.execute_reply": "2022-10-14T20:28:08.712971Z",
     "shell.execute_reply.started": "2022-10-14T20:28:08.699143Z"
    },
    "id": "Ahhy1jxGMzXk"
   },
   "outputs": [],
   "source": [
    "df['Value']=df['Value'].apply(lambda x:x.split('€')[1])"
   ]
  },
  {
   "cell_type": "code",
   "execution_count": null,
   "metadata": {
    "execution": {
     "iopub.execute_input": "2022-10-14T20:28:08.716056Z",
     "iopub.status.busy": "2022-10-14T20:28:08.715703Z",
     "iopub.status.idle": "2022-10-14T20:28:08.811101Z",
     "shell.execute_reply": "2022-10-14T20:28:08.809895Z",
     "shell.execute_reply.started": "2022-10-14T20:28:08.716027Z"
    },
    "id": "g84qaTK5-6Wg"
   },
   "outputs": [],
   "source": [
    "df['Value']=df['Value'].replace({'K': '000', 'M': '000000'}, regex=True)"
   ]
  },
  {
   "cell_type": "code",
   "execution_count": null,
   "metadata": {
    "execution": {
     "iopub.execute_input": "2022-10-14T20:28:08.812697Z",
     "iopub.status.busy": "2022-10-14T20:28:08.812382Z",
     "iopub.status.idle": "2022-10-14T20:28:08.83172Z",
     "shell.execute_reply": "2022-10-14T20:28:08.830423Z",
     "shell.execute_reply.started": "2022-10-14T20:28:08.812669Z"
    },
    "id": "OYT4Na-8PXj8"
   },
   "outputs": [],
   "source": [
    "df['Value']=pd.to_numeric(df['Value'],errors='coerce')"
   ]
  },
  {
   "cell_type": "code",
   "execution_count": null,
   "metadata": {
    "execution": {
     "iopub.execute_input": "2022-10-14T20:28:08.833966Z",
     "iopub.status.busy": "2022-10-14T20:28:08.833418Z",
     "iopub.status.idle": "2022-10-14T20:28:08.845095Z",
     "shell.execute_reply": "2022-10-14T20:28:08.843902Z",
     "shell.execute_reply.started": "2022-10-14T20:28:08.833928Z"
    },
    "id": "J2-m7TMjQ-GN"
   },
   "outputs": [],
   "source": [
    "df['Value']=df['Value'].astype(int)"
   ]
  },
  {
   "cell_type": "code",
   "execution_count": null,
   "metadata": {
    "execution": {
     "iopub.execute_input": "2022-10-14T20:28:08.847155Z",
     "iopub.status.busy": "2022-10-14T20:28:08.846812Z",
     "iopub.status.idle": "2022-10-14T20:28:08.860716Z",
     "shell.execute_reply": "2022-10-14T20:28:08.859492Z",
     "shell.execute_reply.started": "2022-10-14T20:28:08.847126Z"
    },
    "id": "nHWk98L6_BWg",
    "outputId": "ff38ac15-73e8-4baf-b534-81c4081e2221"
   },
   "outputs": [],
   "source": [
    "df['Value']"
   ]
  },
  {
   "cell_type": "code",
   "execution_count": null,
   "metadata": {
    "execution": {
     "iopub.execute_input": "2022-10-14T20:28:08.862472Z",
     "iopub.status.busy": "2022-10-14T20:28:08.862057Z",
     "iopub.status.idle": "2022-10-14T20:28:08.879581Z",
     "shell.execute_reply": "2022-10-14T20:28:08.878511Z",
     "shell.execute_reply.started": "2022-10-14T20:28:08.862439Z"
    },
    "id": "TtssHeo1M-7r"
   },
   "outputs": [],
   "source": [
    "df['Wage']=df['Wage'].apply(lambda x:x.split('€')[1])"
   ]
  },
  {
   "cell_type": "code",
   "execution_count": null,
   "metadata": {
    "execution": {
     "iopub.execute_input": "2022-10-14T20:28:08.882569Z",
     "iopub.status.busy": "2022-10-14T20:28:08.881393Z",
     "iopub.status.idle": "2022-10-14T20:28:08.979422Z",
     "shell.execute_reply": "2022-10-14T20:28:08.978122Z",
     "shell.execute_reply.started": "2022-10-14T20:28:08.882517Z"
    },
    "id": "BiB79nWMPMDY"
   },
   "outputs": [],
   "source": [
    "df['Wage']=df['Wage'].replace({'K': '000', 'M': '000000'}, regex=True)"
   ]
  },
  {
   "cell_type": "code",
   "execution_count": null,
   "metadata": {
    "execution": {
     "iopub.execute_input": "2022-10-14T20:28:08.981575Z",
     "iopub.status.busy": "2022-10-14T20:28:08.981098Z",
     "iopub.status.idle": "2022-10-14T20:28:08.991671Z",
     "shell.execute_reply": "2022-10-14T20:28:08.99043Z",
     "shell.execute_reply.started": "2022-10-14T20:28:08.981532Z"
    },
    "id": "0fT6qEtuPnGs"
   },
   "outputs": [],
   "source": [
    "df['Wage']=pd.to_numeric(df['Value'],errors='coerce')"
   ]
  },
  {
   "cell_type": "code",
   "execution_count": null,
   "metadata": {
    "execution": {
     "iopub.execute_input": "2022-10-14T20:28:08.994022Z",
     "iopub.status.busy": "2022-10-14T20:28:08.993526Z",
     "iopub.status.idle": "2022-10-14T20:28:09.001438Z",
     "shell.execute_reply": "2022-10-14T20:28:09.000129Z",
     "shell.execute_reply.started": "2022-10-14T20:28:08.993979Z"
    },
    "id": "BUUBaCeE_aQ6"
   },
   "outputs": [],
   "source": [
    "df['Wage']=df['Wage'].astype(int)"
   ]
  },
  {
   "cell_type": "code",
   "execution_count": null,
   "metadata": {
    "execution": {
     "iopub.execute_input": "2022-10-14T20:28:09.003873Z",
     "iopub.status.busy": "2022-10-14T20:28:09.003373Z",
     "iopub.status.idle": "2022-10-14T20:28:09.014523Z",
     "shell.execute_reply": "2022-10-14T20:28:09.013178Z",
     "shell.execute_reply.started": "2022-10-14T20:28:09.00383Z"
    },
    "id": "w3jIpePoTUJM",
    "outputId": "c76079d8-1952-460e-b45f-3e9db8553fcc"
   },
   "outputs": [],
   "source": [
    "df['Wage']"
   ]
  },
  {
   "cell_type": "markdown",
   "metadata": {
    "id": "8VDdYTXaTdhA"
   },
   "source": [
    "# convert JOINED to_datetime"
   ]
  },
  {
   "cell_type": "code",
   "execution_count": null,
   "metadata": {
    "execution": {
     "iopub.execute_input": "2022-10-14T20:28:09.016878Z",
     "iopub.status.busy": "2022-10-14T20:28:09.016425Z",
     "iopub.status.idle": "2022-10-14T20:28:09.029463Z",
     "shell.execute_reply": "2022-10-14T20:28:09.028204Z",
     "shell.execute_reply.started": "2022-10-14T20:28:09.016846Z"
    },
    "id": "oVThVfJWT2fQ",
    "outputId": "84e23d32-4500-461c-df65-7bcfaa388e4f"
   },
   "outputs": [],
   "source": [
    "df['Joined']"
   ]
  },
  {
   "cell_type": "code",
   "execution_count": null,
   "metadata": {
    "execution": {
     "iopub.execute_input": "2022-10-14T20:28:09.032371Z",
     "iopub.status.busy": "2022-10-14T20:28:09.03119Z",
     "iopub.status.idle": "2022-10-14T20:28:09.238421Z",
     "shell.execute_reply": "2022-10-14T20:28:09.237134Z",
     "shell.execute_reply.started": "2022-10-14T20:28:09.032322Z"
    },
    "id": "iEMNTdeLTElS"
   },
   "outputs": [],
   "source": [
    "df['Joined']=pd.to_datetime(df['Joined'])"
   ]
  },
  {
   "cell_type": "markdown",
   "metadata": {
    "id": "PVPFlZDhzCNd"
   },
   "source": [
    "FEATURE ENGINEERING"
   ]
  },
  {
   "cell_type": "code",
   "execution_count": null,
   "metadata": {
    "execution": {
     "iopub.execute_input": "2022-10-14T20:28:09.241531Z",
     "iopub.status.busy": "2022-10-14T20:28:09.240773Z",
     "iopub.status.idle": "2022-10-14T20:28:09.251562Z",
     "shell.execute_reply": "2022-10-14T20:28:09.250227Z",
     "shell.execute_reply.started": "2022-10-14T20:28:09.241483Z"
    },
    "id": "Hc-4Qdw_YGtI"
   },
   "outputs": [],
   "source": [
    "df['joined_month']=df['Joined'].dt.month"
   ]
  },
  {
   "cell_type": "code",
   "execution_count": null,
   "metadata": {
    "execution": {
     "iopub.execute_input": "2022-10-14T20:28:09.260617Z",
     "iopub.status.busy": "2022-10-14T20:28:09.260184Z",
     "iopub.status.idle": "2022-10-14T20:28:09.268999Z",
     "shell.execute_reply": "2022-10-14T20:28:09.267671Z",
     "shell.execute_reply.started": "2022-10-14T20:28:09.260584Z"
    },
    "id": "WR5QmBaxYben"
   },
   "outputs": [],
   "source": [
    "df['Joined_year']=df['Joined'].dt.year"
   ]
  },
  {
   "cell_type": "markdown",
   "metadata": {
    "id": "PddnT-wGYQzY"
   },
   "source": [
    "# handle height cleaning and convert fromm height by feet to height by meter"
   ]
  },
  {
   "cell_type": "code",
   "execution_count": null,
   "metadata": {
    "execution": {
     "iopub.execute_input": "2022-10-14T20:28:09.27162Z",
     "iopub.status.busy": "2022-10-14T20:28:09.270762Z",
     "iopub.status.idle": "2022-10-14T20:28:09.283662Z",
     "shell.execute_reply": "2022-10-14T20:28:09.282461Z",
     "shell.execute_reply.started": "2022-10-14T20:28:09.271579Z"
    },
    "id": "wTtCRIHGzPns",
    "outputId": "359e3b9c-a4d7-49d8-e2c7-ceef65b8a172"
   },
   "outputs": [],
   "source": [
    "df['Height']"
   ]
  },
  {
   "cell_type": "code",
   "execution_count": null,
   "metadata": {
    "execution": {
     "iopub.execute_input": "2022-10-14T20:28:09.286223Z",
     "iopub.status.busy": "2022-10-14T20:28:09.285462Z",
     "iopub.status.idle": "2022-10-14T20:28:09.301353Z",
     "shell.execute_reply": "2022-10-14T20:28:09.300267Z",
     "shell.execute_reply.started": "2022-10-14T20:28:09.286178Z"
    },
    "id": "lY4aDEKlE88k"
   },
   "outputs": [],
   "source": [
    "df['Height_n1']=df['Height'].apply(lambda x:x.split(\"'\")[0])"
   ]
  },
  {
   "cell_type": "code",
   "execution_count": null,
   "metadata": {
    "execution": {
     "iopub.execute_input": "2022-10-14T20:28:09.304182Z",
     "iopub.status.busy": "2022-10-14T20:28:09.30289Z",
     "iopub.status.idle": "2022-10-14T20:28:09.321684Z",
     "shell.execute_reply": "2022-10-14T20:28:09.320586Z",
     "shell.execute_reply.started": "2022-10-14T20:28:09.304133Z"
    },
    "id": "xqWwmn61VCG2"
   },
   "outputs": [],
   "source": [
    "df['Height_n2']=df['Height'].apply(lambda x:x.split(\"'\")[1])"
   ]
  },
  {
   "cell_type": "code",
   "execution_count": null,
   "metadata": {
    "execution": {
     "iopub.execute_input": "2022-10-14T20:28:09.323999Z",
     "iopub.status.busy": "2022-10-14T20:28:09.32324Z",
     "iopub.status.idle": "2022-10-14T20:28:09.338228Z",
     "shell.execute_reply": "2022-10-14T20:28:09.336809Z",
     "shell.execute_reply.started": "2022-10-14T20:28:09.323962Z"
    },
    "id": "PWTWjYRQFQe-",
    "outputId": "8273cd23-275f-4c51-db7f-ce0351bb60ee"
   },
   "outputs": [],
   "source": [
    "df['Height_n1']"
   ]
  },
  {
   "cell_type": "code",
   "execution_count": null,
   "metadata": {
    "execution": {
     "iopub.execute_input": "2022-10-14T20:28:09.341076Z",
     "iopub.status.busy": "2022-10-14T20:28:09.339786Z",
     "iopub.status.idle": "2022-10-14T20:28:09.356665Z",
     "shell.execute_reply": "2022-10-14T20:28:09.355748Z",
     "shell.execute_reply.started": "2022-10-14T20:28:09.341033Z"
    },
    "id": "FdB-hzftYeGl"
   },
   "outputs": [],
   "source": [
    "df['Height_n1']=pd.to_numeric(df['Height_n1'],errors='coerce')"
   ]
  },
  {
   "cell_type": "code",
   "execution_count": null,
   "metadata": {
    "execution": {
     "iopub.execute_input": "2022-10-14T20:28:09.35944Z",
     "iopub.status.busy": "2022-10-14T20:28:09.358233Z",
     "iopub.status.idle": "2022-10-14T20:28:09.379522Z",
     "shell.execute_reply": "2022-10-14T20:28:09.377903Z",
     "shell.execute_reply.started": "2022-10-14T20:28:09.3594Z"
    },
    "id": "-6OYvAplY1WW"
   },
   "outputs": [],
   "source": [
    "df['Height_n2']=pd.to_numeric(df['Height_n2'],errors='coerce')"
   ]
  },
  {
   "cell_type": "markdown",
   "metadata": {
    "id": "FLILOaH91MjV"
   },
   "source": [
    "## Feature engineering "
   ]
  },
  {
   "cell_type": "code",
   "execution_count": null,
   "metadata": {
    "execution": {
     "iopub.execute_input": "2022-10-14T20:28:09.383543Z",
     "iopub.status.busy": "2022-10-14T20:28:09.381409Z",
     "iopub.status.idle": "2022-10-14T20:28:09.39831Z",
     "shell.execute_reply": "2022-10-14T20:28:09.39715Z",
     "shell.execute_reply.started": "2022-10-14T20:28:09.383492Z"
    },
    "id": "lIgPbXs2VK1e"
   },
   "outputs": [],
   "source": [
    "df['Height_m']=(df['Height_n1']* 0.3048)+(df['Height_n2']*0.0254)"
   ]
  },
  {
   "cell_type": "code",
   "execution_count": null,
   "metadata": {
    "execution": {
     "iopub.execute_input": "2022-10-14T20:28:09.400984Z",
     "iopub.status.busy": "2022-10-14T20:28:09.399755Z",
     "iopub.status.idle": "2022-10-14T20:28:09.412072Z",
     "shell.execute_reply": "2022-10-14T20:28:09.410929Z",
     "shell.execute_reply.started": "2022-10-14T20:28:09.400945Z"
    },
    "id": "q8wkpfsBjyh4",
    "outputId": "4816d17d-0b1c-443d-b245-6923022b351e"
   },
   "outputs": [],
   "source": [
    "df['Height_m'].value_counts()"
   ]
  },
  {
   "cell_type": "markdown",
   "metadata": {
    "id": "Pd1eJ_dbAsBo"
   },
   "source": [
    "# handle release clause column"
   ]
  },
  {
   "cell_type": "code",
   "execution_count": null,
   "metadata": {
    "execution": {
     "iopub.execute_input": "2022-10-14T20:28:09.414486Z",
     "iopub.status.busy": "2022-10-14T20:28:09.41356Z",
     "iopub.status.idle": "2022-10-14T20:28:09.424116Z",
     "shell.execute_reply": "2022-10-14T20:28:09.422969Z",
     "shell.execute_reply.started": "2022-10-14T20:28:09.414436Z"
    },
    "id": "dXbr2RxYzziU",
    "outputId": "cefd5b2f-faff-43bb-f03a-60a7cc69b084"
   },
   "outputs": [],
   "source": [
    "df['Release Clause']"
   ]
  },
  {
   "cell_type": "code",
   "execution_count": null,
   "metadata": {
    "execution": {
     "iopub.execute_input": "2022-10-14T20:28:09.42666Z",
     "iopub.status.busy": "2022-10-14T20:28:09.425847Z",
     "iopub.status.idle": "2022-10-14T20:28:09.445531Z",
     "shell.execute_reply": "2022-10-14T20:28:09.44431Z",
     "shell.execute_reply.started": "2022-10-14T20:28:09.426612Z"
    },
    "id": "ohvMa5g5-Mjb"
   },
   "outputs": [],
   "source": [
    "df['Release Clause']=df['Release Clause'].apply(lambda x:x.split('€')[1])"
   ]
  },
  {
   "cell_type": "code",
   "execution_count": null,
   "metadata": {
    "execution": {
     "iopub.execute_input": "2022-10-14T20:28:09.447566Z",
     "iopub.status.busy": "2022-10-14T20:28:09.446987Z",
     "iopub.status.idle": "2022-10-14T20:28:09.541062Z",
     "shell.execute_reply": "2022-10-14T20:28:09.539802Z",
     "shell.execute_reply.started": "2022-10-14T20:28:09.447533Z"
    },
    "id": "FJuv-aFW-fd4"
   },
   "outputs": [],
   "source": [
    "df['Release Clause']=df['Release Clause'].replace({'K': '000', 'M': '000000'}, regex=True)"
   ]
  },
  {
   "cell_type": "code",
   "execution_count": null,
   "metadata": {
    "execution": {
     "iopub.execute_input": "2022-10-14T20:28:09.543483Z",
     "iopub.status.busy": "2022-10-14T20:28:09.542718Z",
     "iopub.status.idle": "2022-10-14T20:28:09.554656Z",
     "shell.execute_reply": "2022-10-14T20:28:09.553392Z",
     "shell.execute_reply.started": "2022-10-14T20:28:09.543436Z"
    },
    "id": "EqMnqilGpOlR",
    "outputId": "d9a79f49-ae0b-47dc-fbdf-666abbf15209"
   },
   "outputs": [],
   "source": [
    "df['Release Clause']"
   ]
  },
  {
   "cell_type": "markdown",
   "metadata": {
    "id": "VdTzgV2F1nbV"
   },
   "source": [
    "##FEATURE ENGINEERING:: calculate the total payment for each player (Release Clause+Wage) :"
   ]
  },
  {
   "cell_type": "code",
   "execution_count": null,
   "metadata": {
    "execution": {
     "iopub.execute_input": "2022-10-14T20:28:09.556655Z",
     "iopub.status.busy": "2022-10-14T20:28:09.556279Z",
     "iopub.status.idle": "2022-10-14T20:28:09.574909Z",
     "shell.execute_reply": "2022-10-14T20:28:09.573648Z",
     "shell.execute_reply.started": "2022-10-14T20:28:09.556625Z"
    },
    "id": "4UoMcxkm1Ycn"
   },
   "outputs": [],
   "source": [
    "df['Release Clause']=pd.to_numeric(df['Release Clause'],errors='coerce')"
   ]
  },
  {
   "cell_type": "code",
   "execution_count": null,
   "metadata": {
    "execution": {
     "iopub.execute_input": "2022-10-14T20:28:09.577259Z",
     "iopub.status.busy": "2022-10-14T20:28:09.576291Z",
     "iopub.status.idle": "2022-10-14T20:28:09.586785Z",
     "shell.execute_reply": "2022-10-14T20:28:09.585651Z",
     "shell.execute_reply.started": "2022-10-14T20:28:09.577222Z"
    },
    "id": "W-TD0zFS1dzk"
   },
   "outputs": [],
   "source": [
    "df['total_payment']=df['Wage']+df['Release Clause']"
   ]
  },
  {
   "cell_type": "code",
   "execution_count": null,
   "metadata": {
    "execution": {
     "iopub.execute_input": "2022-10-14T20:28:09.588777Z",
     "iopub.status.busy": "2022-10-14T20:28:09.588416Z",
     "iopub.status.idle": "2022-10-14T20:28:09.598351Z",
     "shell.execute_reply": "2022-10-14T20:28:09.596836Z",
     "shell.execute_reply.started": "2022-10-14T20:28:09.588747Z"
    },
    "id": "fcIKMXWa1iH4"
   },
   "outputs": [],
   "source": [
    "df['total_payment']=df['total_payment'].astype(int)"
   ]
  },
  {
   "cell_type": "code",
   "execution_count": null,
   "metadata": {
    "execution": {
     "iopub.execute_input": "2022-10-14T20:28:09.600934Z",
     "iopub.status.busy": "2022-10-14T20:28:09.600399Z",
     "iopub.status.idle": "2022-10-14T20:28:09.613123Z",
     "shell.execute_reply": "2022-10-14T20:28:09.611804Z",
     "shell.execute_reply.started": "2022-10-14T20:28:09.600887Z"
    },
    "id": "jTuBVxwv1maU",
    "outputId": "e41427c1-a094-4444-c49c-503d56ca598a"
   },
   "outputs": [],
   "source": [
    "df['total_payment']"
   ]
  },
  {
   "cell_type": "markdown",
   "metadata": {
    "id": "ygC7jBQ_wj6l"
   },
   "source": [
    "# univariate analysis"
   ]
  },
  {
   "cell_type": "markdown",
   "metadata": {
    "id": "dTkfir3Dl0Ag"
   },
   "source": [
    "###1- What is the distribution of the players **AGE** ?"
   ]
  },
  {
   "cell_type": "code",
   "execution_count": null,
   "metadata": {
    "execution": {
     "iopub.execute_input": "2022-10-14T20:28:09.615516Z",
     "iopub.status.busy": "2022-10-14T20:28:09.615073Z",
     "iopub.status.idle": "2022-10-14T20:28:10.143044Z",
     "shell.execute_reply": "2022-10-14T20:28:10.141555Z",
     "shell.execute_reply.started": "2022-10-14T20:28:09.615484Z"
    },
    "id": "enSeLRCzwLzl",
    "outputId": "ed6923a0-87de-4721-952f-dd5091625f73"
   },
   "outputs": [],
   "source": [
    "sns.kdeplot(df['Age'],shade=True,color='r')"
   ]
  },
  {
   "cell_type": "markdown",
   "metadata": {
    "id": "B2iPBPj-x5hl"
   },
   "source": [
    "# 2-what is the range of ***overall*** evaluation for the football players ?\n"
   ]
  },
  {
   "cell_type": "code",
   "execution_count": null,
   "metadata": {
    "execution": {
     "iopub.execute_input": "2022-10-14T20:28:10.145408Z",
     "iopub.status.busy": "2022-10-14T20:28:10.144877Z",
     "iopub.status.idle": "2022-10-14T20:28:10.626068Z",
     "shell.execute_reply": "2022-10-14T20:28:10.62479Z",
     "shell.execute_reply.started": "2022-10-14T20:28:10.145361Z"
    },
    "id": "u6htzHYWwSha",
    "outputId": "04673659-028a-45bf-ad1e-6f5881af19ed"
   },
   "outputs": [],
   "source": [
    "sns.histplot(df['Overall'])"
   ]
  },
  {
   "cell_type": "markdown",
   "metadata": {
    "id": "IIKNTZLiyFJH"
   },
   "source": [
    "## 3- How many players in each **position**? "
   ]
  },
  {
   "cell_type": "code",
   "execution_count": null,
   "metadata": {
    "execution": {
     "iopub.execute_input": "2022-10-14T20:28:10.627905Z",
     "iopub.status.busy": "2022-10-14T20:28:10.627485Z",
     "iopub.status.idle": "2022-10-14T20:28:10.639028Z",
     "shell.execute_reply": "2022-10-14T20:28:10.637861Z",
     "shell.execute_reply.started": "2022-10-14T20:28:10.627862Z"
    },
    "id": "12o-RxWqnXkT"
   },
   "outputs": [],
   "source": [
    "c = pd.DataFrame(df.groupby(\"Position\")['Position'].count().sort_values(ascending=False).head(20))"
   ]
  },
  {
   "cell_type": "code",
   "execution_count": null,
   "metadata": {
    "execution": {
     "iopub.execute_input": "2022-10-14T20:28:10.642035Z",
     "iopub.status.busy": "2022-10-14T20:28:10.641205Z",
     "iopub.status.idle": "2022-10-14T20:28:11.085074Z",
     "shell.execute_reply": "2022-10-14T20:28:11.083689Z",
     "shell.execute_reply.started": "2022-10-14T20:28:10.641986Z"
    },
    "id": "VaZ46tpnrOFI",
    "outputId": "ed59a6e6-3b93-4b26-ca80-e8d81c715aa3"
   },
   "outputs": [],
   "source": [
    "sns.barplot(data = c, x=c.index , y='Position')\n",
    "plt.xticks(rotation = 45);"
   ]
  },
  {
   "cell_type": "markdown",
   "metadata": {
    "id": "ZspIdAQyyzxJ"
   },
   "source": [
    "## 4-Number of players evaluated by there **work rate** ??"
   ]
  },
  {
   "cell_type": "code",
   "execution_count": null,
   "metadata": {
    "execution": {
     "iopub.execute_input": "2022-10-14T20:28:11.0872Z",
     "iopub.status.busy": "2022-10-14T20:28:11.086813Z",
     "iopub.status.idle": "2022-10-14T20:28:11.439106Z",
     "shell.execute_reply": "2022-10-14T20:28:11.438055Z",
     "shell.execute_reply.started": "2022-10-14T20:28:11.08716Z"
    },
    "id": "uE0X9u0mwYeQ",
    "outputId": "30579511-e4ad-477a-bffc-9b2d9e0b3aad"
   },
   "outputs": [],
   "source": [
    "sns.countplot(data=df,y='Work Rate')\n",
    "plt.xticks(rotation=45)"
   ]
  },
  {
   "cell_type": "markdown",
   "metadata": {
    "id": "jhU_RgLYPO1G"
   },
   "source": [
    "## 5-what is the distrbution of the  average **ages** of the players **strength**?"
   ]
  },
  {
   "cell_type": "code",
   "execution_count": null,
   "metadata": {
    "execution": {
     "iopub.execute_input": "2022-10-14T20:28:11.440906Z",
     "iopub.status.busy": "2022-10-14T20:28:11.440452Z",
     "iopub.status.idle": "2022-10-14T20:28:11.464477Z",
     "shell.execute_reply": "2022-10-14T20:28:11.463395Z",
     "shell.execute_reply.started": "2022-10-14T20:28:11.440869Z"
    },
    "id": "FkeDGZyKPOHO"
   },
   "outputs": [],
   "source": [
    "\n",
    "s_a=df.groupby('Strength')[['Age']].mean()"
   ]
  },
  {
   "cell_type": "code",
   "execution_count": null,
   "metadata": {
    "execution": {
     "iopub.execute_input": "2022-10-14T20:28:11.466548Z",
     "iopub.status.busy": "2022-10-14T20:28:11.466112Z",
     "iopub.status.idle": "2022-10-14T20:28:11.813946Z",
     "shell.execute_reply": "2022-10-14T20:28:11.813084Z",
     "shell.execute_reply.started": "2022-10-14T20:28:11.466514Z"
    },
    "id": "nNyCgi3X9W-u",
    "outputId": "5c32bf14-3fe0-4326-b787-3941321f0219"
   },
   "outputs": [],
   "source": [
    "sns.distplot(s_a)"
   ]
  },
  {
   "cell_type": "markdown",
   "metadata": {
    "id": "omWZhEWtpkXA"
   },
   "source": [
    "##6- What is the relation between the **Value** the fifa put for the player and **wage** the players take in fact ?"
   ]
  },
  {
   "cell_type": "code",
   "execution_count": null,
   "metadata": {
    "execution": {
     "iopub.execute_input": "2022-10-14T20:28:11.815936Z",
     "iopub.status.busy": "2022-10-14T20:28:11.81507Z",
     "iopub.status.idle": "2022-10-14T20:28:21.477987Z",
     "shell.execute_reply": "2022-10-14T20:28:21.47702Z",
     "shell.execute_reply.started": "2022-10-14T20:28:11.815901Z"
    },
    "id": "thydQUnh0XkU",
    "outputId": "b52ed103-a87a-4ef9-b18a-1556ae5c20a0"
   },
   "outputs": [],
   "source": [
    "sns.jointplot(data=df,x='Value',y='Wage')"
   ]
  },
  {
   "cell_type": "markdown",
   "metadata": {
    "id": "umX4qwO804CQ"
   },
   "source": [
    "## 7-what is the most **preffered foot** for the players ?"
   ]
  },
  {
   "cell_type": "code",
   "execution_count": null,
   "metadata": {
    "execution": {
     "iopub.execute_input": "2022-10-14T20:28:21.480261Z",
     "iopub.status.busy": "2022-10-14T20:28:21.479411Z",
     "iopub.status.idle": "2022-10-14T20:28:21.620884Z",
     "shell.execute_reply": "2022-10-14T20:28:21.619154Z",
     "shell.execute_reply.started": "2022-10-14T20:28:21.480218Z"
    },
    "id": "3KYbk_-L0opM",
    "outputId": "879ed451-9167-4a16-c8d4-f61f66daf32b"
   },
   "outputs": [],
   "source": [
    "x=df['Preferred Foot'].value_counts()\n",
    "y=['Right foot','Left foot']\n",
    "cols = ['c','m']\n",
    "plt.pie(x,labels=y,colors=cols)"
   ]
  },
  {
   "cell_type": "code",
   "execution_count": null,
   "metadata": {
    "execution": {
     "iopub.execute_input": "2022-10-14T20:28:21.624511Z",
     "iopub.status.busy": "2022-10-14T20:28:21.623782Z",
     "iopub.status.idle": "2022-10-14T20:28:21.636399Z",
     "shell.execute_reply": "2022-10-14T20:28:21.634684Z",
     "shell.execute_reply.started": "2022-10-14T20:28:21.624448Z"
    },
    "id": "SKNRu3Yyz-Gg",
    "outputId": "50411ca9-0495-4141-b854-ebfea453525f"
   },
   "outputs": [],
   "source": [
    "df.columns"
   ]
  },
  {
   "cell_type": "markdown",
   "metadata": {
    "id": "TYFfeGdKwZ1n"
   },
   "source": []
  },
  {
   "cell_type": "markdown",
   "metadata": {
    "id": "VJBIBPg8rU2R"
   },
   "source": [
    "## 8-what are the best **50 player**s evatuated by over all grade from the fifa?\n",
    "we should choose from them our team "
   ]
  },
  {
   "cell_type": "code",
   "execution_count": null,
   "metadata": {
    "execution": {
     "iopub.execute_input": "2022-10-14T20:28:21.640165Z",
     "iopub.status.busy": "2022-10-14T20:28:21.639328Z",
     "iopub.status.idle": "2022-10-14T20:28:21.692071Z",
     "shell.execute_reply": "2022-10-14T20:28:21.690797Z",
     "shell.execute_reply.started": "2022-10-14T20:28:21.640102Z"
    },
    "id": "dBVGgrZGz15w"
   },
   "outputs": [],
   "source": [
    "players=df.groupby(['Age','Overall','Preferred Foot','Position','Height_m','total_payment','Wage','Release Clause','Contract Valid Until'])[['Name']].sum().sort_values(by='Overall',ascending=False)[1:51]"
   ]
  },
  {
   "cell_type": "code",
   "execution_count": null,
   "metadata": {
    "execution": {
     "iopub.execute_input": "2022-10-14T20:28:21.694269Z",
     "iopub.status.busy": "2022-10-14T20:28:21.693882Z",
     "iopub.status.idle": "2022-10-14T20:28:21.728969Z",
     "shell.execute_reply": "2022-10-14T20:28:21.727681Z",
     "shell.execute_reply.started": "2022-10-14T20:28:21.694237Z"
    },
    "id": "yw43NjRtAG0Q",
    "outputId": "71022a49-0459-421e-fab6-7ebfa560c4ab"
   },
   "outputs": [],
   "source": [
    "players"
   ]
  },
  {
   "cell_type": "markdown",
   "metadata": {
    "id": "cRrG5SJdkE5R"
   },
   "source": [
    "# 9-The best 10 goalkeepers players we can choose from them for our team "
   ]
  },
  {
   "cell_type": "code",
   "execution_count": null,
   "metadata": {
    "execution": {
     "iopub.execute_input": "2022-10-14T20:28:21.731439Z",
     "iopub.status.busy": "2022-10-14T20:28:21.730912Z",
     "iopub.status.idle": "2022-10-14T20:28:21.742105Z",
     "shell.execute_reply": "2022-10-14T20:28:21.740802Z",
     "shell.execute_reply.started": "2022-10-14T20:28:21.731393Z"
    },
    "id": "B6Csj0EUgQIT"
   },
   "outputs": [],
   "source": [
    "df_GK=df[df['Position']=='GK']"
   ]
  },
  {
   "cell_type": "code",
   "execution_count": null,
   "metadata": {
    "execution": {
     "iopub.execute_input": "2022-10-14T20:28:21.744226Z",
     "iopub.status.busy": "2022-10-14T20:28:21.743455Z",
     "iopub.status.idle": "2022-10-14T20:28:21.763086Z",
     "shell.execute_reply": "2022-10-14T20:28:21.761872Z",
     "shell.execute_reply.started": "2022-10-14T20:28:21.744163Z"
    },
    "id": "aU99PPUYgiaF"
   },
   "outputs": [],
   "source": [
    "goalkeepers=df_GK.groupby(['GKReflexes','GKPositioning','GKKicking','GKHandling','GKDiving','Height_m','Strength','Club','Nationality','Age','Overall','Contract Valid Until','total_payment'])[['Name']].sum().sort_values(by='Overall',ascending=False)[1:11]"
   ]
  },
  {
   "cell_type": "code",
   "execution_count": null,
   "metadata": {
    "execution": {
     "iopub.execute_input": "2022-10-14T20:28:21.764957Z",
     "iopub.status.busy": "2022-10-14T20:28:21.764601Z",
     "iopub.status.idle": "2022-10-14T20:28:21.793931Z",
     "shell.execute_reply": "2022-10-14T20:28:21.792643Z",
     "shell.execute_reply.started": "2022-10-14T20:28:21.764929Z"
    },
    "id": "VTM18UAGzTGM",
    "outputId": "87e281c2-6f53-42f8-9064-2648e89918e8"
   },
   "outputs": [],
   "source": [
    "goalkeepers"
   ]
  },
  {
   "cell_type": "markdown",
   "metadata": {
    "id": "ioEsSiZhvQZv"
   },
   "source": [
    "# Drop **unused** columns "
   ]
  },
  {
   "cell_type": "code",
   "execution_count": null,
   "metadata": {
    "execution": {
     "iopub.execute_input": "2022-10-14T20:28:21.796231Z",
     "iopub.status.busy": "2022-10-14T20:28:21.795451Z",
     "iopub.status.idle": "2022-10-14T20:28:21.810655Z",
     "shell.execute_reply": "2022-10-14T20:28:21.809789Z",
     "shell.execute_reply.started": "2022-10-14T20:28:21.796192Z"
    },
    "id": "87PN_4WhbzOz"
   },
   "outputs": [],
   "source": [
    "df.drop(columns=['Height','Height_n1','Height_n2'],axis=1,inplace=True)"
   ]
  },
  {
   "cell_type": "markdown",
   "metadata": {
    "id": "VXXpgLxT3HIN"
   },
   "source": [
    "## visualize the **boxplo**t for the *numerical* columns to detect the **outliers** \n",
    "\n"
   ]
  },
  {
   "cell_type": "code",
   "execution_count": null,
   "metadata": {
    "execution": {
     "iopub.execute_input": "2022-10-14T20:28:21.812715Z",
     "iopub.status.busy": "2022-10-14T20:28:21.81233Z",
     "iopub.status.idle": "2022-10-14T20:28:21.827033Z",
     "shell.execute_reply": "2022-10-14T20:28:21.825566Z",
     "shell.execute_reply.started": "2022-10-14T20:28:21.812682Z"
    },
    "id": "G4TGPpe83Bq8"
   },
   "outputs": [],
   "source": [
    "numeric_columns=df.select_dtypes(include=np.number).columns.tolist()"
   ]
  },
  {
   "cell_type": "code",
   "execution_count": null,
   "metadata": {
    "execution": {
     "iopub.execute_input": "2022-10-14T20:28:21.829749Z",
     "iopub.status.busy": "2022-10-14T20:28:21.828883Z",
     "iopub.status.idle": "2022-10-14T20:28:33.568951Z",
     "shell.execute_reply": "2022-10-14T20:28:33.567569Z",
     "shell.execute_reply.started": "2022-10-14T20:28:21.829695Z"
    },
    "id": "_LMeG1yq3GFr",
    "outputId": "6fc88fb1-352d-4cf7-957a-9f6197e7045b"
   },
   "outputs": [],
   "source": [
    "for col in numeric_columns:\n",
    "  sns.boxplot(df[col])\n",
    "  plt.show()"
   ]
  },
  {
   "cell_type": "code",
   "execution_count": null,
   "metadata": {
    "execution": {
     "iopub.execute_input": "2022-10-14T20:28:33.57061Z",
     "iopub.status.busy": "2022-10-14T20:28:33.570236Z",
     "iopub.status.idle": "2022-10-14T20:28:33.60997Z",
     "shell.execute_reply": "2022-10-14T20:28:33.60867Z",
     "shell.execute_reply.started": "2022-10-14T20:28:33.570579Z"
    },
    "id": "g4NgbrGB3eeI"
   },
   "outputs": [],
   "source": [
    "max_wageonly = df.groupby('Name')[['Wage']].max().sort_values(by='Wage',ascending = False).head(31)"
   ]
  },
  {
   "cell_type": "code",
   "execution_count": null,
   "metadata": {
    "execution": {
     "iopub.execute_input": "2022-10-14T20:28:33.614069Z",
     "iopub.status.busy": "2022-10-14T20:28:33.613087Z",
     "iopub.status.idle": "2022-10-14T20:28:34.490439Z",
     "shell.execute_reply": "2022-10-14T20:28:34.489134Z",
     "shell.execute_reply.started": "2022-10-14T20:28:33.613921Z"
    },
    "id": "RbFQc3iy3iK5",
    "outputId": "122c0abf-52c3-4530-9249-456dc63b7a77"
   },
   "outputs": [],
   "source": [
    "plt.figure(figsize=[15,8])\n",
    "sns.barplot(x=max_wageonly['Wage'],y=max_wageonly.index, palette='mako')\n",
    "plt.title(' price of each player top 30')\n",
    "plt.xticks(rotation=45)\n",
    "plt.savefig('profit.png',bbox_inches='tight',transparent=False,dpi=None, facecolor='w', edgecolor='r')"
   ]
  },
  {
   "cell_type": "markdown",
   "metadata": {
    "id": "JEEmo5EA3AKF"
   },
   "source": [
    "## visualized total payment(wage +released clauesed payment) for each player of top 30"
   ]
  },
  {
   "cell_type": "code",
   "execution_count": null,
   "metadata": {
    "execution": {
     "iopub.execute_input": "2022-10-14T20:28:34.49244Z",
     "iopub.status.busy": "2022-10-14T20:28:34.492079Z",
     "iopub.status.idle": "2022-10-14T20:28:34.524303Z",
     "shell.execute_reply": "2022-10-14T20:28:34.523026Z",
     "shell.execute_reply.started": "2022-10-14T20:28:34.492409Z"
    },
    "id": "5DYoNgru17BZ"
   },
   "outputs": [],
   "source": [
    "max_wage = df.groupby('Name')[['total_payment']].max().sort_values(by='total_payment',ascending = False).head(31)"
   ]
  },
  {
   "cell_type": "code",
   "execution_count": null,
   "metadata": {
    "execution": {
     "iopub.execute_input": "2022-10-14T20:28:34.526149Z",
     "iopub.status.busy": "2022-10-14T20:28:34.525798Z",
     "iopub.status.idle": "2022-10-14T20:28:35.380131Z",
     "shell.execute_reply": "2022-10-14T20:28:35.378854Z",
     "shell.execute_reply.started": "2022-10-14T20:28:34.52612Z"
    },
    "id": "jlNsSBo_2LQ4",
    "outputId": "7d7340ce-e3f2-469a-847f-f3a8ccd740ca"
   },
   "outputs": [],
   "source": [
    "plt.figure(figsize=[15,8])\n",
    "sns.barplot(x=max_wage['total_payment'],y=max_wage.index)\n",
    "plt.title(' Total payment for each player top 30')\n",
    "plt.xticks(rotation=45)\n",
    "plt.savefig('profit.png',bbox_inches='tight',transparent=False,dpi=None, facecolor='w', edgecolor='b')"
   ]
  },
  {
   "cell_type": "markdown",
   "metadata": {
    "id": "LvNshJ_U56Fj"
   },
   "source": [
    "## Detecting outliers "
   ]
  },
  {
   "cell_type": "code",
   "execution_count": null,
   "metadata": {
    "execution": {
     "iopub.execute_input": "2022-10-14T20:28:35.382532Z",
     "iopub.status.busy": "2022-10-14T20:28:35.382097Z",
     "iopub.status.idle": "2022-10-14T20:28:50.249978Z",
     "shell.execute_reply": "2022-10-14T20:28:50.24877Z",
     "shell.execute_reply.started": "2022-10-14T20:28:35.382495Z"
    },
    "id": "701nrIx_3fIY",
    "outputId": "1624e40c-91b4-4d45-88b6-50f462f53cd0"
   },
   "outputs": [],
   "source": [
    "! pip install datasist"
   ]
  },
  {
   "cell_type": "code",
   "execution_count": null,
   "metadata": {
    "execution": {
     "iopub.execute_input": "2022-10-14T20:28:50.253007Z",
     "iopub.status.busy": "2022-10-14T20:28:50.252545Z",
     "iopub.status.idle": "2022-10-14T20:28:50.420009Z",
     "shell.execute_reply": "2022-10-14T20:28:50.418358Z",
     "shell.execute_reply.started": "2022-10-14T20:28:50.252965Z"
    },
    "id": "orHTk5RW3mIm"
   },
   "outputs": [],
   "source": [
    "from datasist.structdata import detect_outliers"
   ]
  },
  {
   "cell_type": "code",
   "execution_count": null,
   "metadata": {
    "execution": {
     "iopub.execute_input": "2022-10-14T20:28:50.422294Z",
     "iopub.status.busy": "2022-10-14T20:28:50.421886Z",
     "iopub.status.idle": "2022-10-14T20:28:50.446151Z",
     "shell.execute_reply": "2022-10-14T20:28:50.444992Z",
     "shell.execute_reply.started": "2022-10-14T20:28:50.422262Z"
    },
    "id": "1jsslSq83wBC"
   },
   "outputs": [],
   "source": [
    "indeex=detect_outliers(df,0,['GKDiving','GKHandling','GKPositioning'])"
   ]
  },
  {
   "cell_type": "code",
   "execution_count": null,
   "metadata": {
    "execution": {
     "iopub.execute_input": "2022-10-14T20:28:50.450697Z",
     "iopub.status.busy": "2022-10-14T20:28:50.449869Z",
     "iopub.status.idle": "2022-10-14T20:28:50.458357Z",
     "shell.execute_reply": "2022-10-14T20:28:50.456807Z",
     "shell.execute_reply.started": "2022-10-14T20:28:50.450659Z"
    },
    "id": "cGuUy15k46Bl",
    "outputId": "0e5a1d07-59cb-48e5-b718-613f07df4ba0"
   },
   "outputs": [],
   "source": [
    "len(indeex)"
   ]
  },
  {
   "cell_type": "code",
   "execution_count": null,
   "metadata": {
    "execution": {
     "iopub.execute_input": "2022-10-14T20:28:50.460467Z",
     "iopub.status.busy": "2022-10-14T20:28:50.460014Z",
     "iopub.status.idle": "2022-10-14T20:28:50.482992Z",
     "shell.execute_reply": "2022-10-14T20:28:50.481639Z",
     "shell.execute_reply.started": "2022-10-14T20:28:50.46043Z"
    },
    "id": "C2LqsYXZ5MbX"
   },
   "outputs": [],
   "source": [
    "df.drop(indeex,inplace=True)"
   ]
  },
  {
   "cell_type": "code",
   "execution_count": null,
   "metadata": {
    "execution": {
     "iopub.execute_input": "2022-10-14T20:28:50.486025Z",
     "iopub.status.busy": "2022-10-14T20:28:50.484885Z",
     "iopub.status.idle": "2022-10-14T20:28:50.51917Z",
     "shell.execute_reply": "2022-10-14T20:28:50.51777Z",
     "shell.execute_reply.started": "2022-10-14T20:28:50.485971Z"
    },
    "id": "0ugz4oYu5aI-",
    "outputId": "6d79691b-5d09-4c6c-baeb-af3be7c0a8fc"
   },
   "outputs": [],
   "source": [
    "df.info()"
   ]
  }
 ],
 "metadata": {
  "kernelspec": {
   "display_name": "Python 3",
   "language": "python",
   "name": "python3"
  },
  "language_info": {
   "codemirror_mode": {
    "name": "ipython",
    "version": 3
   },
   "file_extension": ".py",
   "mimetype": "text/x-python",
   "name": "python",
   "nbconvert_exporter": "python",
   "pygments_lexer": "ipython3",
   "version": "3.6.4"
  }
 },
 "nbformat": 4,
 "nbformat_minor": 4
}
